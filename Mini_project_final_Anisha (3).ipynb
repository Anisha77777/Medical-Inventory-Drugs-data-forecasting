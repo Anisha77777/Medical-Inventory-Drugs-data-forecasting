{
 "cells": [
  {
   "cell_type": "markdown",
   "id": "9459a690",
   "metadata": {
    "id": "9459a690"
   },
   "source": [
    "#ANISHA SINGH"
   ]
  },
  {
   "cell_type": "code",
   "execution_count": 41,
   "id": "839ddfe6",
   "metadata": {
    "executionInfo": {
     "elapsed": 402,
     "status": "ok",
     "timestamp": 1705925729650,
     "user": {
      "displayName": "Anisha TaazaTV",
      "userId": "13026329044302659371"
     },
     "user_tz": -330
    },
    "id": "839ddfe6"
   },
   "outputs": [],
   "source": [
    "import numpy as np\n",
    "import matplotlib.pyplot as plt\n",
    "import pandas as pd\n",
    "import seaborn as sns\n",
    "import sklearn as preprocessing\n",
    "from sklearn.impute import SimpleImputer"
   ]
  },
  {
   "cell_type": "code",
   "execution_count": 42,
   "id": "785d2822",
   "metadata": {
    "colab": {
     "base_uri": "https://localhost:8080/",
     "height": 773
    },
    "executionInfo": {
     "elapsed": 515,
     "status": "ok",
     "timestamp": 1705925731122,
     "user": {
      "displayName": "Anisha TaazaTV",
      "userId": "13026329044302659371"
     },
     "user_tz": -330
    },
    "id": "785d2822",
    "outputId": "17a8540d-1809-4912-8236-67756d007a17"
   },
   "outputs": [
    {
     "data": {
      "text/html": [
       "\n",
       "  <div id=\"df-cb5ec01c-76dc-4ddd-b26d-1386b94fd6e5\" class=\"colab-df-container\">\n",
       "    <div>\n",
       "<style scoped>\n",
       "    .dataframe tbody tr th:only-of-type {\n",
       "        vertical-align: middle;\n",
       "    }\n",
       "\n",
       "    .dataframe tbody tr th {\n",
       "        vertical-align: top;\n",
       "    }\n",
       "\n",
       "    .dataframe thead th {\n",
       "        text-align: right;\n",
       "    }\n",
       "</style>\n",
       "<table border=\"1\" class=\"dataframe\">\n",
       "  <thead>\n",
       "    <tr style=\"text-align: right;\">\n",
       "      <th></th>\n",
       "      <th>Typeofsales</th>\n",
       "      <th>Patient_ID</th>\n",
       "      <th>Specialisation</th>\n",
       "      <th>Dept</th>\n",
       "      <th>Dateofbill</th>\n",
       "      <th>Quantity</th>\n",
       "      <th>ReturnQuantity</th>\n",
       "      <th>Final_Cost</th>\n",
       "      <th>Final_Sales</th>\n",
       "      <th>RtnMRP</th>\n",
       "      <th>Formulation</th>\n",
       "      <th>DrugName</th>\n",
       "      <th>SubCat</th>\n",
       "      <th>SubCat1</th>\n",
       "    </tr>\n",
       "  </thead>\n",
       "  <tbody>\n",
       "    <tr>\n",
       "      <th>0</th>\n",
       "      <td>Sale</td>\n",
       "      <td>12018098765</td>\n",
       "      <td>Specialisation6</td>\n",
       "      <td>Department1</td>\n",
       "      <td>06-01-2022</td>\n",
       "      <td>1</td>\n",
       "      <td>0</td>\n",
       "      <td>55.406</td>\n",
       "      <td>59.260</td>\n",
       "      <td>0.0</td>\n",
       "      <td>Form1</td>\n",
       "      <td>ZINC ACETATE 20MG/5ML SYP</td>\n",
       "      <td>SYRUP &amp; SUSPENSION</td>\n",
       "      <td>VITAMINS &amp; MINERALS</td>\n",
       "    </tr>\n",
       "    <tr>\n",
       "      <th>1</th>\n",
       "      <td>Sale</td>\n",
       "      <td>12018103897</td>\n",
       "      <td>Specialisation7</td>\n",
       "      <td>Department1</td>\n",
       "      <td>7/23/2022</td>\n",
       "      <td>1</td>\n",
       "      <td>0</td>\n",
       "      <td>768.638</td>\n",
       "      <td>950.800</td>\n",
       "      <td>0.0</td>\n",
       "      <td>Form1</td>\n",
       "      <td>CEFTAZIDIME 2GM+AVIBACTAM 500MG</td>\n",
       "      <td>INJECTIONS</td>\n",
       "      <td>ANTI-INFECTIVES</td>\n",
       "    </tr>\n",
       "    <tr>\n",
       "      <th>2</th>\n",
       "      <td>Sale</td>\n",
       "      <td>12018101123</td>\n",
       "      <td>Specialisation2</td>\n",
       "      <td>Department3</td>\n",
       "      <td>6/23/2022</td>\n",
       "      <td>1</td>\n",
       "      <td>0</td>\n",
       "      <td>774.266</td>\n",
       "      <td>4004.214</td>\n",
       "      <td>0.0</td>\n",
       "      <td>Form2</td>\n",
       "      <td>EPTIFIBATIDE 0.75MG/ML</td>\n",
       "      <td>INJECTIONS</td>\n",
       "      <td>CARDIOVASCULAR &amp; HEMATOPOIETIC SYSTEM</td>\n",
       "    </tr>\n",
       "    <tr>\n",
       "      <th>3</th>\n",
       "      <td>Sale</td>\n",
       "      <td>12018079281</td>\n",
       "      <td>Specialisation40</td>\n",
       "      <td>Department1</td>\n",
       "      <td>3/17/2022</td>\n",
       "      <td>2</td>\n",
       "      <td>0</td>\n",
       "      <td>40.798</td>\n",
       "      <td>81.044</td>\n",
       "      <td>0.0</td>\n",
       "      <td>Form1</td>\n",
       "      <td>WATER FOR INJECTION 10ML SOLUTION</td>\n",
       "      <td>INJECTIONS</td>\n",
       "      <td>INTRAVENOUS &amp; OTHER STERILE SOLUTIONS</td>\n",
       "    </tr>\n",
       "    <tr>\n",
       "      <th>4</th>\n",
       "      <td>Sale</td>\n",
       "      <td>12018117928</td>\n",
       "      <td>Specialisation5</td>\n",
       "      <td>Department1</td>\n",
       "      <td>12/21/2022</td>\n",
       "      <td>1</td>\n",
       "      <td>0</td>\n",
       "      <td>40.434</td>\n",
       "      <td>40.504</td>\n",
       "      <td>0.0</td>\n",
       "      <td>Form1</td>\n",
       "      <td>LORAZEPAM 1MG</td>\n",
       "      <td>TABLETS &amp; CAPSULES</td>\n",
       "      <td>CENTRAL NERVOUS SYSTEM</td>\n",
       "    </tr>\n",
       "    <tr>\n",
       "      <th>...</th>\n",
       "      <td>...</td>\n",
       "      <td>...</td>\n",
       "      <td>...</td>\n",
       "      <td>...</td>\n",
       "      <td>...</td>\n",
       "      <td>...</td>\n",
       "      <td>...</td>\n",
       "      <td>...</td>\n",
       "      <td>...</td>\n",
       "      <td>...</td>\n",
       "      <td>...</td>\n",
       "      <td>...</td>\n",
       "      <td>...</td>\n",
       "      <td>...</td>\n",
       "    </tr>\n",
       "    <tr>\n",
       "      <th>14213</th>\n",
       "      <td>Sale</td>\n",
       "      <td>12018099994</td>\n",
       "      <td>Specialisation39</td>\n",
       "      <td>Department1</td>\n",
       "      <td>6/19/2022</td>\n",
       "      <td>3</td>\n",
       "      <td>0</td>\n",
       "      <td>61.436</td>\n",
       "      <td>145.200</td>\n",
       "      <td>0.0</td>\n",
       "      <td>Form1</td>\n",
       "      <td>SODIUM CHLORIDE IVF 100ML</td>\n",
       "      <td>IV FLUIDS, ELECTROLYTES, TPN</td>\n",
       "      <td>INTRAVENOUS &amp; OTHER STERILE SOLUTIONS</td>\n",
       "    </tr>\n",
       "    <tr>\n",
       "      <th>14214</th>\n",
       "      <td>Sale</td>\n",
       "      <td>12018047025</td>\n",
       "      <td>Specialisation4</td>\n",
       "      <td>Department1</td>\n",
       "      <td>2/24/2022</td>\n",
       "      <td>2</td>\n",
       "      <td>0</td>\n",
       "      <td>64.448</td>\n",
       "      <td>119.692</td>\n",
       "      <td>0.0</td>\n",
       "      <td>Form1</td>\n",
       "      <td>PIPERACILLIN 1GM + TAZOBACTAM 125MG</td>\n",
       "      <td>INJECTIONS</td>\n",
       "      <td>ANTI-INFECTIVES</td>\n",
       "    </tr>\n",
       "    <tr>\n",
       "      <th>14215</th>\n",
       "      <td>Sale</td>\n",
       "      <td>12018017139</td>\n",
       "      <td>Specialisation1</td>\n",
       "      <td>Department1</td>\n",
       "      <td>6/27/2022</td>\n",
       "      <td>4</td>\n",
       "      <td>0</td>\n",
       "      <td>74.944</td>\n",
       "      <td>642.040</td>\n",
       "      <td>0.0</td>\n",
       "      <td>Form1</td>\n",
       "      <td>PARACETAMOL 1GM IV INJ</td>\n",
       "      <td>INJECTIONS</td>\n",
       "      <td>CENTRAL NERVOUS SYSTEM</td>\n",
       "    </tr>\n",
       "    <tr>\n",
       "      <th>14216</th>\n",
       "      <td>Sale</td>\n",
       "      <td>12018044140</td>\n",
       "      <td>Specialisation20</td>\n",
       "      <td>Department1</td>\n",
       "      <td>7/30/2022</td>\n",
       "      <td>1</td>\n",
       "      <td>0</td>\n",
       "      <td>111.680</td>\n",
       "      <td>181.000</td>\n",
       "      <td>0.0</td>\n",
       "      <td>Form3</td>\n",
       "      <td>MEROPENEM 1GM INJ</td>\n",
       "      <td>INJECTIONS</td>\n",
       "      <td>ANTI-INFECTIVES</td>\n",
       "    </tr>\n",
       "    <tr>\n",
       "      <th>14217</th>\n",
       "      <td>Sale</td>\n",
       "      <td>12018116820</td>\n",
       "      <td>Specialisation26</td>\n",
       "      <td>Department1</td>\n",
       "      <td>10/24/2022</td>\n",
       "      <td>3</td>\n",
       "      <td>0</td>\n",
       "      <td>46.182</td>\n",
       "      <td>133.800</td>\n",
       "      <td>0.0</td>\n",
       "      <td>Form1</td>\n",
       "      <td>TRAMADOL</td>\n",
       "      <td>INJECTIONS</td>\n",
       "      <td>CENTRAL NERVOUS SYSTEM</td>\n",
       "    </tr>\n",
       "  </tbody>\n",
       "</table>\n",
       "<p>14218 rows × 14 columns</p>\n",
       "</div>\n",
       "    <div class=\"colab-df-buttons\">\n",
       "\n",
       "  <div class=\"colab-df-container\">\n",
       "    <button class=\"colab-df-convert\" onclick=\"convertToInteractive('df-cb5ec01c-76dc-4ddd-b26d-1386b94fd6e5')\"\n",
       "            title=\"Convert this dataframe to an interactive table.\"\n",
       "            style=\"display:none;\">\n",
       "\n",
       "  <svg xmlns=\"http://www.w3.org/2000/svg\" height=\"24px\" viewBox=\"0 -960 960 960\">\n",
       "    <path d=\"M120-120v-720h720v720H120Zm60-500h600v-160H180v160Zm220 220h160v-160H400v160Zm0 220h160v-160H400v160ZM180-400h160v-160H180v160Zm440 0h160v-160H620v160ZM180-180h160v-160H180v160Zm440 0h160v-160H620v160Z\"/>\n",
       "  </svg>\n",
       "    </button>\n",
       "\n",
       "  <style>\n",
       "    .colab-df-container {\n",
       "      display:flex;\n",
       "      gap: 12px;\n",
       "    }\n",
       "\n",
       "    .colab-df-convert {\n",
       "      background-color: #E8F0FE;\n",
       "      border: none;\n",
       "      border-radius: 50%;\n",
       "      cursor: pointer;\n",
       "      display: none;\n",
       "      fill: #1967D2;\n",
       "      height: 32px;\n",
       "      padding: 0 0 0 0;\n",
       "      width: 32px;\n",
       "    }\n",
       "\n",
       "    .colab-df-convert:hover {\n",
       "      background-color: #E2EBFA;\n",
       "      box-shadow: 0px 1px 2px rgba(60, 64, 67, 0.3), 0px 1px 3px 1px rgba(60, 64, 67, 0.15);\n",
       "      fill: #174EA6;\n",
       "    }\n",
       "\n",
       "    .colab-df-buttons div {\n",
       "      margin-bottom: 4px;\n",
       "    }\n",
       "\n",
       "    [theme=dark] .colab-df-convert {\n",
       "      background-color: #3B4455;\n",
       "      fill: #D2E3FC;\n",
       "    }\n",
       "\n",
       "    [theme=dark] .colab-df-convert:hover {\n",
       "      background-color: #434B5C;\n",
       "      box-shadow: 0px 1px 3px 1px rgba(0, 0, 0, 0.15);\n",
       "      filter: drop-shadow(0px 1px 2px rgba(0, 0, 0, 0.3));\n",
       "      fill: #FFFFFF;\n",
       "    }\n",
       "  </style>\n",
       "\n",
       "    <script>\n",
       "      const buttonEl =\n",
       "        document.querySelector('#df-cb5ec01c-76dc-4ddd-b26d-1386b94fd6e5 button.colab-df-convert');\n",
       "      buttonEl.style.display =\n",
       "        google.colab.kernel.accessAllowed ? 'block' : 'none';\n",
       "\n",
       "      async function convertToInteractive(key) {\n",
       "        const element = document.querySelector('#df-cb5ec01c-76dc-4ddd-b26d-1386b94fd6e5');\n",
       "        const dataTable =\n",
       "          await google.colab.kernel.invokeFunction('convertToInteractive',\n",
       "                                                    [key], {});\n",
       "        if (!dataTable) return;\n",
       "\n",
       "        const docLinkHtml = 'Like what you see? Visit the ' +\n",
       "          '<a target=\"_blank\" href=https://colab.research.google.com/notebooks/data_table.ipynb>data table notebook</a>'\n",
       "          + ' to learn more about interactive tables.';\n",
       "        element.innerHTML = '';\n",
       "        dataTable['output_type'] = 'display_data';\n",
       "        await google.colab.output.renderOutput(dataTable, element);\n",
       "        const docLink = document.createElement('div');\n",
       "        docLink.innerHTML = docLinkHtml;\n",
       "        element.appendChild(docLink);\n",
       "      }\n",
       "    </script>\n",
       "  </div>\n",
       "\n",
       "\n",
       "<div id=\"df-e42daaf4-98e4-4125-95a8-6a4f003f2914\">\n",
       "  <button class=\"colab-df-quickchart\" onclick=\"quickchart('df-e42daaf4-98e4-4125-95a8-6a4f003f2914')\"\n",
       "            title=\"Suggest charts\"\n",
       "            style=\"display:none;\">\n",
       "\n",
       "<svg xmlns=\"http://www.w3.org/2000/svg\" height=\"24px\"viewBox=\"0 0 24 24\"\n",
       "     width=\"24px\">\n",
       "    <g>\n",
       "        <path d=\"M19 3H5c-1.1 0-2 .9-2 2v14c0 1.1.9 2 2 2h14c1.1 0 2-.9 2-2V5c0-1.1-.9-2-2-2zM9 17H7v-7h2v7zm4 0h-2V7h2v10zm4 0h-2v-4h2v4z\"/>\n",
       "    </g>\n",
       "</svg>\n",
       "  </button>\n",
       "\n",
       "<style>\n",
       "  .colab-df-quickchart {\n",
       "      --bg-color: #E8F0FE;\n",
       "      --fill-color: #1967D2;\n",
       "      --hover-bg-color: #E2EBFA;\n",
       "      --hover-fill-color: #174EA6;\n",
       "      --disabled-fill-color: #AAA;\n",
       "      --disabled-bg-color: #DDD;\n",
       "  }\n",
       "\n",
       "  [theme=dark] .colab-df-quickchart {\n",
       "      --bg-color: #3B4455;\n",
       "      --fill-color: #D2E3FC;\n",
       "      --hover-bg-color: #434B5C;\n",
       "      --hover-fill-color: #FFFFFF;\n",
       "      --disabled-bg-color: #3B4455;\n",
       "      --disabled-fill-color: #666;\n",
       "  }\n",
       "\n",
       "  .colab-df-quickchart {\n",
       "    background-color: var(--bg-color);\n",
       "    border: none;\n",
       "    border-radius: 50%;\n",
       "    cursor: pointer;\n",
       "    display: none;\n",
       "    fill: var(--fill-color);\n",
       "    height: 32px;\n",
       "    padding: 0;\n",
       "    width: 32px;\n",
       "  }\n",
       "\n",
       "  .colab-df-quickchart:hover {\n",
       "    background-color: var(--hover-bg-color);\n",
       "    box-shadow: 0 1px 2px rgba(60, 64, 67, 0.3), 0 1px 3px 1px rgba(60, 64, 67, 0.15);\n",
       "    fill: var(--button-hover-fill-color);\n",
       "  }\n",
       "\n",
       "  .colab-df-quickchart-complete:disabled,\n",
       "  .colab-df-quickchart-complete:disabled:hover {\n",
       "    background-color: var(--disabled-bg-color);\n",
       "    fill: var(--disabled-fill-color);\n",
       "    box-shadow: none;\n",
       "  }\n",
       "\n",
       "  .colab-df-spinner {\n",
       "    border: 2px solid var(--fill-color);\n",
       "    border-color: transparent;\n",
       "    border-bottom-color: var(--fill-color);\n",
       "    animation:\n",
       "      spin 1s steps(1) infinite;\n",
       "  }\n",
       "\n",
       "  @keyframes spin {\n",
       "    0% {\n",
       "      border-color: transparent;\n",
       "      border-bottom-color: var(--fill-color);\n",
       "      border-left-color: var(--fill-color);\n",
       "    }\n",
       "    20% {\n",
       "      border-color: transparent;\n",
       "      border-left-color: var(--fill-color);\n",
       "      border-top-color: var(--fill-color);\n",
       "    }\n",
       "    30% {\n",
       "      border-color: transparent;\n",
       "      border-left-color: var(--fill-color);\n",
       "      border-top-color: var(--fill-color);\n",
       "      border-right-color: var(--fill-color);\n",
       "    }\n",
       "    40% {\n",
       "      border-color: transparent;\n",
       "      border-right-color: var(--fill-color);\n",
       "      border-top-color: var(--fill-color);\n",
       "    }\n",
       "    60% {\n",
       "      border-color: transparent;\n",
       "      border-right-color: var(--fill-color);\n",
       "    }\n",
       "    80% {\n",
       "      border-color: transparent;\n",
       "      border-right-color: var(--fill-color);\n",
       "      border-bottom-color: var(--fill-color);\n",
       "    }\n",
       "    90% {\n",
       "      border-color: transparent;\n",
       "      border-bottom-color: var(--fill-color);\n",
       "    }\n",
       "  }\n",
       "</style>\n",
       "\n",
       "  <script>\n",
       "    async function quickchart(key) {\n",
       "      const quickchartButtonEl =\n",
       "        document.querySelector('#' + key + ' button');\n",
       "      quickchartButtonEl.disabled = true;  // To prevent multiple clicks.\n",
       "      quickchartButtonEl.classList.add('colab-df-spinner');\n",
       "      try {\n",
       "        const charts = await google.colab.kernel.invokeFunction(\n",
       "            'suggestCharts', [key], {});\n",
       "      } catch (error) {\n",
       "        console.error('Error during call to suggestCharts:', error);\n",
       "      }\n",
       "      quickchartButtonEl.classList.remove('colab-df-spinner');\n",
       "      quickchartButtonEl.classList.add('colab-df-quickchart-complete');\n",
       "    }\n",
       "    (() => {\n",
       "      let quickchartButtonEl =\n",
       "        document.querySelector('#df-e42daaf4-98e4-4125-95a8-6a4f003f2914 button');\n",
       "      quickchartButtonEl.style.display =\n",
       "        google.colab.kernel.accessAllowed ? 'block' : 'none';\n",
       "    })();\n",
       "  </script>\n",
       "</div>\n",
       "\n",
       "  <div id=\"id_f82faf61-aa7e-4c36-8818-9e139adeb098\">\n",
       "    <style>\n",
       "      .colab-df-generate {\n",
       "        background-color: #E8F0FE;\n",
       "        border: none;\n",
       "        border-radius: 50%;\n",
       "        cursor: pointer;\n",
       "        display: none;\n",
       "        fill: #1967D2;\n",
       "        height: 32px;\n",
       "        padding: 0 0 0 0;\n",
       "        width: 32px;\n",
       "      }\n",
       "\n",
       "      .colab-df-generate:hover {\n",
       "        background-color: #E2EBFA;\n",
       "        box-shadow: 0px 1px 2px rgba(60, 64, 67, 0.3), 0px 1px 3px 1px rgba(60, 64, 67, 0.15);\n",
       "        fill: #174EA6;\n",
       "      }\n",
       "\n",
       "      [theme=dark] .colab-df-generate {\n",
       "        background-color: #3B4455;\n",
       "        fill: #D2E3FC;\n",
       "      }\n",
       "\n",
       "      [theme=dark] .colab-df-generate:hover {\n",
       "        background-color: #434B5C;\n",
       "        box-shadow: 0px 1px 3px 1px rgba(0, 0, 0, 0.15);\n",
       "        filter: drop-shadow(0px 1px 2px rgba(0, 0, 0, 0.3));\n",
       "        fill: #FFFFFF;\n",
       "      }\n",
       "    </style>\n",
       "    <button class=\"colab-df-generate\" onclick=\"generateWithVariable('data')\"\n",
       "            title=\"Generate code using this dataframe.\"\n",
       "            style=\"display:none;\">\n",
       "\n",
       "  <svg xmlns=\"http://www.w3.org/2000/svg\" height=\"24px\"viewBox=\"0 0 24 24\"\n",
       "       width=\"24px\">\n",
       "    <path d=\"M7,19H8.4L18.45,9,17,7.55,7,17.6ZM5,21V16.75L18.45,3.32a2,2,0,0,1,2.83,0l1.4,1.43a1.91,1.91,0,0,1,.58,1.4,1.91,1.91,0,0,1-.58,1.4L9.25,21ZM18.45,9,17,7.55Zm-12,3A5.31,5.31,0,0,0,4.9,8.1,5.31,5.31,0,0,0,1,6.5,5.31,5.31,0,0,0,4.9,4.9,5.31,5.31,0,0,0,6.5,1,5.31,5.31,0,0,0,8.1,4.9,5.31,5.31,0,0,0,12,6.5,5.46,5.46,0,0,0,6.5,12Z\"/>\n",
       "  </svg>\n",
       "    </button>\n",
       "    <script>\n",
       "      (() => {\n",
       "      const buttonEl =\n",
       "        document.querySelector('#id_f82faf61-aa7e-4c36-8818-9e139adeb098 button.colab-df-generate');\n",
       "      buttonEl.style.display =\n",
       "        google.colab.kernel.accessAllowed ? 'block' : 'none';\n",
       "\n",
       "      buttonEl.onclick = () => {\n",
       "        google.colab.notebook.generateWithVariable('data');\n",
       "      }\n",
       "      })();\n",
       "    </script>\n",
       "  </div>\n",
       "\n",
       "    </div>\n",
       "  </div>\n"
      ],
      "text/plain": [
       "      Typeofsales   Patient_ID    Specialisation         Dept  Dateofbill  \\\n",
       "0            Sale  12018098765   Specialisation6  Department1  06-01-2022   \n",
       "1            Sale  12018103897   Specialisation7  Department1   7/23/2022   \n",
       "2            Sale  12018101123   Specialisation2  Department3   6/23/2022   \n",
       "3            Sale  12018079281  Specialisation40  Department1   3/17/2022   \n",
       "4            Sale  12018117928   Specialisation5  Department1  12/21/2022   \n",
       "...           ...          ...               ...          ...         ...   \n",
       "14213        Sale  12018099994  Specialisation39  Department1   6/19/2022   \n",
       "14214        Sale  12018047025   Specialisation4  Department1   2/24/2022   \n",
       "14215        Sale  12018017139   Specialisation1  Department1   6/27/2022   \n",
       "14216        Sale  12018044140  Specialisation20  Department1   7/30/2022   \n",
       "14217        Sale  12018116820  Specialisation26  Department1  10/24/2022   \n",
       "\n",
       "       Quantity  ReturnQuantity  Final_Cost  Final_Sales  RtnMRP Formulation  \\\n",
       "0             1               0      55.406       59.260     0.0       Form1   \n",
       "1             1               0     768.638      950.800     0.0       Form1   \n",
       "2             1               0     774.266     4004.214     0.0       Form2   \n",
       "3             2               0      40.798       81.044     0.0       Form1   \n",
       "4             1               0      40.434       40.504     0.0       Form1   \n",
       "...         ...             ...         ...          ...     ...         ...   \n",
       "14213         3               0      61.436      145.200     0.0       Form1   \n",
       "14214         2               0      64.448      119.692     0.0       Form1   \n",
       "14215         4               0      74.944      642.040     0.0       Form1   \n",
       "14216         1               0     111.680      181.000     0.0       Form3   \n",
       "14217         3               0      46.182      133.800     0.0       Form1   \n",
       "\n",
       "                                  DrugName                        SubCat  \\\n",
       "0                ZINC ACETATE 20MG/5ML SYP            SYRUP & SUSPENSION   \n",
       "1          CEFTAZIDIME 2GM+AVIBACTAM 500MG                    INJECTIONS   \n",
       "2                   EPTIFIBATIDE 0.75MG/ML                    INJECTIONS   \n",
       "3        WATER FOR INJECTION 10ML SOLUTION                    INJECTIONS   \n",
       "4                            LORAZEPAM 1MG            TABLETS & CAPSULES   \n",
       "...                                    ...                           ...   \n",
       "14213            SODIUM CHLORIDE IVF 100ML  IV FLUIDS, ELECTROLYTES, TPN   \n",
       "14214  PIPERACILLIN 1GM + TAZOBACTAM 125MG                    INJECTIONS   \n",
       "14215               PARACETAMOL 1GM IV INJ                    INJECTIONS   \n",
       "14216                    MEROPENEM 1GM INJ                    INJECTIONS   \n",
       "14217                             TRAMADOL                    INJECTIONS   \n",
       "\n",
       "                                     SubCat1  \n",
       "0                        VITAMINS & MINERALS  \n",
       "1                            ANTI-INFECTIVES  \n",
       "2      CARDIOVASCULAR & HEMATOPOIETIC SYSTEM  \n",
       "3      INTRAVENOUS & OTHER STERILE SOLUTIONS  \n",
       "4                     CENTRAL NERVOUS SYSTEM  \n",
       "...                                      ...  \n",
       "14213  INTRAVENOUS & OTHER STERILE SOLUTIONS  \n",
       "14214                        ANTI-INFECTIVES  \n",
       "14215                 CENTRAL NERVOUS SYSTEM  \n",
       "14216                        ANTI-INFECTIVES  \n",
       "14217                 CENTRAL NERVOUS SYSTEM  \n",
       "\n",
       "[14218 rows x 14 columns]"
      ]
     },
     "execution_count": 42,
     "metadata": {},
     "output_type": "execute_result"
    }
   ],
   "source": [
    "# read th dataset\n",
    "data = pd.read_csv(r\"/content/Projectdata .xlsx.csv\")\n",
    "data"
   ]
  },
  {
   "cell_type": "code",
   "execution_count": 44,
   "id": "fa3787a5",
   "metadata": {
    "colab": {
     "base_uri": "https://localhost:8080/"
    },
    "executionInfo": {
     "elapsed": 47,
     "status": "ok",
     "timestamp": 1705925738469,
     "user": {
      "displayName": "Anisha TaazaTV",
      "userId": "13026329044302659371"
     },
     "user_tz": -330
    },
    "id": "fa3787a5",
    "outputId": "613dde5c-84f0-46ab-df2d-727099479a4c"
   },
   "outputs": [
    {
     "data": {
      "text/plain": [
       "Typeofsales        object\n",
       "Patient_ID          int64\n",
       "Specialisation     object\n",
       "Dept               object\n",
       "Dateofbill         object\n",
       "Quantity            int64\n",
       "ReturnQuantity      int64\n",
       "Final_Cost        float64\n",
       "Final_Sales       float64\n",
       "RtnMRP            float64\n",
       "Formulation        object\n",
       "DrugName           object\n",
       "SubCat             object\n",
       "SubCat1            object\n",
       "dtype: object"
      ]
     },
     "execution_count": 44,
     "metadata": {},
     "output_type": "execute_result"
    }
   ],
   "source": [
    "data.dtypes #used for see the datatype of all table columns"
   ]
  },
  {
   "cell_type": "code",
   "execution_count": 44,
   "id": "5952e9d0",
   "metadata": {
    "executionInfo": {
     "elapsed": 39,
     "status": "ok",
     "timestamp": 1705925738469,
     "user": {
      "displayName": "Anisha TaazaTV",
      "userId": "13026329044302659371"
     },
     "user_tz": -330
    },
    "id": "5952e9d0"
   },
   "outputs": [],
   "source": []
  },
  {
   "cell_type": "code",
   "execution_count": 45,
   "id": "d0cf9ae9",
   "metadata": {
    "colab": {
     "base_uri": "https://localhost:8080/"
    },
    "executionInfo": {
     "elapsed": 39,
     "status": "ok",
     "timestamp": 1705925738469,
     "user": {
      "displayName": "Anisha TaazaTV",
      "userId": "13026329044302659371"
     },
     "user_tz": -330
    },
    "id": "d0cf9ae9",
    "outputId": "7d673f53-fbd8-4541-e1d6-019802e38a02"
   },
   "outputs": [
    {
     "data": {
      "text/plain": [
       "0        False\n",
       "1        False\n",
       "2        False\n",
       "3        False\n",
       "4        False\n",
       "         ...  \n",
       "14213    False\n",
       "14214    False\n",
       "14215    False\n",
       "14216    False\n",
       "14217    False\n",
       "Length: 14218, dtype: bool"
      ]
     },
     "execution_count": 45,
     "metadata": {},
     "output_type": "execute_result"
    }
   ],
   "source": [
    "## Data Cleaning & Organizing; ##\n",
    "\n",
    "#DUPLICATE\n",
    "data.duplicated()\n"
   ]
  },
  {
   "cell_type": "code",
   "execution_count": 46,
   "id": "e65e77e1",
   "metadata": {
    "colab": {
     "base_uri": "https://localhost:8080/"
    },
    "executionInfo": {
     "elapsed": 35,
     "status": "ok",
     "timestamp": 1705925738469,
     "user": {
      "displayName": "Anisha TaazaTV",
      "userId": "13026329044302659371"
     },
     "user_tz": -330
    },
    "id": "e65e77e1",
    "outputId": "44fe69cb-43b5-4851-a2c0-3fc7ad7f189c"
   },
   "outputs": [
    {
     "name": "stdout",
     "output_type": "stream",
     "text": [
      "26\n"
     ]
    }
   ],
   "source": [
    "print(data.duplicated().sum())"
   ]
  },
  {
   "cell_type": "code",
   "execution_count": 47,
   "id": "3853b958",
   "metadata": {
    "colab": {
     "base_uri": "https://localhost:8080/"
    },
    "executionInfo": {
     "elapsed": 32,
     "status": "ok",
     "timestamp": 1705925738469,
     "user": {
      "displayName": "Anisha TaazaTV",
      "userId": "13026329044302659371"
     },
     "user_tz": -330
    },
    "id": "3853b958",
    "outputId": "0bd6ba63-b1f5-4df4-d3a7-6c1a68165f6f"
   },
   "outputs": [
    {
     "data": {
      "text/plain": [
       "0        False\n",
       "1        False\n",
       "2        False\n",
       "3        False\n",
       "4        False\n",
       "         ...  \n",
       "14213    False\n",
       "14214    False\n",
       "14215    False\n",
       "14216    False\n",
       "14217    False\n",
       "Length: 14218, dtype: bool"
      ]
     },
     "execution_count": 47,
     "metadata": {},
     "output_type": "execute_result"
    }
   ],
   "source": [
    "duplicate = data.duplicated() #Used to see Duplicate values in data set.\n",
    "duplicate"
   ]
  },
  {
   "cell_type": "code",
   "execution_count": 48,
   "id": "2baf13a5",
   "metadata": {
    "colab": {
     "base_uri": "https://localhost:8080/"
    },
    "executionInfo": {
     "elapsed": 31,
     "status": "ok",
     "timestamp": 1705925738469,
     "user": {
      "displayName": "Anisha TaazaTV",
      "userId": "13026329044302659371"
     },
     "user_tz": -330
    },
    "id": "2baf13a5",
    "outputId": "4dc8a4c9-4f9c-4bc9-ca97-9f928d2d11de"
   },
   "outputs": [
    {
     "data": {
      "text/plain": [
       "0        False\n",
       "1        False\n",
       "2        False\n",
       "3        False\n",
       "4        False\n",
       "         ...  \n",
       "14213    False\n",
       "14214    False\n",
       "14215    False\n",
       "14216    False\n",
       "14217    False\n",
       "Length: 14218, dtype: bool"
      ]
     },
     "execution_count": 48,
     "metadata": {},
     "output_type": "execute_result"
    }
   ],
   "source": [
    "#Finding Duplicate values in whole data set.\n",
    "sum(duplicate) # (it shows the sum of the duplicated value)\n",
    "\n",
    "duplicate = data.duplicated(keep ='last')\n",
    "duplicate"
   ]
  },
  {
   "cell_type": "code",
   "execution_count": 49,
   "id": "7113dafa",
   "metadata": {
    "colab": {
     "base_uri": "https://localhost:8080/"
    },
    "executionInfo": {
     "elapsed": 30,
     "status": "ok",
     "timestamp": 1705925738469,
     "user": {
      "displayName": "Anisha TaazaTV",
      "userId": "13026329044302659371"
     },
     "user_tz": -330
    },
    "id": "7113dafa",
    "outputId": "a0882d1b-3fe0-44f1-d2fb-1c7ab52e4264"
   },
   "outputs": [
    {
     "data": {
      "text/plain": [
       "26"
      ]
     },
     "execution_count": 49,
     "metadata": {},
     "output_type": "execute_result"
    }
   ],
   "source": [
    "data2 = data.drop_duplicates() #Delete the duplicate values\n",
    "data2\n",
    "sum(duplicate)"
   ]
  },
  {
   "cell_type": "code",
   "execution_count": 50,
   "id": "b4981780",
   "metadata": {
    "colab": {
     "base_uri": "https://localhost:8080/"
    },
    "executionInfo": {
     "elapsed": 29,
     "status": "ok",
     "timestamp": 1705925738469,
     "user": {
      "displayName": "Anisha TaazaTV",
      "userId": "13026329044302659371"
     },
     "user_tz": -330
    },
    "id": "b4981780",
    "outputId": "ee0bb020-a885-43e0-862a-522c5677d783"
   },
   "outputs": [
    {
     "data": {
      "text/plain": [
       "5681"
      ]
     },
     "execution_count": 50,
     "metadata": {},
     "output_type": "execute_result"
    }
   ],
   "source": [
    "#Used to find null values in dataset.\n",
    "data.isnull().sum().sum() #the null value present in whole data set\n"
   ]
  },
  {
   "cell_type": "code",
   "execution_count": 51,
   "id": "4f0dbd4e",
   "metadata": {
    "colab": {
     "base_uri": "https://localhost:8080/"
    },
    "executionInfo": {
     "elapsed": 25,
     "status": "ok",
     "timestamp": 1705925738469,
     "user": {
      "displayName": "Anisha TaazaTV",
      "userId": "13026329044302659371"
     },
     "user_tz": -330
    },
    "id": "4f0dbd4e",
    "outputId": "9206c077-c2a7-4b75-dd66-db0bf94c05ac"
   },
   "outputs": [
    {
     "data": {
      "text/plain": [
       "Typeofsales          0\n",
       "Patient_ID           0\n",
       "Specialisation       0\n",
       "Dept                 0\n",
       "Dateofbill           0\n",
       "Quantity             0\n",
       "ReturnQuantity       0\n",
       "Final_Cost           0\n",
       "Final_Sales          0\n",
       "RtnMRP               0\n",
       "Formulation        650\n",
       "DrugName          1659\n",
       "SubCat            1659\n",
       "SubCat1           1682\n",
       "dtype: int64"
      ]
     },
     "execution_count": 51,
     "metadata": {},
     "output_type": "execute_result"
    }
   ],
   "source": [
    "#Used to find null values in dataset.\n",
    "data2.isnull().sum() #the null value present in whole data set\n"
   ]
  },
  {
   "cell_type": "code",
   "execution_count": 52,
   "id": "c8dc44f8",
   "metadata": {
    "colab": {
     "base_uri": "https://localhost:8080/"
    },
    "executionInfo": {
     "elapsed": 24,
     "status": "ok",
     "timestamp": 1705925738469,
     "user": {
      "displayName": "Anisha TaazaTV",
      "userId": "13026329044302659371"
     },
     "user_tz": -330
    },
    "id": "c8dc44f8",
    "outputId": "01152947-106c-41ce-c2df-b203bdae87dc"
   },
   "outputs": [
    {
     "data": {
      "text/plain": [
       "5650"
      ]
     },
     "execution_count": 52,
     "metadata": {},
     "output_type": "execute_result"
    }
   ],
   "source": [
    "#Used to find null values in dataset.\n",
    "data2.isnull().sum().sum() #the null value present in whole data set\n"
   ]
  },
  {
   "cell_type": "code",
   "execution_count": 52,
   "id": "30a9dfa0",
   "metadata": {
    "executionInfo": {
     "elapsed": 23,
     "status": "ok",
     "timestamp": 1705925738469,
     "user": {
      "displayName": "Anisha TaazaTV",
      "userId": "13026329044302659371"
     },
     "user_tz": -330
    },
    "id": "30a9dfa0"
   },
   "outputs": [],
   "source": []
  },
  {
   "cell_type": "code",
   "execution_count": 53,
   "id": "b28b2f2c",
   "metadata": {
    "colab": {
     "base_uri": "https://localhost:8080/"
    },
    "executionInfo": {
     "elapsed": 23,
     "status": "ok",
     "timestamp": 1705925738470,
     "user": {
      "displayName": "Anisha TaazaTV",
      "userId": "13026329044302659371"
     },
     "user_tz": -330
    },
    "id": "b28b2f2c",
    "outputId": "22d9500f-c1ec-4e9f-c7a7-92d9e02db423"
   },
   "outputs": [
    {
     "name": "stderr",
     "output_type": "stream",
     "text": [
      "<ipython-input-53-7854146f8734>:4: SettingWithCopyWarning: \n",
      "A value is trying to be set on a copy of a slice from a DataFrame\n",
      "\n",
      "See the caveats in the documentation: https://pandas.pydata.org/pandas-docs/stable/user_guide/indexing.html#returning-a-view-versus-a-copy\n",
      "  data2['Formulation'].fillna(mode_value, inplace=True)\n"
     ]
    }
   ],
   "source": [
    "import pandas as pd\n",
    "\n",
    "mode_value = data2['Formulation'].mode()[0]\n",
    "data2['Formulation'].fillna(mode_value, inplace=True)"
   ]
  },
  {
   "cell_type": "code",
   "execution_count": 54,
   "id": "f4d1bfa5",
   "metadata": {
    "colab": {
     "base_uri": "https://localhost:8080/"
    },
    "executionInfo": {
     "elapsed": 887,
     "status": "ok",
     "timestamp": 1705925739347,
     "user": {
      "displayName": "Anisha TaazaTV",
      "userId": "13026329044302659371"
     },
     "user_tz": -330
    },
    "id": "f4d1bfa5",
    "outputId": "417c96ac-4615-4ae7-ad15-2573a6665939"
   },
   "outputs": [
    {
     "data": {
      "text/plain": [
       "Typeofsales          0\n",
       "Patient_ID           0\n",
       "Specialisation       0\n",
       "Dept                 0\n",
       "Dateofbill           0\n",
       "Quantity             0\n",
       "ReturnQuantity       0\n",
       "Final_Cost           0\n",
       "Final_Sales          0\n",
       "RtnMRP               0\n",
       "Formulation          0\n",
       "DrugName          1659\n",
       "SubCat            1659\n",
       "SubCat1           1682\n",
       "dtype: int64"
      ]
     },
     "execution_count": 54,
     "metadata": {},
     "output_type": "execute_result"
    }
   ],
   "source": [
    "data2.isnull().sum()"
   ]
  },
  {
   "cell_type": "code",
   "execution_count": 55,
   "id": "5a7bca94",
   "metadata": {
    "colab": {
     "base_uri": "https://localhost:8080/"
    },
    "executionInfo": {
     "elapsed": 36,
     "status": "ok",
     "timestamp": 1705925739347,
     "user": {
      "displayName": "Anisha TaazaTV",
      "userId": "13026329044302659371"
     },
     "user_tz": -330
    },
    "id": "5a7bca94",
    "outputId": "ad919562-3d5f-45b3-b76b-154b3c8a5d95"
   },
   "outputs": [
    {
     "name": "stderr",
     "output_type": "stream",
     "text": [
      "<ipython-input-55-1bf1849c1475>:5: SettingWithCopyWarning: \n",
      "A value is trying to be set on a copy of a slice from a DataFrame\n",
      "\n",
      "See the caveats in the documentation: https://pandas.pydata.org/pandas-docs/stable/user_guide/indexing.html#returning-a-view-versus-a-copy\n",
      "  data2['DrugName'].fillna(mode_value, inplace=True)\n"
     ]
    }
   ],
   "source": [
    "import pandas as pd\n",
    "\n",
    "# Assuming 'df' is your DataFrame and 'column_name' is the column you want to impute\n",
    "mode_value = data2['DrugName'].mode()[0]\n",
    "data2['DrugName'].fillna(mode_value, inplace=True)"
   ]
  },
  {
   "cell_type": "code",
   "execution_count": 55,
   "id": "bdd84d2d",
   "metadata": {
    "executionInfo": {
     "elapsed": 34,
     "status": "ok",
     "timestamp": 1705925739348,
     "user": {
      "displayName": "Anisha TaazaTV",
      "userId": "13026329044302659371"
     },
     "user_tz": -330
    },
    "id": "bdd84d2d"
   },
   "outputs": [],
   "source": []
  },
  {
   "cell_type": "code",
   "execution_count": 56,
   "id": "956450b0",
   "metadata": {
    "colab": {
     "base_uri": "https://localhost:8080/"
    },
    "executionInfo": {
     "elapsed": 34,
     "status": "ok",
     "timestamp": 1705925739348,
     "user": {
      "displayName": "Anisha TaazaTV",
      "userId": "13026329044302659371"
     },
     "user_tz": -330
    },
    "id": "956450b0",
    "outputId": "208c5ae1-3fb1-4ba9-b693-6cca6f828411"
   },
   "outputs": [
    {
     "data": {
      "text/plain": [
       "Typeofsales          0\n",
       "Patient_ID           0\n",
       "Specialisation       0\n",
       "Dept                 0\n",
       "Dateofbill           0\n",
       "Quantity             0\n",
       "ReturnQuantity       0\n",
       "Final_Cost           0\n",
       "Final_Sales          0\n",
       "RtnMRP               0\n",
       "Formulation          0\n",
       "DrugName             0\n",
       "SubCat            1659\n",
       "SubCat1           1682\n",
       "dtype: int64"
      ]
     },
     "execution_count": 56,
     "metadata": {},
     "output_type": "execute_result"
    }
   ],
   "source": [
    "data2.isnull().sum()"
   ]
  },
  {
   "cell_type": "code",
   "execution_count": 57,
   "id": "f4957ba3",
   "metadata": {
    "colab": {
     "base_uri": "https://localhost:8080/"
    },
    "executionInfo": {
     "elapsed": 32,
     "status": "ok",
     "timestamp": 1705925739348,
     "user": {
      "displayName": "Anisha TaazaTV",
      "userId": "13026329044302659371"
     },
     "user_tz": -330
    },
    "id": "f4957ba3",
    "outputId": "a73d06a9-1bd0-4251-f47d-5e2d9aa2fabf"
   },
   "outputs": [
    {
     "name": "stderr",
     "output_type": "stream",
     "text": [
      "<ipython-input-57-3ff896185eb3>:5: SettingWithCopyWarning: \n",
      "A value is trying to be set on a copy of a slice from a DataFrame\n",
      "\n",
      "See the caveats in the documentation: https://pandas.pydata.org/pandas-docs/stable/user_guide/indexing.html#returning-a-view-versus-a-copy\n",
      "  data2['SubCat'].fillna(mode_value, inplace=True)\n"
     ]
    }
   ],
   "source": [
    "import pandas as pd\n",
    "\n",
    "# Assuming 'df' is your DataFrame and 'column_name' is the column you want to impute\n",
    "mode_value = data2['SubCat'].mode()[0]\n",
    "data2['SubCat'].fillna(mode_value, inplace=True)"
   ]
  },
  {
   "cell_type": "code",
   "execution_count": 58,
   "id": "a48d45f1",
   "metadata": {
    "colab": {
     "base_uri": "https://localhost:8080/"
    },
    "executionInfo": {
     "elapsed": 30,
     "status": "ok",
     "timestamp": 1705925739348,
     "user": {
      "displayName": "Anisha TaazaTV",
      "userId": "13026329044302659371"
     },
     "user_tz": -330
    },
    "id": "a48d45f1",
    "outputId": "d9144d84-d15a-4f58-cfa9-8c55fb1b0f3c"
   },
   "outputs": [
    {
     "name": "stderr",
     "output_type": "stream",
     "text": [
      "<ipython-input-58-f7df153db619>:5: SettingWithCopyWarning: \n",
      "A value is trying to be set on a copy of a slice from a DataFrame\n",
      "\n",
      "See the caveats in the documentation: https://pandas.pydata.org/pandas-docs/stable/user_guide/indexing.html#returning-a-view-versus-a-copy\n",
      "  data2['SubCat1'].fillna(mode_value, inplace=True)\n"
     ]
    }
   ],
   "source": [
    "import pandas as pd\n",
    "\n",
    "# Assuming 'df' is your DataFrame and 'column_name' is the column you want to impute\n",
    "mode_value = data2['SubCat1'].mode()[0]\n",
    "data2['SubCat1'].fillna(mode_value, inplace=True)"
   ]
  },
  {
   "cell_type": "code",
   "execution_count": 59,
   "id": "9e5a19a6",
   "metadata": {
    "colab": {
     "base_uri": "https://localhost:8080/"
    },
    "executionInfo": {
     "elapsed": 29,
     "status": "ok",
     "timestamp": 1705925739348,
     "user": {
      "displayName": "Anisha TaazaTV",
      "userId": "13026329044302659371"
     },
     "user_tz": -330
    },
    "id": "9e5a19a6",
    "outputId": "ea1485b3-453e-45bb-bd37-d6c0263adfbd"
   },
   "outputs": [
    {
     "data": {
      "text/plain": [
       "Typeofsales       0\n",
       "Patient_ID        0\n",
       "Specialisation    0\n",
       "Dept              0\n",
       "Dateofbill        0\n",
       "Quantity          0\n",
       "ReturnQuantity    0\n",
       "Final_Cost        0\n",
       "Final_Sales       0\n",
       "RtnMRP            0\n",
       "Formulation       0\n",
       "DrugName          0\n",
       "SubCat            0\n",
       "SubCat1           0\n",
       "dtype: int64"
      ]
     },
     "execution_count": 59,
     "metadata": {},
     "output_type": "execute_result"
    }
   ],
   "source": [
    "data2.isnull().sum()"
   ]
  },
  {
   "cell_type": "code",
   "execution_count": 60,
   "id": "cf8e0ea8",
   "metadata": {
    "colab": {
     "base_uri": "https://localhost:8080/"
    },
    "executionInfo": {
     "elapsed": 27,
     "status": "ok",
     "timestamp": 1705925739348,
     "user": {
      "displayName": "Anisha TaazaTV",
      "userId": "13026329044302659371"
     },
     "user_tz": -330
    },
    "id": "cf8e0ea8",
    "outputId": "a7786261-a5d7-48ac-fc29-69771f0f7e4a"
   },
   "outputs": [
    {
     "data": {
      "text/plain": [
       "0"
      ]
     },
     "execution_count": 60,
     "metadata": {},
     "output_type": "execute_result"
    }
   ],
   "source": [
    "data2.isnull().sum().sum()"
   ]
  },
  {
   "cell_type": "code",
   "execution_count": 61,
   "id": "24e62887",
   "metadata": {
    "colab": {
     "base_uri": "https://localhost:8080/"
    },
    "executionInfo": {
     "elapsed": 26,
     "status": "ok",
     "timestamp": 1705925739348,
     "user": {
      "displayName": "Anisha TaazaTV",
      "userId": "13026329044302659371"
     },
     "user_tz": -330
    },
    "id": "24e62887",
    "outputId": "5df5fd8c-7041-4472-c1ec-4cb67855b53c"
   },
   "outputs": [
    {
     "name": "stderr",
     "output_type": "stream",
     "text": [
      "<ipython-input-61-6ad839a1e1d6>:4: SettingWithCopyWarning: \n",
      "A value is trying to be set on a copy of a slice from a DataFrame.\n",
      "Try using .loc[row_indexer,col_indexer] = value instead\n",
      "\n",
      "See the caveats in the documentation: https://pandas.pydata.org/pandas-docs/stable/user_guide/indexing.html#returning-a-view-versus-a-copy\n",
      "  data2[\"Quantity\"] = pd.DataFrame(mean_imputer.fit_transform(data2[['Quantity']]))\n"
     ]
    }
   ],
   "source": [
    "#imputer using mean\n",
    "data2.Quantity.isna().sum()\n",
    "mean_imputer = SimpleImputer(missing_values = np.NaN, strategy = 'mean')\n",
    "data2[\"Quantity\"] = pd.DataFrame(mean_imputer.fit_transform(data2[['Quantity']]))\n",
    "\n",
    "\n"
   ]
  },
  {
   "cell_type": "code",
   "execution_count": 62,
   "id": "f7062ecf",
   "metadata": {
    "colab": {
     "base_uri": "https://localhost:8080/"
    },
    "executionInfo": {
     "elapsed": 25,
     "status": "ok",
     "timestamp": 1705925739348,
     "user": {
      "displayName": "Anisha TaazaTV",
      "userId": "13026329044302659371"
     },
     "user_tz": -330
    },
    "id": "f7062ecf",
    "outputId": "82cbceac-e6f8-4f43-df1f-504cbccb8048"
   },
   "outputs": [
    {
     "data": {
      "text/plain": [
       "25"
      ]
     },
     "execution_count": 62,
     "metadata": {},
     "output_type": "execute_result"
    }
   ],
   "source": [
    "data2['Quantity'].isna().sum()"
   ]
  },
  {
   "cell_type": "code",
   "execution_count": 63,
   "id": "a8f6717b",
   "metadata": {
    "colab": {
     "base_uri": "https://localhost:8080/"
    },
    "executionInfo": {
     "elapsed": 22,
     "status": "ok",
     "timestamp": 1705925739348,
     "user": {
      "displayName": "Anisha TaazaTV",
      "userId": "13026329044302659371"
     },
     "user_tz": -330
    },
    "id": "a8f6717b",
    "outputId": "0273d2e6-f90f-4091-9b80-9c51ba3981d4"
   },
   "outputs": [
    {
     "data": {
      "text/plain": [
       "0        False\n",
       "1        False\n",
       "2        False\n",
       "3        False\n",
       "4        False\n",
       "         ...  \n",
       "14213     True\n",
       "14214     True\n",
       "14215     True\n",
       "14216     True\n",
       "14217     True\n",
       "Name: Quantity, Length: 14192, dtype: bool"
      ]
     },
     "execution_count": 63,
     "metadata": {},
     "output_type": "execute_result"
    }
   ],
   "source": [
    "data2.Quantity.isna()"
   ]
  },
  {
   "cell_type": "code",
   "execution_count": 64,
   "id": "b6e5ad3f",
   "metadata": {
    "colab": {
     "base_uri": "https://localhost:8080/"
    },
    "executionInfo": {
     "elapsed": 21,
     "status": "ok",
     "timestamp": 1705925739348,
     "user": {
      "displayName": "Anisha TaazaTV",
      "userId": "13026329044302659371"
     },
     "user_tz": -330
    },
    "id": "b6e5ad3f",
    "outputId": "30f25a91-f585-43ef-f154-296d141a2748"
   },
   "outputs": [
    {
     "name": "stderr",
     "output_type": "stream",
     "text": [
      "<ipython-input-64-7a20aed68a2d>:1: SettingWithCopyWarning: \n",
      "A value is trying to be set on a copy of a slice from a DataFrame\n",
      "\n",
      "See the caveats in the documentation: https://pandas.pydata.org/pandas-docs/stable/user_guide/indexing.html#returning-a-view-versus-a-copy\n",
      "  data2['Quantity'].fillna(method='ffill', inplace=True)\n"
     ]
    }
   ],
   "source": [
    "data2['Quantity'].fillna(method='ffill', inplace=True)\n"
   ]
  },
  {
   "cell_type": "code",
   "execution_count": 64,
   "id": "50168a8f",
   "metadata": {
    "executionInfo": {
     "elapsed": 19,
     "status": "ok",
     "timestamp": 1705925739348,
     "user": {
      "displayName": "Anisha TaazaTV",
      "userId": "13026329044302659371"
     },
     "user_tz": -330
    },
    "id": "50168a8f"
   },
   "outputs": [],
   "source": []
  },
  {
   "cell_type": "code",
   "execution_count": 65,
   "id": "1652bdf1",
   "metadata": {
    "colab": {
     "base_uri": "https://localhost:8080/"
    },
    "executionInfo": {
     "elapsed": 19,
     "status": "ok",
     "timestamp": 1705925739348,
     "user": {
      "displayName": "Anisha TaazaTV",
      "userId": "13026329044302659371"
     },
     "user_tz": -330
    },
    "id": "1652bdf1",
    "outputId": "2e387236-2dea-464e-fc98-d69578e5e67e"
   },
   "outputs": [
    {
     "name": "stdout",
     "output_type": "stream",
     "text": [
      "      Typeofsales   Patient_ID    Specialisation         Dept  Dateofbill  \\\n",
      "0            Sale  12018098765   Specialisation6  Department1  06-01-2022   \n",
      "1            Sale  12018103897   Specialisation7  Department1   7/23/2022   \n",
      "2            Sale  12018101123   Specialisation2  Department3   6/23/2022   \n",
      "3            Sale  12018079281  Specialisation40  Department1   3/17/2022   \n",
      "4            Sale  12018117928   Specialisation5  Department1  12/21/2022   \n",
      "...           ...          ...               ...          ...         ...   \n",
      "14213        Sale  12018099994  Specialisation39  Department1   6/19/2022   \n",
      "14214        Sale  12018047025   Specialisation4  Department1   2/24/2022   \n",
      "14215        Sale  12018017139   Specialisation1  Department1   6/27/2022   \n",
      "14216        Sale  12018044140  Specialisation20  Department1   7/30/2022   \n",
      "14217        Sale  12018116820  Specialisation26  Department1  10/24/2022   \n",
      "\n",
      "       Quantity  ReturnQuantity  Final_Cost  Final_Sales  RtnMRP Formulation  \\\n",
      "0           1.0               0      55.406       59.260     0.0       Form1   \n",
      "1           1.0               0     768.638      950.800     0.0       Form1   \n",
      "2           1.0               0     774.266     4004.214     0.0       Form2   \n",
      "3           2.0               0      40.798       81.044     0.0       Form1   \n",
      "4           1.0               0      40.434       40.504     0.0       Form1   \n",
      "...         ...             ...         ...          ...     ...         ...   \n",
      "14213       3.0               0      61.436      145.200     0.0       Form1   \n",
      "14214       3.0               0      64.448      119.692     0.0       Form1   \n",
      "14215       3.0               0      74.944      642.040     0.0       Form1   \n",
      "14216       3.0               0     111.680      181.000     0.0       Form3   \n",
      "14217       3.0               0      46.182      133.800     0.0       Form1   \n",
      "\n",
      "                                  DrugName                        SubCat  \\\n",
      "0                ZINC ACETATE 20MG/5ML SYP            SYRUP & SUSPENSION   \n",
      "1          CEFTAZIDIME 2GM+AVIBACTAM 500MG                    INJECTIONS   \n",
      "2                   EPTIFIBATIDE 0.75MG/ML                    INJECTIONS   \n",
      "3        WATER FOR INJECTION 10ML SOLUTION                    INJECTIONS   \n",
      "4                            LORAZEPAM 1MG            TABLETS & CAPSULES   \n",
      "...                                    ...                           ...   \n",
      "14213            SODIUM CHLORIDE IVF 100ML  IV FLUIDS, ELECTROLYTES, TPN   \n",
      "14214  PIPERACILLIN 1GM + TAZOBACTAM 125MG                    INJECTIONS   \n",
      "14215               PARACETAMOL 1GM IV INJ                    INJECTIONS   \n",
      "14216                    MEROPENEM 1GM INJ                    INJECTIONS   \n",
      "14217                             TRAMADOL                    INJECTIONS   \n",
      "\n",
      "                                     SubCat1  \n",
      "0                        VITAMINS & MINERALS  \n",
      "1                            ANTI-INFECTIVES  \n",
      "2      CARDIOVASCULAR & HEMATOPOIETIC SYSTEM  \n",
      "3      INTRAVENOUS & OTHER STERILE SOLUTIONS  \n",
      "4                     CENTRAL NERVOUS SYSTEM  \n",
      "...                                      ...  \n",
      "14213  INTRAVENOUS & OTHER STERILE SOLUTIONS  \n",
      "14214                        ANTI-INFECTIVES  \n",
      "14215                 CENTRAL NERVOUS SYSTEM  \n",
      "14216                        ANTI-INFECTIVES  \n",
      "14217                 CENTRAL NERVOUS SYSTEM  \n",
      "\n",
      "[14192 rows x 14 columns]\n"
     ]
    }
   ],
   "source": [
    "print(data2)"
   ]
  },
  {
   "cell_type": "code",
   "execution_count": 65,
   "id": "a0614954",
   "metadata": {
    "executionInfo": {
     "elapsed": 18,
     "status": "ok",
     "timestamp": 1705925739348,
     "user": {
      "displayName": "Anisha TaazaTV",
      "userId": "13026329044302659371"
     },
     "user_tz": -330
    },
    "id": "a0614954"
   },
   "outputs": [],
   "source": []
  },
  {
   "cell_type": "code",
   "execution_count": 65,
   "id": "48b18a7c",
   "metadata": {
    "executionInfo": {
     "elapsed": 19,
     "status": "ok",
     "timestamp": 1705925739349,
     "user": {
      "displayName": "Anisha TaazaTV",
      "userId": "13026329044302659371"
     },
     "user_tz": -330
    },
    "id": "48b18a7c"
   },
   "outputs": [],
   "source": []
  },
  {
   "cell_type": "markdown",
   "id": "0d9f13f1",
   "metadata": {
    "id": "0d9f13f1"
   },
   "source": [
    "# FINDING OUTLIERS"
   ]
  },
  {
   "cell_type": "code",
   "execution_count": 66,
   "id": "cedaa826",
   "metadata": {
    "executionInfo": {
     "elapsed": 19,
     "status": "ok",
     "timestamp": 1705925739349,
     "user": {
      "displayName": "Anisha TaazaTV",
      "userId": "13026329044302659371"
     },
     "user_tz": -330
    },
    "id": "cedaa826"
   },
   "outputs": [],
   "source": [
    "IQR = data['Quantity'].quantile(0.75) - data2['Quantity'].quantile(0.25)\n",
    "lower_limit = data2['Quantity'].quantile(0.25) - (IQR * 1.5)\n",
    "upper_limit = data2['Quantity'].quantile(0.75) + (IQR * 1.5)"
   ]
  },
  {
   "cell_type": "code",
   "execution_count": 67,
   "id": "7b108260",
   "metadata": {
    "colab": {
     "base_uri": "https://localhost:8080/"
    },
    "executionInfo": {
     "elapsed": 18,
     "status": "ok",
     "timestamp": 1705925739349,
     "user": {
      "displayName": "Anisha TaazaTV",
      "userId": "13026329044302659371"
     },
     "user_tz": -330
    },
    "id": "7b108260",
    "outputId": "60966a50-2424-40bc-bd2a-77871070f262"
   },
   "outputs": [
    {
     "data": {
      "text/plain": [
       "3.5"
      ]
     },
     "execution_count": 67,
     "metadata": {},
     "output_type": "execute_result"
    }
   ],
   "source": [
    "upper_limit"
   ]
  },
  {
   "cell_type": "code",
   "execution_count": 68,
   "id": "6e212c03",
   "metadata": {
    "colab": {
     "base_uri": "https://localhost:8080/"
    },
    "executionInfo": {
     "elapsed": 16,
     "status": "ok",
     "timestamp": 1705925739349,
     "user": {
      "displayName": "Anisha TaazaTV",
      "userId": "13026329044302659371"
     },
     "user_tz": -330
    },
    "id": "6e212c03",
    "outputId": "7f106689-1122-41e2-cae8-69351f381f3c"
   },
   "outputs": [
    {
     "data": {
      "text/plain": [
       "-0.5"
      ]
     },
     "execution_count": 68,
     "metadata": {},
     "output_type": "execute_result"
    }
   ],
   "source": [
    "lower_limit"
   ]
  },
  {
   "cell_type": "code",
   "execution_count": 69,
   "id": "81610142",
   "metadata": {
    "colab": {
     "base_uri": "https://localhost:8080/"
    },
    "executionInfo": {
     "elapsed": 15,
     "status": "ok",
     "timestamp": 1705925739349,
     "user": {
      "displayName": "Anisha TaazaTV",
      "userId": "13026329044302659371"
     },
     "user_tz": -330
    },
    "id": "81610142",
    "outputId": "b4dc6917-a232-47cb-8426-e64fe30b4234"
   },
   "outputs": [
    {
     "data": {
      "text/plain": [
       "1.0"
      ]
     },
     "execution_count": 69,
     "metadata": {},
     "output_type": "execute_result"
    }
   ],
   "source": [
    "IQR"
   ]
  },
  {
   "cell_type": "code",
   "execution_count": 70,
   "id": "68b83bdf",
   "metadata": {
    "executionInfo": {
     "elapsed": 14,
     "status": "ok",
     "timestamp": 1705925739349,
     "user": {
      "displayName": "Anisha TaazaTV",
      "userId": "13026329044302659371"
     },
     "user_tz": -330
    },
    "id": "68b83bdf"
   },
   "outputs": [],
   "source": [
    "from feature_engine.outliers import Winsorizer\n",
    "winsor_iqr = Winsorizer(capping_method = 'iqr',\n",
    "                        # choose  IQR rule boundaries or gaussian for mean and std\n",
    "                          tail = 'both', # cap left, right or both tails\n",
    "                          fold = 1.5,\n",
    "                          variables = ['Quantity'])\n",
    "\n",
    "df_s = winsor_iqr.fit_transform(data2[['Quantity']])"
   ]
  },
  {
   "cell_type": "code",
   "execution_count": 71,
   "id": "a0651b5e",
   "metadata": {
    "colab": {
     "base_uri": "https://localhost:8080/",
     "height": 428
    },
    "executionInfo": {
     "elapsed": 1056,
     "status": "ok",
     "timestamp": 1705925740391,
     "user": {
      "displayName": "Anisha TaazaTV",
      "userId": "13026329044302659371"
     },
     "user_tz": -330
    },
    "id": "a0651b5e",
    "outputId": "b6f09a29-7aa7-4632-ede2-ef063f4f6429"
   },
   "outputs": [
    {
     "data": {
      "text/plain": [
       "<Axes: ylabel='Quantity'>"
      ]
     },
     "execution_count": 71,
     "metadata": {},
     "output_type": "execute_result"
    },
    {
     "data": {
      "image/png": "[encoded data removed]",
      "text/plain": [
       "<Figure size 640x480 with 1 Axes>"
      ]
     },
     "metadata": {},
     "output_type": "display_data"
    }
   ],
   "source": [
    "sns.boxplot(df_s.Quantity)"
   ]
  },
  {
   "cell_type": "code",
   "execution_count": 72,
   "id": "5f0e0702",
   "metadata": {
    "colab": {
     "base_uri": "https://localhost:8080/",
     "height": 428
    },
    "executionInfo": {
     "elapsed": 57,
     "status": "ok",
     "timestamp": 1705925740392,
     "user": {
      "displayName": "Anisha TaazaTV",
      "userId": "13026329044302659371"
     },
     "user_tz": -330
    },
    "id": "5f0e0702",
    "outputId": "b932b7bb-0644-4b93-8184-ce7ec860d56a"
   },
   "outputs": [
    {
     "data": {
      "text/plain": [
       "<Axes: ylabel='Final_Cost'>"
      ]
     },
     "execution_count": 72,
     "metadata": {},
     "output_type": "execute_result"
    },
    {
     "data": {
      "image/png": "[encoded data removed]",
      "text/plain": [
       "<Figure size 640x480 with 1 Axes>"
      ]
     },
     "metadata": {},
     "output_type": "display_data"
    }
   ],
   "source": [
    "sns.boxplot(data2.Final_Cost)"
   ]
  },
  {
   "cell_type": "code",
   "execution_count": 73,
   "id": "eec8647b",
   "metadata": {
    "colab": {
     "base_uri": "https://localhost:8080/"
    },
    "executionInfo": {
     "elapsed": 51,
     "status": "ok",
     "timestamp": 1705925740392,
     "user": {
      "displayName": "Anisha TaazaTV",
      "userId": "13026329044302659371"
     },
     "user_tz": -330
    },
    "id": "eec8647b",
    "outputId": "ec941c11-6d66-46a9-ef4d-aec34d65c1c6"
   },
   "outputs": [
    {
     "data": {
      "text/plain": [
       "32.872"
      ]
     },
     "execution_count": 73,
     "metadata": {},
     "output_type": "execute_result"
    }
   ],
   "source": [
    "IQR = data2['Final_Cost'].quantile(0.75) - data2['Final_Cost'].quantile(0.25)\n",
    "lower_limit = data2['Final_Cost'].quantile(0.25) - (IQR * 1.5)\n",
    "upper_limit = data2['Final_Cost'].quantile(0.75) + (IQR * 1.5)\n",
    "IQR"
   ]
  },
  {
   "cell_type": "code",
   "execution_count": 74,
   "id": "e6318f87",
   "metadata": {
    "colab": {
     "base_uri": "https://localhost:8080/"
    },
    "executionInfo": {
     "elapsed": 49,
     "status": "ok",
     "timestamp": 1705925740393,
     "user": {
      "displayName": "Anisha TaazaTV",
      "userId": "13026329044302659371"
     },
     "user_tz": -330
    },
    "id": "e6318f87",
    "outputId": "a5736d5e-4131-4753-e427-2c847fad6e7f",
    "scrolled": true
   },
   "outputs": [
    {
     "data": {
      "text/plain": [
       "-4.380000000000003"
      ]
     },
     "execution_count": 74,
     "metadata": {},
     "output_type": "execute_result"
    }
   ],
   "source": [
    "lower_limit"
   ]
  },
  {
   "cell_type": "code",
   "execution_count": 75,
   "id": "df498190",
   "metadata": {
    "colab": {
     "base_uri": "https://localhost:8080/"
    },
    "executionInfo": {
     "elapsed": 47,
     "status": "ok",
     "timestamp": 1705925740393,
     "user": {
      "displayName": "Anisha TaazaTV",
      "userId": "13026329044302659371"
     },
     "user_tz": -330
    },
    "id": "df498190",
    "outputId": "45ee579c-142f-4b01-e100-b16dbd37f582"
   },
   "outputs": [
    {
     "data": {
      "text/plain": [
       "127.108"
      ]
     },
     "execution_count": 75,
     "metadata": {},
     "output_type": "execute_result"
    }
   ],
   "source": [
    "upper_limit"
   ]
  },
  {
   "cell_type": "code",
   "execution_count": 75,
   "id": "8c36cc81",
   "metadata": {
    "executionInfo": {
     "elapsed": 46,
     "status": "ok",
     "timestamp": 1705925740393,
     "user": {
      "displayName": "Anisha TaazaTV",
      "userId": "13026329044302659371"
     },
     "user_tz": -330
    },
    "id": "8c36cc81"
   },
   "outputs": [],
   "source": []
  },
  {
   "cell_type": "code",
   "execution_count": 76,
   "id": "35f00df1",
   "metadata": {
    "executionInfo": {
     "elapsed": 47,
     "status": "ok",
     "timestamp": 1705925740394,
     "user": {
      "displayName": "Anisha TaazaTV",
      "userId": "13026329044302659371"
     },
     "user_tz": -330
    },
    "id": "35f00df1"
   },
   "outputs": [],
   "source": [
    "from feature_engine.outliers import Winsorizer\n",
    "winsor_iqr = Winsorizer(capping_method = 'iqr',\n",
    "                        # choose  IQR rule boundaries or gaussian for mean and std\n",
    "                          tail = 'both', # cap left, right or both tails\n",
    "                          fold = 1.5,\n",
    "                          variables = ['Final_Cost'])\n",
    "\n",
    "df_s = winsor_iqr.fit_transform(data2[['Final_Cost']])"
   ]
  },
  {
   "cell_type": "code",
   "execution_count": 77,
   "id": "3d9c773b",
   "metadata": {
    "colab": {
     "base_uri": "https://localhost:8080/",
     "height": 428
    },
    "executionInfo": {
     "elapsed": 47,
     "status": "ok",
     "timestamp": 1705925740394,
     "user": {
      "displayName": "Anisha TaazaTV",
      "userId": "13026329044302659371"
     },
     "user_tz": -330
    },
    "id": "3d9c773b",
    "outputId": "44739b3b-fb07-4246-a583-38cae567d1e9"
   },
   "outputs": [
    {
     "data": {
      "text/plain": [
       "<Axes: ylabel='Final_Cost'>"
      ]
     },
     "execution_count": 77,
     "metadata": {},
     "output_type": "execute_result"
    },
    {
     "data": {
      "image/png": "[encoded data removed]",
      "text/plain": [
       "<Figure size 640x480 with 1 Axes>"
      ]
     },
     "metadata": {},
     "output_type": "display_data"
    }
   ],
   "source": [
    "sns.boxplot(df_s.Final_Cost)"
   ]
  },
  {
   "cell_type": "code",
   "execution_count": 78,
   "id": "f80c0c89",
   "metadata": {
    "colab": {
     "base_uri": "https://localhost:8080/",
     "height": 428
    },
    "executionInfo": {
     "elapsed": 1099,
     "status": "ok",
     "timestamp": 1705925741451,
     "user": {
      "displayName": "Anisha TaazaTV",
      "userId": "13026329044302659371"
     },
     "user_tz": -330
    },
    "id": "f80c0c89",
    "outputId": "73c73cb6-ac22-4ec2-8ca6-71985dafeea5"
   },
   "outputs": [
    {
     "data": {
      "text/plain": [
       "<Axes: ylabel='Final_Sales'>"
      ]
     },
     "execution_count": 78,
     "metadata": {},
     "output_type": "execute_result"
    },
    {
     "data": {
      "image/png": "[encoded data removed]",
      "text/plain": [
       "<Figure size 640x480 with 1 Axes>"
      ]
     },
     "metadata": {},
     "output_type": "display_data"
    }
   ],
   "source": [
    "sns.boxplot(data2.Final_Sales)"
   ]
  },
  {
   "cell_type": "code",
   "execution_count": 79,
   "id": "e30d0e90",
   "metadata": {
    "colab": {
     "base_uri": "https://localhost:8080/"
    },
    "executionInfo": {
     "elapsed": 126,
     "status": "ok",
     "timestamp": 1705925741452,
     "user": {
      "displayName": "Anisha TaazaTV",
      "userId": "13026329044302659371"
     },
     "user_tz": -330
    },
    "id": "e30d0e90",
    "outputId": "9c69e78d-d793-428c-be23-ff80ec8c6c9e"
   },
   "outputs": [
    {
     "data": {
      "text/plain": [
       "133.155"
      ]
     },
     "execution_count": 79,
     "metadata": {},
     "output_type": "execute_result"
    }
   ],
   "source": [
    "IQR = data2['Final_Sales'].quantile(0.75) - data2['Final_Sales'].quantile(0.25)\n",
    "lower_limit = data2['Final_Sales'].quantile(0.25) - (IQR * 1.5)\n",
    "upper_limit = data2['Final_Sales'].quantile(0.75) + (IQR * 1.5)\n",
    "IQR"
   ]
  },
  {
   "cell_type": "code",
   "execution_count": 80,
   "id": "f90658d0",
   "metadata": {
    "colab": {
     "base_uri": "https://localhost:8080/"
    },
    "executionInfo": {
     "elapsed": 122,
     "status": "ok",
     "timestamp": 1705925741452,
     "user": {
      "displayName": "Anisha TaazaTV",
      "userId": "13026329044302659371"
     },
     "user_tz": -330
    },
    "id": "f90658d0",
    "outputId": "366abf73-c6d2-4747-f95f-65157807746e"
   },
   "outputs": [
    {
     "data": {
      "text/plain": [
       "-151.88750000000002"
      ]
     },
     "execution_count": 80,
     "metadata": {},
     "output_type": "execute_result"
    }
   ],
   "source": [
    "lower_limit"
   ]
  },
  {
   "cell_type": "code",
   "execution_count": 81,
   "id": "ff8c1dce",
   "metadata": {
    "colab": {
     "base_uri": "https://localhost:8080/"
    },
    "executionInfo": {
     "elapsed": 118,
     "status": "ok",
     "timestamp": 1705925741452,
     "user": {
      "displayName": "Anisha TaazaTV",
      "userId": "13026329044302659371"
     },
     "user_tz": -330
    },
    "id": "ff8c1dce",
    "outputId": "877b01da-16db-476e-9b4f-7130f2b45628"
   },
   "outputs": [
    {
     "data": {
      "text/plain": [
       "380.7325"
      ]
     },
     "execution_count": 81,
     "metadata": {},
     "output_type": "execute_result"
    }
   ],
   "source": [
    "upper_limit"
   ]
  },
  {
   "cell_type": "code",
   "execution_count": 82,
   "id": "1be060ea",
   "metadata": {
    "executionInfo": {
     "elapsed": 117,
     "status": "ok",
     "timestamp": 1705925741453,
     "user": {
      "displayName": "Anisha TaazaTV",
      "userId": "13026329044302659371"
     },
     "user_tz": -330
    },
    "id": "1be060ea"
   },
   "outputs": [],
   "source": [
    "winsor_iqr = Winsorizer(capping_method = 'iqr',\n",
    "                        # choose  IQR rule boundaries or gaussian for mean and std\n",
    "                          tail = 'both', # cap left, right or both tails\n",
    "                          fold = 1.5,\n",
    "                          variables = ['Final_Sales'])\n",
    "\n",
    "df_s = winsor_iqr.fit_transform(data2[['Final_Sales']])"
   ]
  },
  {
   "cell_type": "code",
   "execution_count": 83,
   "id": "a91d1552",
   "metadata": {
    "colab": {
     "base_uri": "https://localhost:8080/",
     "height": 428
    },
    "executionInfo": {
     "elapsed": 117,
     "status": "ok",
     "timestamp": 1705925741453,
     "user": {
      "displayName": "Anisha TaazaTV",
      "userId": "13026329044302659371"
     },
     "user_tz": -330
    },
    "id": "a91d1552",
    "outputId": "7e649f13-772d-4eb0-d3ae-9fbac88e62b6"
   },
   "outputs": [
    {
     "data": {
      "text/plain": [
       "<Axes: ylabel='Final_Sales'>"
      ]
     },
     "execution_count": 83,
     "metadata": {},
     "output_type": "execute_result"
    },
    {
     "data": {
      "image/png": "[encoded data removed]",
      "text/plain": [
       "<Figure size 640x480 with 1 Axes>"
      ]
     },
     "metadata": {},
     "output_type": "display_data"
    }
   ],
   "source": [
    "sns.boxplot(df_s.Final_Sales)"
   ]
  },
  {
   "cell_type": "code",
   "execution_count": 84,
   "id": "c9fc96d4",
   "metadata": {
    "colab": {
     "base_uri": "https://localhost:8080/",
     "height": 773
    },
    "executionInfo": {
     "elapsed": 114,
     "status": "ok",
     "timestamp": 1705925741453,
     "user": {
      "displayName": "Anisha TaazaTV",
      "userId": "13026329044302659371"
     },
     "user_tz": -330
    },
    "id": "c9fc96d4",
    "outputId": "bc2d0bb1-4bce-4fe5-95a0-2ef99d7627b1"
   },
   "outputs": [
    {
     "data": {
      "text/html": [
       "\n",
       "  <div id=\"df-0e9d17b7-69c4-4f0f-9795-f8f1a55244fe\" class=\"colab-df-container\">\n",
       "    <div>\n",
       "<style scoped>\n",
       "    .dataframe tbody tr th:only-of-type {\n",
       "        vertical-align: middle;\n",
       "    }\n",
       "\n",
       "    .dataframe tbody tr th {\n",
       "        vertical-align: top;\n",
       "    }\n",
       "\n",
       "    .dataframe thead th {\n",
       "        text-align: right;\n",
       "    }\n",
       "</style>\n",
       "<table border=\"1\" class=\"dataframe\">\n",
       "  <thead>\n",
       "    <tr style=\"text-align: right;\">\n",
       "      <th></th>\n",
       "      <th>Typeofsales</th>\n",
       "      <th>Patient_ID</th>\n",
       "      <th>Specialisation</th>\n",
       "      <th>Dept</th>\n",
       "      <th>Dateofbill</th>\n",
       "      <th>Quantity</th>\n",
       "      <th>ReturnQuantity</th>\n",
       "      <th>Final_Cost</th>\n",
       "      <th>Final_Sales</th>\n",
       "      <th>RtnMRP</th>\n",
       "      <th>Formulation</th>\n",
       "      <th>DrugName</th>\n",
       "      <th>SubCat</th>\n",
       "      <th>SubCat1</th>\n",
       "    </tr>\n",
       "  </thead>\n",
       "  <tbody>\n",
       "    <tr>\n",
       "      <th>0</th>\n",
       "      <td>Sale</td>\n",
       "      <td>12018098765</td>\n",
       "      <td>Specialisation6</td>\n",
       "      <td>Department1</td>\n",
       "      <td>06-01-2022</td>\n",
       "      <td>1.0</td>\n",
       "      <td>0</td>\n",
       "      <td>55.406</td>\n",
       "      <td>59.260</td>\n",
       "      <td>0.0</td>\n",
       "      <td>Form1</td>\n",
       "      <td>ZINC ACETATE 20MG/5ML SYP</td>\n",
       "      <td>SYRUP &amp; SUSPENSION</td>\n",
       "      <td>VITAMINS &amp; MINERALS</td>\n",
       "    </tr>\n",
       "    <tr>\n",
       "      <th>1</th>\n",
       "      <td>Sale</td>\n",
       "      <td>12018103897</td>\n",
       "      <td>Specialisation7</td>\n",
       "      <td>Department1</td>\n",
       "      <td>7/23/2022</td>\n",
       "      <td>1.0</td>\n",
       "      <td>0</td>\n",
       "      <td>768.638</td>\n",
       "      <td>950.800</td>\n",
       "      <td>0.0</td>\n",
       "      <td>Form1</td>\n",
       "      <td>CEFTAZIDIME 2GM+AVIBACTAM 500MG</td>\n",
       "      <td>INJECTIONS</td>\n",
       "      <td>ANTI-INFECTIVES</td>\n",
       "    </tr>\n",
       "    <tr>\n",
       "      <th>2</th>\n",
       "      <td>Sale</td>\n",
       "      <td>12018101123</td>\n",
       "      <td>Specialisation2</td>\n",
       "      <td>Department3</td>\n",
       "      <td>6/23/2022</td>\n",
       "      <td>1.0</td>\n",
       "      <td>0</td>\n",
       "      <td>774.266</td>\n",
       "      <td>4004.214</td>\n",
       "      <td>0.0</td>\n",
       "      <td>Form2</td>\n",
       "      <td>EPTIFIBATIDE 0.75MG/ML</td>\n",
       "      <td>INJECTIONS</td>\n",
       "      <td>CARDIOVASCULAR &amp; HEMATOPOIETIC SYSTEM</td>\n",
       "    </tr>\n",
       "    <tr>\n",
       "      <th>3</th>\n",
       "      <td>Sale</td>\n",
       "      <td>12018079281</td>\n",
       "      <td>Specialisation40</td>\n",
       "      <td>Department1</td>\n",
       "      <td>3/17/2022</td>\n",
       "      <td>2.0</td>\n",
       "      <td>0</td>\n",
       "      <td>40.798</td>\n",
       "      <td>81.044</td>\n",
       "      <td>0.0</td>\n",
       "      <td>Form1</td>\n",
       "      <td>WATER FOR INJECTION 10ML SOLUTION</td>\n",
       "      <td>INJECTIONS</td>\n",
       "      <td>INTRAVENOUS &amp; OTHER STERILE SOLUTIONS</td>\n",
       "    </tr>\n",
       "    <tr>\n",
       "      <th>4</th>\n",
       "      <td>Sale</td>\n",
       "      <td>12018117928</td>\n",
       "      <td>Specialisation5</td>\n",
       "      <td>Department1</td>\n",
       "      <td>12/21/2022</td>\n",
       "      <td>1.0</td>\n",
       "      <td>0</td>\n",
       "      <td>40.434</td>\n",
       "      <td>40.504</td>\n",
       "      <td>0.0</td>\n",
       "      <td>Form1</td>\n",
       "      <td>LORAZEPAM 1MG</td>\n",
       "      <td>TABLETS &amp; CAPSULES</td>\n",
       "      <td>CENTRAL NERVOUS SYSTEM</td>\n",
       "    </tr>\n",
       "    <tr>\n",
       "      <th>...</th>\n",
       "      <td>...</td>\n",
       "      <td>...</td>\n",
       "      <td>...</td>\n",
       "      <td>...</td>\n",
       "      <td>...</td>\n",
       "      <td>...</td>\n",
       "      <td>...</td>\n",
       "      <td>...</td>\n",
       "      <td>...</td>\n",
       "      <td>...</td>\n",
       "      <td>...</td>\n",
       "      <td>...</td>\n",
       "      <td>...</td>\n",
       "      <td>...</td>\n",
       "    </tr>\n",
       "    <tr>\n",
       "      <th>14213</th>\n",
       "      <td>Sale</td>\n",
       "      <td>12018099994</td>\n",
       "      <td>Specialisation39</td>\n",
       "      <td>Department1</td>\n",
       "      <td>6/19/2022</td>\n",
       "      <td>3.0</td>\n",
       "      <td>0</td>\n",
       "      <td>61.436</td>\n",
       "      <td>145.200</td>\n",
       "      <td>0.0</td>\n",
       "      <td>Form1</td>\n",
       "      <td>SODIUM CHLORIDE IVF 100ML</td>\n",
       "      <td>IV FLUIDS, ELECTROLYTES, TPN</td>\n",
       "      <td>INTRAVENOUS &amp; OTHER STERILE SOLUTIONS</td>\n",
       "    </tr>\n",
       "    <tr>\n",
       "      <th>14214</th>\n",
       "      <td>Sale</td>\n",
       "      <td>12018047025</td>\n",
       "      <td>Specialisation4</td>\n",
       "      <td>Department1</td>\n",
       "      <td>2/24/2022</td>\n",
       "      <td>3.0</td>\n",
       "      <td>0</td>\n",
       "      <td>64.448</td>\n",
       "      <td>119.692</td>\n",
       "      <td>0.0</td>\n",
       "      <td>Form1</td>\n",
       "      <td>PIPERACILLIN 1GM + TAZOBACTAM 125MG</td>\n",
       "      <td>INJECTIONS</td>\n",
       "      <td>ANTI-INFECTIVES</td>\n",
       "    </tr>\n",
       "    <tr>\n",
       "      <th>14215</th>\n",
       "      <td>Sale</td>\n",
       "      <td>12018017139</td>\n",
       "      <td>Specialisation1</td>\n",
       "      <td>Department1</td>\n",
       "      <td>6/27/2022</td>\n",
       "      <td>3.0</td>\n",
       "      <td>0</td>\n",
       "      <td>74.944</td>\n",
       "      <td>642.040</td>\n",
       "      <td>0.0</td>\n",
       "      <td>Form1</td>\n",
       "      <td>PARACETAMOL 1GM IV INJ</td>\n",
       "      <td>INJECTIONS</td>\n",
       "      <td>CENTRAL NERVOUS SYSTEM</td>\n",
       "    </tr>\n",
       "    <tr>\n",
       "      <th>14216</th>\n",
       "      <td>Sale</td>\n",
       "      <td>12018044140</td>\n",
       "      <td>Specialisation20</td>\n",
       "      <td>Department1</td>\n",
       "      <td>7/30/2022</td>\n",
       "      <td>3.0</td>\n",
       "      <td>0</td>\n",
       "      <td>111.680</td>\n",
       "      <td>181.000</td>\n",
       "      <td>0.0</td>\n",
       "      <td>Form3</td>\n",
       "      <td>MEROPENEM 1GM INJ</td>\n",
       "      <td>INJECTIONS</td>\n",
       "      <td>ANTI-INFECTIVES</td>\n",
       "    </tr>\n",
       "    <tr>\n",
       "      <th>14217</th>\n",
       "      <td>Sale</td>\n",
       "      <td>12018116820</td>\n",
       "      <td>Specialisation26</td>\n",
       "      <td>Department1</td>\n",
       "      <td>10/24/2022</td>\n",
       "      <td>3.0</td>\n",
       "      <td>0</td>\n",
       "      <td>46.182</td>\n",
       "      <td>133.800</td>\n",
       "      <td>0.0</td>\n",
       "      <td>Form1</td>\n",
       "      <td>TRAMADOL</td>\n",
       "      <td>INJECTIONS</td>\n",
       "      <td>CENTRAL NERVOUS SYSTEM</td>\n",
       "    </tr>\n",
       "  </tbody>\n",
       "</table>\n",
       "<p>14192 rows × 14 columns</p>\n",
       "</div>\n",
       "    <div class=\"colab-df-buttons\">\n",
       "\n",
       "  <div class=\"colab-df-container\">\n",
       "    <button class=\"colab-df-convert\" onclick=\"convertToInteractive('df-0e9d17b7-69c4-4f0f-9795-f8f1a55244fe')\"\n",
       "            title=\"Convert this dataframe to an interactive table.\"\n",
       "            style=\"display:none;\">\n",
       "\n",
       "  <svg xmlns=\"http://www.w3.org/2000/svg\" height=\"24px\" viewBox=\"0 -960 960 960\">\n",
       "    <path d=\"M120-120v-720h720v720H120Zm60-500h600v-160H180v160Zm220 220h160v-160H400v160Zm0 220h160v-160H400v160ZM180-400h160v-160H180v160Zm440 0h160v-160H620v160ZM180-180h160v-160H180v160Zm440 0h160v-160H620v160Z\"/>\n",
       "  </svg>\n",
       "    </button>\n",
       "\n",
       "  <style>\n",
       "    .colab-df-container {\n",
       "      display:flex;\n",
       "      gap: 12px;\n",
       "    }\n",
       "\n",
       "    .colab-df-convert {\n",
       "      background-color: #E8F0FE;\n",
       "      border: none;\n",
       "      border-radius: 50%;\n",
       "      cursor: pointer;\n",
       "      display: none;\n",
       "      fill: #1967D2;\n",
       "      height: 32px;\n",
       "      padding: 0 0 0 0;\n",
       "      width: 32px;\n",
       "    }\n",
       "\n",
       "    .colab-df-convert:hover {\n",
       "      background-color: #E2EBFA;\n",
       "      box-shadow: 0px 1px 2px rgba(60, 64, 67, 0.3), 0px 1px 3px 1px rgba(60, 64, 67, 0.15);\n",
       "      fill: #174EA6;\n",
       "    }\n",
       "\n",
       "    .colab-df-buttons div {\n",
       "      margin-bottom: 4px;\n",
       "    }\n",
       "\n",
       "    [theme=dark] .colab-df-convert {\n",
       "      background-color: #3B4455;\n",
       "      fill: #D2E3FC;\n",
       "    }\n",
       "\n",
       "    [theme=dark] .colab-df-convert:hover {\n",
       "      background-color: #434B5C;\n",
       "      box-shadow: 0px 1px 3px 1px rgba(0, 0, 0, 0.15);\n",
       "      filter: drop-shadow(0px 1px 2px rgba(0, 0, 0, 0.3));\n",
       "      fill: #FFFFFF;\n",
       "    }\n",
       "  </style>\n",
       "\n",
       "    <script>\n",
       "      const buttonEl =\n",
       "        document.querySelector('#df-0e9d17b7-69c4-4f0f-9795-f8f1a55244fe button.colab-df-convert');\n",
       "      buttonEl.style.display =\n",
       "        google.colab.kernel.accessAllowed ? 'block' : 'none';\n",
       "\n",
       "      async function convertToInteractive(key) {\n",
       "        const element = document.querySelector('#df-0e9d17b7-69c4-4f0f-9795-f8f1a55244fe');\n",
       "        const dataTable =\n",
       "          await google.colab.kernel.invokeFunction('convertToInteractive',\n",
       "                                                    [key], {});\n",
       "        if (!dataTable) return;\n",
       "\n",
       "        const docLinkHtml = 'Like what you see? Visit the ' +\n",
       "          '<a target=\"_blank\" href=https://colab.research.google.com/notebooks/data_table.ipynb>data table notebook</a>'\n",
       "          + ' to learn more about interactive tables.';\n",
       "        element.innerHTML = '';\n",
       "        dataTable['output_type'] = 'display_data';\n",
       "        await google.colab.output.renderOutput(dataTable, element);\n",
       "        const docLink = document.createElement('div');\n",
       "        docLink.innerHTML = docLinkHtml;\n",
       "        element.appendChild(docLink);\n",
       "      }\n",
       "    </script>\n",
       "  </div>\n",
       "\n",
       "\n",
       "<div id=\"df-9bd54c33-0306-4164-a422-00f2bc728dfb\">\n",
       "  <button class=\"colab-df-quickchart\" onclick=\"quickchart('df-9bd54c33-0306-4164-a422-00f2bc728dfb')\"\n",
       "            title=\"Suggest charts\"\n",
       "            style=\"display:none;\">\n",
       "\n",
       "<svg xmlns=\"http://www.w3.org/2000/svg\" height=\"24px\"viewBox=\"0 0 24 24\"\n",
       "     width=\"24px\">\n",
       "    <g>\n",
       "        <path d=\"M19 3H5c-1.1 0-2 .9-2 2v14c0 1.1.9 2 2 2h14c1.1 0 2-.9 2-2V5c0-1.1-.9-2-2-2zM9 17H7v-7h2v7zm4 0h-2V7h2v10zm4 0h-2v-4h2v4z\"/>\n",
       "    </g>\n",
       "</svg>\n",
       "  </button>\n",
       "\n",
       "<style>\n",
       "  .colab-df-quickchart {\n",
       "      --bg-color: #E8F0FE;\n",
       "      --fill-color: #1967D2;\n",
       "      --hover-bg-color: #E2EBFA;\n",
       "      --hover-fill-color: #174EA6;\n",
       "      --disabled-fill-color: #AAA;\n",
       "      --disabled-bg-color: #DDD;\n",
       "  }\n",
       "\n",
       "  [theme=dark] .colab-df-quickchart {\n",
       "      --bg-color: #3B4455;\n",
       "      --fill-color: #D2E3FC;\n",
       "      --hover-bg-color: #434B5C;\n",
       "      --hover-fill-color: #FFFFFF;\n",
       "      --disabled-bg-color: #3B4455;\n",
       "      --disabled-fill-color: #666;\n",
       "  }\n",
       "\n",
       "  .colab-df-quickchart {\n",
       "    background-color: var(--bg-color);\n",
       "    border: none;\n",
       "    border-radius: 50%;\n",
       "    cursor: pointer;\n",
       "    display: none;\n",
       "    fill: var(--fill-color);\n",
       "    height: 32px;\n",
       "    padding: 0;\n",
       "    width: 32px;\n",
       "  }\n",
       "\n",
       "  .colab-df-quickchart:hover {\n",
       "    background-color: var(--hover-bg-color);\n",
       "    box-shadow: 0 1px 2px rgba(60, 64, 67, 0.3), 0 1px 3px 1px rgba(60, 64, 67, 0.15);\n",
       "    fill: var(--button-hover-fill-color);\n",
       "  }\n",
       "\n",
       "  .colab-df-quickchart-complete:disabled,\n",
       "  .colab-df-quickchart-complete:disabled:hover {\n",
       "    background-color: var(--disabled-bg-color);\n",
       "    fill: var(--disabled-fill-color);\n",
       "    box-shadow: none;\n",
       "  }\n",
       "\n",
       "  .colab-df-spinner {\n",
       "    border: 2px solid var(--fill-color);\n",
       "    border-color: transparent;\n",
       "    border-bottom-color: var(--fill-color);\n",
       "    animation:\n",
       "      spin 1s steps(1) infinite;\n",
       "  }\n",
       "\n",
       "  @keyframes spin {\n",
       "    0% {\n",
       "      border-color: transparent;\n",
       "      border-bottom-color: var(--fill-color);\n",
       "      border-left-color: var(--fill-color);\n",
       "    }\n",
       "    20% {\n",
       "      border-color: transparent;\n",
       "      border-left-color: var(--fill-color);\n",
       "      border-top-color: var(--fill-color);\n",
       "    }\n",
       "    30% {\n",
       "      border-color: transparent;\n",
       "      border-left-color: var(--fill-color);\n",
       "      border-top-color: var(--fill-color);\n",
       "      border-right-color: var(--fill-color);\n",
       "    }\n",
       "    40% {\n",
       "      border-color: transparent;\n",
       "      border-right-color: var(--fill-color);\n",
       "      border-top-color: var(--fill-color);\n",
       "    }\n",
       "    60% {\n",
       "      border-color: transparent;\n",
       "      border-right-color: var(--fill-color);\n",
       "    }\n",
       "    80% {\n",
       "      border-color: transparent;\n",
       "      border-right-color: var(--fill-color);\n",
       "      border-bottom-color: var(--fill-color);\n",
       "    }\n",
       "    90% {\n",
       "      border-color: transparent;\n",
       "      border-bottom-color: var(--fill-color);\n",
       "    }\n",
       "  }\n",
       "</style>\n",
       "\n",
       "  <script>\n",
       "    async function quickchart(key) {\n",
       "      const quickchartButtonEl =\n",
       "        document.querySelector('#' + key + ' button');\n",
       "      quickchartButtonEl.disabled = true;  // To prevent multiple clicks.\n",
       "      quickchartButtonEl.classList.add('colab-df-spinner');\n",
       "      try {\n",
       "        const charts = await google.colab.kernel.invokeFunction(\n",
       "            'suggestCharts', [key], {});\n",
       "      } catch (error) {\n",
       "        console.error('Error during call to suggestCharts:', error);\n",
       "      }\n",
       "      quickchartButtonEl.classList.remove('colab-df-spinner');\n",
       "      quickchartButtonEl.classList.add('colab-df-quickchart-complete');\n",
       "    }\n",
       "    (() => {\n",
       "      let quickchartButtonEl =\n",
       "        document.querySelector('#df-9bd54c33-0306-4164-a422-00f2bc728dfb button');\n",
       "      quickchartButtonEl.style.display =\n",
       "        google.colab.kernel.accessAllowed ? 'block' : 'none';\n",
       "    })();\n",
       "  </script>\n",
       "</div>\n",
       "\n",
       "  <div id=\"id_72778218-96c8-4570-826f-cfed42cd028d\">\n",
       "    <style>\n",
       "      .colab-df-generate {\n",
       "        background-color: #E8F0FE;\n",
       "        border: none;\n",
       "        border-radius: 50%;\n",
       "        cursor: pointer;\n",
       "        display: none;\n",
       "        fill: #1967D2;\n",
       "        height: 32px;\n",
       "        padding: 0 0 0 0;\n",
       "        width: 32px;\n",
       "      }\n",
       "\n",
       "      .colab-df-generate:hover {\n",
       "        background-color: #E2EBFA;\n",
       "        box-shadow: 0px 1px 2px rgba(60, 64, 67, 0.3), 0px 1px 3px 1px rgba(60, 64, 67, 0.15);\n",
       "        fill: #174EA6;\n",
       "      }\n",
       "\n",
       "      [theme=dark] .colab-df-generate {\n",
       "        background-color: #3B4455;\n",
       "        fill: #D2E3FC;\n",
       "      }\n",
       "\n",
       "      [theme=dark] .colab-df-generate:hover {\n",
       "        background-color: #434B5C;\n",
       "        box-shadow: 0px 1px 3px 1px rgba(0, 0, 0, 0.15);\n",
       "        filter: drop-shadow(0px 1px 2px rgba(0, 0, 0, 0.3));\n",
       "        fill: #FFFFFF;\n",
       "      }\n",
       "    </style>\n",
       "    <button class=\"colab-df-generate\" onclick=\"generateWithVariable('data2')\"\n",
       "            title=\"Generate code using this dataframe.\"\n",
       "            style=\"display:none;\">\n",
       "\n",
       "  <svg xmlns=\"http://www.w3.org/2000/svg\" height=\"24px\"viewBox=\"0 0 24 24\"\n",
       "       width=\"24px\">\n",
       "    <path d=\"M7,19H8.4L18.45,9,17,7.55,7,17.6ZM5,21V16.75L18.45,3.32a2,2,0,0,1,2.83,0l1.4,1.43a1.91,1.91,0,0,1,.58,1.4,1.91,1.91,0,0,1-.58,1.4L9.25,21ZM18.45,9,17,7.55Zm-12,3A5.31,5.31,0,0,0,4.9,8.1,5.31,5.31,0,0,0,1,6.5,5.31,5.31,0,0,0,4.9,4.9,5.31,5.31,0,0,0,6.5,1,5.31,5.31,0,0,0,8.1,4.9,5.31,5.31,0,0,0,12,6.5,5.46,5.46,0,0,0,6.5,12Z\"/>\n",
       "  </svg>\n",
       "    </button>\n",
       "    <script>\n",
       "      (() => {\n",
       "      const buttonEl =\n",
       "        document.querySelector('#id_72778218-96c8-4570-826f-cfed42cd028d button.colab-df-generate');\n",
       "      buttonEl.style.display =\n",
       "        google.colab.kernel.accessAllowed ? 'block' : 'none';\n",
       "\n",
       "      buttonEl.onclick = () => {\n",
       "        google.colab.notebook.generateWithVariable('data2');\n",
       "      }\n",
       "      })();\n",
       "    </script>\n",
       "  </div>\n",
       "\n",
       "    </div>\n",
       "  </div>\n"
      ],
      "text/plain": [
       "      Typeofsales   Patient_ID    Specialisation         Dept  Dateofbill  \\\n",
       "0            Sale  12018098765   Specialisation6  Department1  06-01-2022   \n",
       "1            Sale  12018103897   Specialisation7  Department1   7/23/2022   \n",
       "2            Sale  12018101123   Specialisation2  Department3   6/23/2022   \n",
       "3            Sale  12018079281  Specialisation40  Department1   3/17/2022   \n",
       "4            Sale  12018117928   Specialisation5  Department1  12/21/2022   \n",
       "...           ...          ...               ...          ...         ...   \n",
       "14213        Sale  12018099994  Specialisation39  Department1   6/19/2022   \n",
       "14214        Sale  12018047025   Specialisation4  Department1   2/24/2022   \n",
       "14215        Sale  12018017139   Specialisation1  Department1   6/27/2022   \n",
       "14216        Sale  12018044140  Specialisation20  Department1   7/30/2022   \n",
       "14217        Sale  12018116820  Specialisation26  Department1  10/24/2022   \n",
       "\n",
       "       Quantity  ReturnQuantity  Final_Cost  Final_Sales  RtnMRP Formulation  \\\n",
       "0           1.0               0      55.406       59.260     0.0       Form1   \n",
       "1           1.0               0     768.638      950.800     0.0       Form1   \n",
       "2           1.0               0     774.266     4004.214     0.0       Form2   \n",
       "3           2.0               0      40.798       81.044     0.0       Form1   \n",
       "4           1.0               0      40.434       40.504     0.0       Form1   \n",
       "...         ...             ...         ...          ...     ...         ...   \n",
       "14213       3.0               0      61.436      145.200     0.0       Form1   \n",
       "14214       3.0               0      64.448      119.692     0.0       Form1   \n",
       "14215       3.0               0      74.944      642.040     0.0       Form1   \n",
       "14216       3.0               0     111.680      181.000     0.0       Form3   \n",
       "14217       3.0               0      46.182      133.800     0.0       Form1   \n",
       "\n",
       "                                  DrugName                        SubCat  \\\n",
       "0                ZINC ACETATE 20MG/5ML SYP            SYRUP & SUSPENSION   \n",
       "1          CEFTAZIDIME 2GM+AVIBACTAM 500MG                    INJECTIONS   \n",
       "2                   EPTIFIBATIDE 0.75MG/ML                    INJECTIONS   \n",
       "3        WATER FOR INJECTION 10ML SOLUTION                    INJECTIONS   \n",
       "4                            LORAZEPAM 1MG            TABLETS & CAPSULES   \n",
       "...                                    ...                           ...   \n",
       "14213            SODIUM CHLORIDE IVF 100ML  IV FLUIDS, ELECTROLYTES, TPN   \n",
       "14214  PIPERACILLIN 1GM + TAZOBACTAM 125MG                    INJECTIONS   \n",
       "14215               PARACETAMOL 1GM IV INJ                    INJECTIONS   \n",
       "14216                    MEROPENEM 1GM INJ                    INJECTIONS   \n",
       "14217                             TRAMADOL                    INJECTIONS   \n",
       "\n",
       "                                     SubCat1  \n",
       "0                        VITAMINS & MINERALS  \n",
       "1                            ANTI-INFECTIVES  \n",
       "2      CARDIOVASCULAR & HEMATOPOIETIC SYSTEM  \n",
       "3      INTRAVENOUS & OTHER STERILE SOLUTIONS  \n",
       "4                     CENTRAL NERVOUS SYSTEM  \n",
       "...                                      ...  \n",
       "14213  INTRAVENOUS & OTHER STERILE SOLUTIONS  \n",
       "14214                        ANTI-INFECTIVES  \n",
       "14215                 CENTRAL NERVOUS SYSTEM  \n",
       "14216                        ANTI-INFECTIVES  \n",
       "14217                 CENTRAL NERVOUS SYSTEM  \n",
       "\n",
       "[14192 rows x 14 columns]"
      ]
     },
     "execution_count": 84,
     "metadata": {},
     "output_type": "execute_result"
    }
   ],
   "source": [
    "data2"
   ]
  },
  {
   "cell_type": "code",
   "execution_count": 85,
   "id": "67a4ade0",
   "metadata": {
    "colab": {
     "base_uri": "https://localhost:8080/"
    },
    "executionInfo": {
     "elapsed": 113,
     "status": "ok",
     "timestamp": 1705925741454,
     "user": {
      "displayName": "Anisha TaazaTV",
      "userId": "13026329044302659371"
     },
     "user_tz": -330
    },
    "id": "67a4ade0",
    "outputId": "554ba32d-975c-4807-af86-f66c96d0bd8a"
   },
   "outputs": [
    {
     "data": {
      "text/plain": [
       "(14192, 14)"
      ]
     },
     "execution_count": 85,
     "metadata": {},
     "output_type": "execute_result"
    }
   ],
   "source": [
    "data2.columns # column names\n",
    "data2.shape"
   ]
  },
  {
   "cell_type": "code",
   "execution_count": 85,
   "id": "adbee27c",
   "metadata": {
    "executionInfo": {
     "elapsed": 111,
     "status": "ok",
     "timestamp": 1705925741454,
     "user": {
      "displayName": "Anisha TaazaTV",
      "userId": "13026329044302659371"
     },
     "user_tz": -330
    },
    "id": "adbee27c"
   },
   "outputs": [],
   "source": []
  },
  {
   "cell_type": "code",
   "execution_count": 86,
   "id": "033f685e",
   "metadata": {
    "colab": {
     "base_uri": "https://localhost:8080/"
    },
    "executionInfo": {
     "elapsed": 110,
     "status": "ok",
     "timestamp": 1705925741454,
     "user": {
      "displayName": "Anisha TaazaTV",
      "userId": "13026329044302659371"
     },
     "user_tz": -330
    },
    "id": "033f685e",
    "outputId": "a6c956ce-5c1e-4be0-b251-53e6d3c7f68c"
   },
   "outputs": [
    {
     "name": "stderr",
     "output_type": "stream",
     "text": [
      "<ipython-input-86-ffc3ac8527d4>:5: SettingWithCopyWarning: \n",
      "A value is trying to be set on a copy of a slice from a DataFrame.\n",
      "Try using .loc[row_indexer,col_indexer] = value instead\n",
      "\n",
      "See the caveats in the documentation: https://pandas.pydata.org/pandas-docs/stable/user_guide/indexing.html#returning-a-view-versus-a-copy\n",
      "  data2['Dateofbill'] = pd.to_datetime(data2['Dateofbill'])\n",
      "<ipython-input-86-ffc3ac8527d4>:11: FutureWarning: The default value of numeric_only in DataFrameGroupBy.sum is deprecated. In a future version, numeric_only will default to False. Either specify numeric_only or select only columns which should be valid for the function.\n",
      "  weekly_data = data2.resample('W').sum()\n"
     ]
    }
   ],
   "source": [
    "import pandas as pd\n",
    "\n",
    "# Assuming 'df' is your DataFrame with a date column\n",
    "# Make sure the date column is in datetime format\n",
    "data2['Dateofbill'] = pd.to_datetime(data2['Dateofbill'])\n",
    "\n",
    "# Set the 'Date' column as the index (if not already done)\n",
    "data2.set_index('Dateofbill', inplace=True)\n",
    "\n",
    "# Use weekly resampling and apply a aggregation function (e.g., mean, sum, etc.)\n",
    "weekly_data = data2.resample('W').sum()\n"
   ]
  },
  {
   "cell_type": "code",
   "execution_count": 87,
   "id": "11032b25",
   "metadata": {
    "colab": {
     "base_uri": "https://localhost:8080/",
     "height": 1000
    },
    "executionInfo": {
     "elapsed": 108,
     "status": "ok",
     "timestamp": 1705925741454,
     "user": {
      "displayName": "Anisha TaazaTV",
      "userId": "13026329044302659371"
     },
     "user_tz": -330
    },
    "id": "11032b25",
    "outputId": "87e0fb8c-076e-4f25-b894-371325ef5289"
   },
   "outputs": [
    {
     "data": {
      "text/html": [
       "\n",
       "  <div id=\"df-8f87ef33-bbc4-4fff-8cb1-43d57b3fd199\" class=\"colab-df-container\">\n",
       "    <div>\n",
       "<style scoped>\n",
       "    .dataframe tbody tr th:only-of-type {\n",
       "        vertical-align: middle;\n",
       "    }\n",
       "\n",
       "    .dataframe tbody tr th {\n",
       "        vertical-align: top;\n",
       "    }\n",
       "\n",
       "    .dataframe thead th {\n",
       "        text-align: right;\n",
       "    }\n",
       "</style>\n",
       "<table border=\"1\" class=\"dataframe\">\n",
       "  <thead>\n",
       "    <tr style=\"text-align: right;\">\n",
       "      <th></th>\n",
       "      <th>Patient_ID</th>\n",
       "      <th>Quantity</th>\n",
       "      <th>ReturnQuantity</th>\n",
       "      <th>Final_Cost</th>\n",
       "      <th>Final_Sales</th>\n",
       "      <th>RtnMRP</th>\n",
       "    </tr>\n",
       "    <tr>\n",
       "      <th>Dateofbill</th>\n",
       "      <th></th>\n",
       "      <th></th>\n",
       "      <th></th>\n",
       "      <th></th>\n",
       "      <th></th>\n",
       "      <th></th>\n",
       "    </tr>\n",
       "  </thead>\n",
       "  <tbody>\n",
       "    <tr>\n",
       "      <th>2022-01-02</th>\n",
       "      <td>648975866319</td>\n",
       "      <td>185.0</td>\n",
       "      <td>4</td>\n",
       "      <td>10998.058</td>\n",
       "      <td>19322.512</td>\n",
       "      <td>584.692</td>\n",
       "    </tr>\n",
       "    <tr>\n",
       "      <th>2022-01-09</th>\n",
       "      <td>2896354768882</td>\n",
       "      <td>550.0</td>\n",
       "      <td>76</td>\n",
       "      <td>36201.560</td>\n",
       "      <td>63476.782</td>\n",
       "      <td>9175.030</td>\n",
       "    </tr>\n",
       "    <tr>\n",
       "      <th>2022-01-16</th>\n",
       "      <td>2511776678757</td>\n",
       "      <td>476.0</td>\n",
       "      <td>86</td>\n",
       "      <td>16530.166</td>\n",
       "      <td>27980.136</td>\n",
       "      <td>8388.456</td>\n",
       "    </tr>\n",
       "    <tr>\n",
       "      <th>2022-01-23</th>\n",
       "      <td>2547830658891</td>\n",
       "      <td>476.0</td>\n",
       "      <td>45</td>\n",
       "      <td>22114.732</td>\n",
       "      <td>51275.610</td>\n",
       "      <td>3615.626</td>\n",
       "    </tr>\n",
       "    <tr>\n",
       "      <th>2022-01-30</th>\n",
       "      <td>3076626395290</td>\n",
       "      <td>513.0</td>\n",
       "      <td>37</td>\n",
       "      <td>30985.778</td>\n",
       "      <td>60239.426</td>\n",
       "      <td>3953.766</td>\n",
       "    </tr>\n",
       "    <tr>\n",
       "      <th>2022-02-06</th>\n",
       "      <td>3244879899719</td>\n",
       "      <td>607.0</td>\n",
       "      <td>154</td>\n",
       "      <td>34796.398</td>\n",
       "      <td>67425.274</td>\n",
       "      <td>14164.406</td>\n",
       "    </tr>\n",
       "    <tr>\n",
       "      <th>2022-02-13</th>\n",
       "      <td>2788192079790</td>\n",
       "      <td>551.0</td>\n",
       "      <td>57</td>\n",
       "      <td>36381.740</td>\n",
       "      <td>61484.544</td>\n",
       "      <td>7278.814</td>\n",
       "    </tr>\n",
       "    <tr>\n",
       "      <th>2022-02-20</th>\n",
       "      <td>2668011858944</td>\n",
       "      <td>520.0</td>\n",
       "      <td>71</td>\n",
       "      <td>28685.930</td>\n",
       "      <td>56805.588</td>\n",
       "      <td>6111.954</td>\n",
       "    </tr>\n",
       "    <tr>\n",
       "      <th>2022-02-27</th>\n",
       "      <td>3136717672292</td>\n",
       "      <td>739.0</td>\n",
       "      <td>43</td>\n",
       "      <td>33543.812</td>\n",
       "      <td>57815.982</td>\n",
       "      <td>8829.596</td>\n",
       "    </tr>\n",
       "    <tr>\n",
       "      <th>2022-03-06</th>\n",
       "      <td>3641476575193</td>\n",
       "      <td>717.0</td>\n",
       "      <td>80</td>\n",
       "      <td>32929.804</td>\n",
       "      <td>88136.500</td>\n",
       "      <td>8834.800</td>\n",
       "    </tr>\n",
       "    <tr>\n",
       "      <th>2022-03-13</th>\n",
       "      <td>2980482295640</td>\n",
       "      <td>617.0</td>\n",
       "      <td>69</td>\n",
       "      <td>36607.688</td>\n",
       "      <td>61562.852</td>\n",
       "      <td>7359.686</td>\n",
       "    </tr>\n",
       "    <tr>\n",
       "      <th>2022-03-20</th>\n",
       "      <td>3413133908916</td>\n",
       "      <td>599.0</td>\n",
       "      <td>121</td>\n",
       "      <td>30668.632</td>\n",
       "      <td>55410.462</td>\n",
       "      <td>9913.448</td>\n",
       "    </tr>\n",
       "    <tr>\n",
       "      <th>2022-03-27</th>\n",
       "      <td>3148736537608</td>\n",
       "      <td>501.0</td>\n",
       "      <td>57</td>\n",
       "      <td>19728.774</td>\n",
       "      <td>35511.432</td>\n",
       "      <td>6438.900</td>\n",
       "    </tr>\n",
       "    <tr>\n",
       "      <th>2022-04-03</th>\n",
       "      <td>2764157322858</td>\n",
       "      <td>502.0</td>\n",
       "      <td>60</td>\n",
       "      <td>20242.582</td>\n",
       "      <td>40988.300</td>\n",
       "      <td>5620.248</td>\n",
       "    </tr>\n",
       "    <tr>\n",
       "      <th>2022-04-10</th>\n",
       "      <td>3473223967165</td>\n",
       "      <td>759.0</td>\n",
       "      <td>88</td>\n",
       "      <td>29862.324</td>\n",
       "      <td>63589.262</td>\n",
       "      <td>8167.830</td>\n",
       "    </tr>\n",
       "    <tr>\n",
       "      <th>2022-04-17</th>\n",
       "      <td>3737622931750</td>\n",
       "      <td>802.0</td>\n",
       "      <td>83</td>\n",
       "      <td>32709.718</td>\n",
       "      <td>66154.494</td>\n",
       "      <td>6020.182</td>\n",
       "    </tr>\n",
       "    <tr>\n",
       "      <th>2022-04-24</th>\n",
       "      <td>3365063095335</td>\n",
       "      <td>572.0</td>\n",
       "      <td>88</td>\n",
       "      <td>34854.536</td>\n",
       "      <td>65234.486</td>\n",
       "      <td>7461.550</td>\n",
       "    </tr>\n",
       "    <tr>\n",
       "      <th>2022-05-01</th>\n",
       "      <td>3653495907330</td>\n",
       "      <td>629.0</td>\n",
       "      <td>37</td>\n",
       "      <td>33835.442</td>\n",
       "      <td>72174.706</td>\n",
       "      <td>7740.128</td>\n",
       "    </tr>\n",
       "    <tr>\n",
       "      <th>2022-05-08</th>\n",
       "      <td>3184790888429</td>\n",
       "      <td>459.0</td>\n",
       "      <td>148</td>\n",
       "      <td>52853.612</td>\n",
       "      <td>78832.050</td>\n",
       "      <td>12196.606</td>\n",
       "    </tr>\n",
       "    <tr>\n",
       "      <th>2022-05-15</th>\n",
       "      <td>3389098979640</td>\n",
       "      <td>629.0</td>\n",
       "      <td>143</td>\n",
       "      <td>34001.766</td>\n",
       "      <td>62314.984</td>\n",
       "      <td>9462.850</td>\n",
       "    </tr>\n",
       "    <tr>\n",
       "      <th>2022-05-22</th>\n",
       "      <td>3220845594820</td>\n",
       "      <td>562.0</td>\n",
       "      <td>71</td>\n",
       "      <td>32750.328</td>\n",
       "      <td>71946.930</td>\n",
       "      <td>5764.056</td>\n",
       "    </tr>\n",
       "    <tr>\n",
       "      <th>2022-05-29</th>\n",
       "      <td>3172772267835</td>\n",
       "      <td>556.0</td>\n",
       "      <td>71</td>\n",
       "      <td>32701.066</td>\n",
       "      <td>55772.752</td>\n",
       "      <td>8451.790</td>\n",
       "    </tr>\n",
       "    <tr>\n",
       "      <th>2022-06-05</th>\n",
       "      <td>2728105170742</td>\n",
       "      <td>527.0</td>\n",
       "      <td>62</td>\n",
       "      <td>19181.770</td>\n",
       "      <td>39087.104</td>\n",
       "      <td>4784.080</td>\n",
       "    </tr>\n",
       "    <tr>\n",
       "      <th>2022-06-12</th>\n",
       "      <td>2896358617571</td>\n",
       "      <td>577.0</td>\n",
       "      <td>66</td>\n",
       "      <td>25757.774</td>\n",
       "      <td>48425.606</td>\n",
       "      <td>7067.950</td>\n",
       "    </tr>\n",
       "    <tr>\n",
       "      <th>2022-06-19</th>\n",
       "      <td>3268918079824</td>\n",
       "      <td>705.0</td>\n",
       "      <td>70</td>\n",
       "      <td>27098.968</td>\n",
       "      <td>57383.788</td>\n",
       "      <td>4846.762</td>\n",
       "    </tr>\n",
       "    <tr>\n",
       "      <th>2022-06-26</th>\n",
       "      <td>2848286497145</td>\n",
       "      <td>565.0</td>\n",
       "      <td>94</td>\n",
       "      <td>36991.462</td>\n",
       "      <td>63717.886</td>\n",
       "      <td>6443.062</td>\n",
       "    </tr>\n",
       "    <tr>\n",
       "      <th>2022-07-03</th>\n",
       "      <td>2680032362713</td>\n",
       "      <td>594.0</td>\n",
       "      <td>93</td>\n",
       "      <td>21758.282</td>\n",
       "      <td>50851.936</td>\n",
       "      <td>5653.658</td>\n",
       "    </tr>\n",
       "    <tr>\n",
       "      <th>2022-07-10</th>\n",
       "      <td>4170275232668</td>\n",
       "      <td>879.0</td>\n",
       "      <td>70</td>\n",
       "      <td>35743.724</td>\n",
       "      <td>80092.610</td>\n",
       "      <td>7046.440</td>\n",
       "    </tr>\n",
       "    <tr>\n",
       "      <th>2022-07-17</th>\n",
       "      <td>3401117737006</td>\n",
       "      <td>469.0</td>\n",
       "      <td>68</td>\n",
       "      <td>34510.744</td>\n",
       "      <td>58953.430</td>\n",
       "      <td>9625.862</td>\n",
       "    </tr>\n",
       "    <tr>\n",
       "      <th>2022-07-24</th>\n",
       "      <td>3196811477942</td>\n",
       "      <td>699.0</td>\n",
       "      <td>60</td>\n",
       "      <td>41003.596</td>\n",
       "      <td>69575.676</td>\n",
       "      <td>4872.578</td>\n",
       "    </tr>\n",
       "    <tr>\n",
       "      <th>2022-07-31</th>\n",
       "      <td>3713589521814</td>\n",
       "      <td>642.0</td>\n",
       "      <td>51</td>\n",
       "      <td>35870.824</td>\n",
       "      <td>71327.398</td>\n",
       "      <td>5100.416</td>\n",
       "    </tr>\n",
       "    <tr>\n",
       "      <th>2022-08-07</th>\n",
       "      <td>3869824949743</td>\n",
       "      <td>643.0</td>\n",
       "      <td>114</td>\n",
       "      <td>37287.590</td>\n",
       "      <td>77634.256</td>\n",
       "      <td>10363.220</td>\n",
       "    </tr>\n",
       "    <tr>\n",
       "      <th>2022-08-14</th>\n",
       "      <td>3473226783145</td>\n",
       "      <td>545.0</td>\n",
       "      <td>132</td>\n",
       "      <td>36693.016</td>\n",
       "      <td>65298.026</td>\n",
       "      <td>9735.822</td>\n",
       "    </tr>\n",
       "    <tr>\n",
       "      <th>2022-08-21</th>\n",
       "      <td>3941933750907</td>\n",
       "      <td>783.0</td>\n",
       "      <td>146</td>\n",
       "      <td>40763.636</td>\n",
       "      <td>70719.488</td>\n",
       "      <td>21535.242</td>\n",
       "    </tr>\n",
       "    <tr>\n",
       "      <th>2022-08-28</th>\n",
       "      <td>3509282900010</td>\n",
       "      <td>628.0</td>\n",
       "      <td>106</td>\n",
       "      <td>30113.458</td>\n",
       "      <td>60162.020</td>\n",
       "      <td>8752.000</td>\n",
       "    </tr>\n",
       "    <tr>\n",
       "      <th>2022-09-04</th>\n",
       "      <td>3341030174877</td>\n",
       "      <td>537.0</td>\n",
       "      <td>84</td>\n",
       "      <td>35337.394</td>\n",
       "      <td>68446.252</td>\n",
       "      <td>8316.332</td>\n",
       "    </tr>\n",
       "    <tr>\n",
       "      <th>2022-09-11</th>\n",
       "      <td>3160758471679</td>\n",
       "      <td>621.0</td>\n",
       "      <td>96</td>\n",
       "      <td>26158.314</td>\n",
       "      <td>46580.914</td>\n",
       "      <td>8997.896</td>\n",
       "    </tr>\n",
       "    <tr>\n",
       "      <th>2022-09-18</th>\n",
       "      <td>3449192894481</td>\n",
       "      <td>608.0</td>\n",
       "      <td>52</td>\n",
       "      <td>37192.814</td>\n",
       "      <td>68437.378</td>\n",
       "      <td>11829.578</td>\n",
       "    </tr>\n",
       "    <tr>\n",
       "      <th>2022-09-25</th>\n",
       "      <td>3256904452535</td>\n",
       "      <td>539.0</td>\n",
       "      <td>78</td>\n",
       "      <td>31950.848</td>\n",
       "      <td>48495.928</td>\n",
       "      <td>12847.372</td>\n",
       "    </tr>\n",
       "    <tr>\n",
       "      <th>2022-10-02</th>\n",
       "      <td>3485247348319</td>\n",
       "      <td>527.0</td>\n",
       "      <td>30</td>\n",
       "      <td>26862.494</td>\n",
       "      <td>56639.688</td>\n",
       "      <td>3577.224</td>\n",
       "    </tr>\n",
       "    <tr>\n",
       "      <th>2022-10-09</th>\n",
       "      <td>2980487335555</td>\n",
       "      <td>670.0</td>\n",
       "      <td>51</td>\n",
       "      <td>28978.392</td>\n",
       "      <td>58424.514</td>\n",
       "      <td>7567.168</td>\n",
       "    </tr>\n",
       "    <tr>\n",
       "      <th>2022-10-16</th>\n",
       "      <td>3292957887392</td>\n",
       "      <td>567.0</td>\n",
       "      <td>57</td>\n",
       "      <td>32935.272</td>\n",
       "      <td>59394.314</td>\n",
       "      <td>5022.214</td>\n",
       "    </tr>\n",
       "    <tr>\n",
       "      <th>2022-10-23</th>\n",
       "      <td>3256903548408</td>\n",
       "      <td>754.0</td>\n",
       "      <td>65</td>\n",
       "      <td>30294.760</td>\n",
       "      <td>61504.630</td>\n",
       "      <td>9468.688</td>\n",
       "    </tr>\n",
       "    <tr>\n",
       "      <th>2022-10-30</th>\n",
       "      <td>2896361385056</td>\n",
       "      <td>531.0</td>\n",
       "      <td>58</td>\n",
       "      <td>34266.522</td>\n",
       "      <td>59646.472</td>\n",
       "      <td>5187.422</td>\n",
       "    </tr>\n",
       "    <tr>\n",
       "      <th>2022-11-06</th>\n",
       "      <td>2932414657669</td>\n",
       "      <td>508.0</td>\n",
       "      <td>41</td>\n",
       "      <td>21728.550</td>\n",
       "      <td>54091.308</td>\n",
       "      <td>2090.180</td>\n",
       "    </tr>\n",
       "    <tr>\n",
       "      <th>2022-11-13</th>\n",
       "      <td>3052596633124</td>\n",
       "      <td>591.0</td>\n",
       "      <td>140</td>\n",
       "      <td>29754.058</td>\n",
       "      <td>54324.304</td>\n",
       "      <td>9292.604</td>\n",
       "    </tr>\n",
       "    <tr>\n",
       "      <th>2022-11-20</th>\n",
       "      <td>3365067243970</td>\n",
       "      <td>545.0</td>\n",
       "      <td>89</td>\n",
       "      <td>50748.784</td>\n",
       "      <td>74671.086</td>\n",
       "      <td>8783.918</td>\n",
       "    </tr>\n",
       "    <tr>\n",
       "      <th>2022-11-27</th>\n",
       "      <td>3280941604129</td>\n",
       "      <td>478.0</td>\n",
       "      <td>68</td>\n",
       "      <td>34003.302</td>\n",
       "      <td>73512.068</td>\n",
       "      <td>6260.194</td>\n",
       "    </tr>\n",
       "    <tr>\n",
       "      <th>2022-12-04</th>\n",
       "      <td>3581394914640</td>\n",
       "      <td>674.0</td>\n",
       "      <td>112</td>\n",
       "      <td>32667.972</td>\n",
       "      <td>62804.504</td>\n",
       "      <td>6547.294</td>\n",
       "    </tr>\n",
       "    <tr>\n",
       "      <th>2022-12-11</th>\n",
       "      <td>3593412936059</td>\n",
       "      <td>676.0</td>\n",
       "      <td>59</td>\n",
       "      <td>48593.346</td>\n",
       "      <td>84213.152</td>\n",
       "      <td>7987.384</td>\n",
       "    </tr>\n",
       "    <tr>\n",
       "      <th>2022-12-18</th>\n",
       "      <td>4134228220249</td>\n",
       "      <td>778.0</td>\n",
       "      <td>79</td>\n",
       "      <td>54826.902</td>\n",
       "      <td>109542.246</td>\n",
       "      <td>7617.560</td>\n",
       "    </tr>\n",
       "    <tr>\n",
       "      <th>2022-12-25</th>\n",
       "      <td>4218353588722</td>\n",
       "      <td>827.0</td>\n",
       "      <td>95</td>\n",
       "      <td>49991.474</td>\n",
       "      <td>83535.384</td>\n",
       "      <td>8779.098</td>\n",
       "    </tr>\n",
       "    <tr>\n",
       "      <th>2023-01-01</th>\n",
       "      <td>2920398616711</td>\n",
       "      <td>540.0</td>\n",
       "      <td>70</td>\n",
       "      <td>66184.772</td>\n",
       "      <td>96241.486</td>\n",
       "      <td>12230.698</td>\n",
       "    </tr>\n",
       "  </tbody>\n",
       "</table>\n",
       "</div>\n",
       "    <div class=\"colab-df-buttons\">\n",
       "\n",
       "  <div class=\"colab-df-container\">\n",
       "    <button class=\"colab-df-convert\" onclick=\"convertToInteractive('df-8f87ef33-bbc4-4fff-8cb1-43d57b3fd199')\"\n",
       "            title=\"Convert this dataframe to an interactive table.\"\n",
       "            style=\"display:none;\">\n",
       "\n",
       "  <svg xmlns=\"http://www.w3.org/2000/svg\" height=\"24px\" viewBox=\"0 -960 960 960\">\n",
       "    <path d=\"M120-120v-720h720v720H120Zm60-500h600v-160H180v160Zm220 220h160v-160H400v160Zm0 220h160v-160H400v160ZM180-400h160v-160H180v160Zm440 0h160v-160H620v160ZM180-180h160v-160H180v160Zm440 0h160v-160H620v160Z\"/>\n",
       "  </svg>\n",
       "    </button>\n",
       "\n",
       "  <style>\n",
       "    .colab-df-container {\n",
       "      display:flex;\n",
       "      gap: 12px;\n",
       "    }\n",
       "\n",
       "    .colab-df-convert {\n",
       "      background-color: #E8F0FE;\n",
       "      border: none;\n",
       "      border-radius: 50%;\n",
       "      cursor: pointer;\n",
       "      display: none;\n",
       "      fill: #1967D2;\n",
       "      height: 32px;\n",
       "      padding: 0 0 0 0;\n",
       "      width: 32px;\n",
       "    }\n",
       "\n",
       "    .colab-df-convert:hover {\n",
       "      background-color: #E2EBFA;\n",
       "      box-shadow: 0px 1px 2px rgba(60, 64, 67, 0.3), 0px 1px 3px 1px rgba(60, 64, 67, 0.15);\n",
       "      fill: #174EA6;\n",
       "    }\n",
       "\n",
       "    .colab-df-buttons div {\n",
       "      margin-bottom: 4px;\n",
       "    }\n",
       "\n",
       "    [theme=dark] .colab-df-convert {\n",
       "      background-color: #3B4455;\n",
       "      fill: #D2E3FC;\n",
       "    }\n",
       "\n",
       "    [theme=dark] .colab-df-convert:hover {\n",
       "      background-color: #434B5C;\n",
       "      box-shadow: 0px 1px 3px 1px rgba(0, 0, 0, 0.15);\n",
       "      filter: drop-shadow(0px 1px 2px rgba(0, 0, 0, 0.3));\n",
       "      fill: #FFFFFF;\n",
       "    }\n",
       "  </style>\n",
       "\n",
       "    <script>\n",
       "      const buttonEl =\n",
       "        document.querySelector('#df-8f87ef33-bbc4-4fff-8cb1-43d57b3fd199 button.colab-df-convert');\n",
       "      buttonEl.style.display =\n",
       "        google.colab.kernel.accessAllowed ? 'block' : 'none';\n",
       "\n",
       "      async function convertToInteractive(key) {\n",
       "        const element = document.querySelector('#df-8f87ef33-bbc4-4fff-8cb1-43d57b3fd199');\n",
       "        const dataTable =\n",
       "          await google.colab.kernel.invokeFunction('convertToInteractive',\n",
       "                                                    [key], {});\n",
       "        if (!dataTable) return;\n",
       "\n",
       "        const docLinkHtml = 'Like what you see? Visit the ' +\n",
       "          '<a target=\"_blank\" href=https://colab.research.google.com/notebooks/data_table.ipynb>data table notebook</a>'\n",
       "          + ' to learn more about interactive tables.';\n",
       "        element.innerHTML = '';\n",
       "        dataTable['output_type'] = 'display_data';\n",
       "        await google.colab.output.renderOutput(dataTable, element);\n",
       "        const docLink = document.createElement('div');\n",
       "        docLink.innerHTML = docLinkHtml;\n",
       "        element.appendChild(docLink);\n",
       "      }\n",
       "    </script>\n",
       "  </div>\n",
       "\n",
       "\n",
       "<div id=\"df-1aa1e33b-5018-4591-b432-45d2c23bbde0\">\n",
       "  <button class=\"colab-df-quickchart\" onclick=\"quickchart('df-1aa1e33b-5018-4591-b432-45d2c23bbde0')\"\n",
       "            title=\"Suggest charts\"\n",
       "            style=\"display:none;\">\n",
       "\n",
       "<svg xmlns=\"http://www.w3.org/2000/svg\" height=\"24px\"viewBox=\"0 0 24 24\"\n",
       "     width=\"24px\">\n",
       "    <g>\n",
       "        <path d=\"M19 3H5c-1.1 0-2 .9-2 2v14c0 1.1.9 2 2 2h14c1.1 0 2-.9 2-2V5c0-1.1-.9-2-2-2zM9 17H7v-7h2v7zm4 0h-2V7h2v10zm4 0h-2v-4h2v4z\"/>\n",
       "    </g>\n",
       "</svg>\n",
       "  </button>\n",
       "\n",
       "<style>\n",
       "  .colab-df-quickchart {\n",
       "      --bg-color: #E8F0FE;\n",
       "      --fill-color: #1967D2;\n",
       "      --hover-bg-color: #E2EBFA;\n",
       "      --hover-fill-color: #174EA6;\n",
       "      --disabled-fill-color: #AAA;\n",
       "      --disabled-bg-color: #DDD;\n",
       "  }\n",
       "\n",
       "  [theme=dark] .colab-df-quickchart {\n",
       "      --bg-color: #3B4455;\n",
       "      --fill-color: #D2E3FC;\n",
       "      --hover-bg-color: #434B5C;\n",
       "      --hover-fill-color: #FFFFFF;\n",
       "      --disabled-bg-color: #3B4455;\n",
       "      --disabled-fill-color: #666;\n",
       "  }\n",
       "\n",
       "  .colab-df-quickchart {\n",
       "    background-color: var(--bg-color);\n",
       "    border: none;\n",
       "    border-radius: 50%;\n",
       "    cursor: pointer;\n",
       "    display: none;\n",
       "    fill: var(--fill-color);\n",
       "    height: 32px;\n",
       "    padding: 0;\n",
       "    width: 32px;\n",
       "  }\n",
       "\n",
       "  .colab-df-quickchart:hover {\n",
       "    background-color: var(--hover-bg-color);\n",
       "    box-shadow: 0 1px 2px rgba(60, 64, 67, 0.3), 0 1px 3px 1px rgba(60, 64, 67, 0.15);\n",
       "    fill: var(--button-hover-fill-color);\n",
       "  }\n",
       "\n",
       "  .colab-df-quickchart-complete:disabled,\n",
       "  .colab-df-quickchart-complete:disabled:hover {\n",
       "    background-color: var(--disabled-bg-color);\n",
       "    fill: var(--disabled-fill-color);\n",
       "    box-shadow: none;\n",
       "  }\n",
       "\n",
       "  .colab-df-spinner {\n",
       "    border: 2px solid var(--fill-color);\n",
       "    border-color: transparent;\n",
       "    border-bottom-color: var(--fill-color);\n",
       "    animation:\n",
       "      spin 1s steps(1) infinite;\n",
       "  }\n",
       "\n",
       "  @keyframes spin {\n",
       "    0% {\n",
       "      border-color: transparent;\n",
       "      border-bottom-color: var(--fill-color);\n",
       "      border-left-color: var(--fill-color);\n",
       "    }\n",
       "    20% {\n",
       "      border-color: transparent;\n",
       "      border-left-color: var(--fill-color);\n",
       "      border-top-color: var(--fill-color);\n",
       "    }\n",
       "    30% {\n",
       "      border-color: transparent;\n",
       "      border-left-color: var(--fill-color);\n",
       "      border-top-color: var(--fill-color);\n",
       "      border-right-color: var(--fill-color);\n",
       "    }\n",
       "    40% {\n",
       "      border-color: transparent;\n",
       "      border-right-color: var(--fill-color);\n",
       "      border-top-color: var(--fill-color);\n",
       "    }\n",
       "    60% {\n",
       "      border-color: transparent;\n",
       "      border-right-color: var(--fill-color);\n",
       "    }\n",
       "    80% {\n",
       "      border-color: transparent;\n",
       "      border-right-color: var(--fill-color);\n",
       "      border-bottom-color: var(--fill-color);\n",
       "    }\n",
       "    90% {\n",
       "      border-color: transparent;\n",
       "      border-bottom-color: var(--fill-color);\n",
       "    }\n",
       "  }\n",
       "</style>\n",
       "\n",
       "  <script>\n",
       "    async function quickchart(key) {\n",
       "      const quickchartButtonEl =\n",
       "        document.querySelector('#' + key + ' button');\n",
       "      quickchartButtonEl.disabled = true;  // To prevent multiple clicks.\n",
       "      quickchartButtonEl.classList.add('colab-df-spinner');\n",
       "      try {\n",
       "        const charts = await google.colab.kernel.invokeFunction(\n",
       "            'suggestCharts', [key], {});\n",
       "      } catch (error) {\n",
       "        console.error('Error during call to suggestCharts:', error);\n",
       "      }\n",
       "      quickchartButtonEl.classList.remove('colab-df-spinner');\n",
       "      quickchartButtonEl.classList.add('colab-df-quickchart-complete');\n",
       "    }\n",
       "    (() => {\n",
       "      let quickchartButtonEl =\n",
       "        document.querySelector('#df-1aa1e33b-5018-4591-b432-45d2c23bbde0 button');\n",
       "      quickchartButtonEl.style.display =\n",
       "        google.colab.kernel.accessAllowed ? 'block' : 'none';\n",
       "    })();\n",
       "  </script>\n",
       "</div>\n",
       "\n",
       "  <div id=\"id_6d868813-899f-411f-83fc-0cdf1d2e06f0\">\n",
       "    <style>\n",
       "      .colab-df-generate {\n",
       "        background-color: #E8F0FE;\n",
       "        border: none;\n",
       "        border-radius: 50%;\n",
       "        cursor: pointer;\n",
       "        display: none;\n",
       "        fill: #1967D2;\n",
       "        height: 32px;\n",
       "        padding: 0 0 0 0;\n",
       "        width: 32px;\n",
       "      }\n",
       "\n",
       "      .colab-df-generate:hover {\n",
       "        background-color: #E2EBFA;\n",
       "        box-shadow: 0px 1px 2px rgba(60, 64, 67, 0.3), 0px 1px 3px 1px rgba(60, 64, 67, 0.15);\n",
       "        fill: #174EA6;\n",
       "      }\n",
       "\n",
       "      [theme=dark] .colab-df-generate {\n",
       "        background-color: #3B4455;\n",
       "        fill: #D2E3FC;\n",
       "      }\n",
       "\n",
       "      [theme=dark] .colab-df-generate:hover {\n",
       "        background-color: #434B5C;\n",
       "        box-shadow: 0px 1px 3px 1px rgba(0, 0, 0, 0.15);\n",
       "        filter: drop-shadow(0px 1px 2px rgba(0, 0, 0, 0.3));\n",
       "        fill: #FFFFFF;\n",
       "      }\n",
       "    </style>\n",
       "    <button class=\"colab-df-generate\" onclick=\"generateWithVariable('weekly_data')\"\n",
       "            title=\"Generate code using this dataframe.\"\n",
       "            style=\"display:none;\">\n",
       "\n",
       "  <svg xmlns=\"http://www.w3.org/2000/svg\" height=\"24px\"viewBox=\"0 0 24 24\"\n",
       "       width=\"24px\">\n",
       "    <path d=\"M7,19H8.4L18.45,9,17,7.55,7,17.6ZM5,21V16.75L18.45,3.32a2,2,0,0,1,2.83,0l1.4,1.43a1.91,1.91,0,0,1,.58,1.4,1.91,1.91,0,0,1-.58,1.4L9.25,21ZM18.45,9,17,7.55Zm-12,3A5.31,5.31,0,0,0,4.9,8.1,5.31,5.31,0,0,0,1,6.5,5.31,5.31,0,0,0,4.9,4.9,5.31,5.31,0,0,0,6.5,1,5.31,5.31,0,0,0,8.1,4.9,5.31,5.31,0,0,0,12,6.5,5.46,5.46,0,0,0,6.5,12Z\"/>\n",
       "  </svg>\n",
       "    </button>\n",
       "    <script>\n",
       "      (() => {\n",
       "      const buttonEl =\n",
       "        document.querySelector('#id_6d868813-899f-411f-83fc-0cdf1d2e06f0 button.colab-df-generate');\n",
       "      buttonEl.style.display =\n",
       "        google.colab.kernel.accessAllowed ? 'block' : 'none';\n",
       "\n",
       "      buttonEl.onclick = () => {\n",
       "        google.colab.notebook.generateWithVariable('weekly_data');\n",
       "      }\n",
       "      })();\n",
       "    </script>\n",
       "  </div>\n",
       "\n",
       "    </div>\n",
       "  </div>\n"
      ],
      "text/plain": [
       "               Patient_ID  Quantity  ReturnQuantity  Final_Cost  Final_Sales  \\\n",
       "Dateofbill                                                                     \n",
       "2022-01-02   648975866319     185.0               4   10998.058    19322.512   \n",
       "2022-01-09  2896354768882     550.0              76   36201.560    63476.782   \n",
       "2022-01-16  2511776678757     476.0              86   16530.166    27980.136   \n",
       "2022-01-23  2547830658891     476.0              45   22114.732    51275.610   \n",
       "2022-01-30  3076626395290     513.0              37   30985.778    60239.426   \n",
       "2022-02-06  3244879899719     607.0             154   34796.398    67425.274   \n",
       "2022-02-13  2788192079790     551.0              57   36381.740    61484.544   \n",
       "2022-02-20  2668011858944     520.0              71   28685.930    56805.588   \n",
       "2022-02-27  3136717672292     739.0              43   33543.812    57815.982   \n",
       "2022-03-06  3641476575193     717.0              80   32929.804    88136.500   \n",
       "2022-03-13  2980482295640     617.0              69   36607.688    61562.852   \n",
       "2022-03-20  3413133908916     599.0             121   30668.632    55410.462   \n",
       "2022-03-27  3148736537608     501.0              57   19728.774    35511.432   \n",
       "2022-04-03  2764157322858     502.0              60   20242.582    40988.300   \n",
       "2022-04-10  3473223967165     759.0              88   29862.324    63589.262   \n",
       "2022-04-17  3737622931750     802.0              83   32709.718    66154.494   \n",
       "2022-04-24  3365063095335     572.0              88   34854.536    65234.486   \n",
       "2022-05-01  3653495907330     629.0              37   33835.442    72174.706   \n",
       "2022-05-08  3184790888429     459.0             148   52853.612    78832.050   \n",
       "2022-05-15  3389098979640     629.0             143   34001.766    62314.984   \n",
       "2022-05-22  3220845594820     562.0              71   32750.328    71946.930   \n",
       "2022-05-29  3172772267835     556.0              71   32701.066    55772.752   \n",
       "2022-06-05  2728105170742     527.0              62   19181.770    39087.104   \n",
       "2022-06-12  2896358617571     577.0              66   25757.774    48425.606   \n",
       "2022-06-19  3268918079824     705.0              70   27098.968    57383.788   \n",
       "2022-06-26  2848286497145     565.0              94   36991.462    63717.886   \n",
       "2022-07-03  2680032362713     594.0              93   21758.282    50851.936   \n",
       "2022-07-10  4170275232668     879.0              70   35743.724    80092.610   \n",
       "2022-07-17  3401117737006     469.0              68   34510.744    58953.430   \n",
       "2022-07-24  3196811477942     699.0              60   41003.596    69575.676   \n",
       "2022-07-31  3713589521814     642.0              51   35870.824    71327.398   \n",
       "2022-08-07  3869824949743     643.0             114   37287.590    77634.256   \n",
       "2022-08-14  3473226783145     545.0             132   36693.016    65298.026   \n",
       "2022-08-21  3941933750907     783.0             146   40763.636    70719.488   \n",
       "2022-08-28  3509282900010     628.0             106   30113.458    60162.020   \n",
       "2022-09-04  3341030174877     537.0              84   35337.394    68446.252   \n",
       "2022-09-11  3160758471679     621.0              96   26158.314    46580.914   \n",
       "2022-09-18  3449192894481     608.0              52   37192.814    68437.378   \n",
       "2022-09-25  3256904452535     539.0              78   31950.848    48495.928   \n",
       "2022-10-02  3485247348319     527.0              30   26862.494    56639.688   \n",
       "2022-10-09  2980487335555     670.0              51   28978.392    58424.514   \n",
       "2022-10-16  3292957887392     567.0              57   32935.272    59394.314   \n",
       "2022-10-23  3256903548408     754.0              65   30294.760    61504.630   \n",
       "2022-10-30  2896361385056     531.0              58   34266.522    59646.472   \n",
       "2022-11-06  2932414657669     508.0              41   21728.550    54091.308   \n",
       "2022-11-13  3052596633124     591.0             140   29754.058    54324.304   \n",
       "2022-11-20  3365067243970     545.0              89   50748.784    74671.086   \n",
       "2022-11-27  3280941604129     478.0              68   34003.302    73512.068   \n",
       "2022-12-04  3581394914640     674.0             112   32667.972    62804.504   \n",
       "2022-12-11  3593412936059     676.0              59   48593.346    84213.152   \n",
       "2022-12-18  4134228220249     778.0              79   54826.902   109542.246   \n",
       "2022-12-25  4218353588722     827.0              95   49991.474    83535.384   \n",
       "2023-01-01  2920398616711     540.0              70   66184.772    96241.486   \n",
       "\n",
       "               RtnMRP  \n",
       "Dateofbill             \n",
       "2022-01-02    584.692  \n",
       "2022-01-09   9175.030  \n",
       "2022-01-16   8388.456  \n",
       "2022-01-23   3615.626  \n",
       "2022-01-30   3953.766  \n",
       "2022-02-06  14164.406  \n",
       "2022-02-13   7278.814  \n",
       "2022-02-20   6111.954  \n",
       "2022-02-27   8829.596  \n",
       "2022-03-06   8834.800  \n",
       "2022-03-13   7359.686  \n",
       "2022-03-20   9913.448  \n",
       "2022-03-27   6438.900  \n",
       "2022-04-03   5620.248  \n",
       "2022-04-10   8167.830  \n",
       "2022-04-17   6020.182  \n",
       "2022-04-24   7461.550  \n",
       "2022-05-01   7740.128  \n",
       "2022-05-08  12196.606  \n",
       "2022-05-15   9462.850  \n",
       "2022-05-22   5764.056  \n",
       "2022-05-29   8451.790  \n",
       "2022-06-05   4784.080  \n",
       "2022-06-12   7067.950  \n",
       "2022-06-19   4846.762  \n",
       "2022-06-26   6443.062  \n",
       "2022-07-03   5653.658  \n",
       "2022-07-10   7046.440  \n",
       "2022-07-17   9625.862  \n",
       "2022-07-24   4872.578  \n",
       "2022-07-31   5100.416  \n",
       "2022-08-07  10363.220  \n",
       "2022-08-14   9735.822  \n",
       "2022-08-21  21535.242  \n",
       "2022-08-28   8752.000  \n",
       "2022-09-04   8316.332  \n",
       "2022-09-11   8997.896  \n",
       "2022-09-18  11829.578  \n",
       "2022-09-25  12847.372  \n",
       "2022-10-02   3577.224  \n",
       "2022-10-09   7567.168  \n",
       "2022-10-16   5022.214  \n",
       "2022-10-23   9468.688  \n",
       "2022-10-30   5187.422  \n",
       "2022-11-06   2090.180  \n",
       "2022-11-13   9292.604  \n",
       "2022-11-20   8783.918  \n",
       "2022-11-27   6260.194  \n",
       "2022-12-04   6547.294  \n",
       "2022-12-11   7987.384  \n",
       "2022-12-18   7617.560  \n",
       "2022-12-25   8779.098  \n",
       "2023-01-01  12230.698  "
      ]
     },
     "execution_count": 87,
     "metadata": {},
     "output_type": "execute_result"
    }
   ],
   "source": [
    "weekly_data"
   ]
  },
  {
   "cell_type": "code",
   "execution_count": 88,
   "id": "04b7146f",
   "metadata": {
    "colab": {
     "base_uri": "https://localhost:8080/"
    },
    "executionInfo": {
     "elapsed": 107,
     "status": "ok",
     "timestamp": 1705925741455,
     "user": {
      "displayName": "Anisha TaazaTV",
      "userId": "13026329044302659371"
     },
     "user_tz": -330
    },
    "id": "04b7146f",
    "outputId": "05842240-15e0-4ea1-f66e-6e67182dabbd"
   },
   "outputs": [
    {
     "data": {
      "text/plain": [
       "Typeofsales        object\n",
       "Patient_ID          int64\n",
       "Specialisation     object\n",
       "Dept               object\n",
       "Quantity          float64\n",
       "ReturnQuantity      int64\n",
       "Final_Cost        float64\n",
       "Final_Sales       float64\n",
       "RtnMRP            float64\n",
       "Formulation        object\n",
       "DrugName           object\n",
       "SubCat             object\n",
       "SubCat1            object\n",
       "dtype: object"
      ]
     },
     "execution_count": 88,
     "metadata": {},
     "output_type": "execute_result"
    }
   ],
   "source": [
    "data2.dtypes"
   ]
  },
  {
   "cell_type": "markdown",
   "id": "6c3c9589",
   "metadata": {
    "id": "6c3c9589"
   },
   "source": [
    "#EDA\n",
    "\n",
    "# First moment Business Decission¶\n"
   ]
  },
  {
   "cell_type": "code",
   "execution_count": 89,
   "id": "caa11599",
   "metadata": {
    "colab": {
     "base_uri": "https://localhost:8080/"
    },
    "executionInfo": {
     "elapsed": 104,
     "status": "ok",
     "timestamp": 1705925741455,
     "user": {
      "displayName": "Anisha TaazaTV",
      "userId": "13026329044302659371"
     },
     "user_tz": -330
    },
    "id": "caa11599",
    "outputId": "56ca5abd-f6fd-4a6c-93f7-a61b8146138e"
   },
   "outputs": [
    {
     "name": "stdout",
     "output_type": "stream",
     "text": [
      "<class 'pandas.core.frame.DataFrame'>\n",
      "DatetimeIndex: 53 entries, 2022-01-02 to 2023-01-01\n",
      "Freq: W-SUN\n",
      "Data columns (total 6 columns):\n",
      " #   Column          Non-Null Count  Dtype  \n",
      "---  ------          --------------  -----  \n",
      " 0   Patient_ID      53 non-null     int64  \n",
      " 1   Quantity        53 non-null     float64\n",
      " 2   ReturnQuantity  53 non-null     int64  \n",
      " 3   Final_Cost      53 non-null     float64\n",
      " 4   Final_Sales     53 non-null     float64\n",
      " 5   RtnMRP          53 non-null     float64\n",
      "dtypes: float64(4), int64(2)\n",
      "memory usage: 2.9 KB\n"
     ]
    }
   ],
   "source": [
    "weekly_data.info()\n"
   ]
  },
  {
   "cell_type": "code",
   "execution_count": 90,
   "id": "4eb31502",
   "metadata": {
    "colab": {
     "base_uri": "https://localhost:8080/"
    },
    "executionInfo": {
     "elapsed": 101,
     "status": "ok",
     "timestamp": 1705925741455,
     "user": {
      "displayName": "Anisha TaazaTV",
      "userId": "13026329044302659371"
     },
     "user_tz": -330
    },
    "id": "4eb31502",
    "outputId": "39084076-3c8c-4ef9-c7a6-5b756a85c160"
   },
   "outputs": [
    {
     "data": {
      "text/plain": [
       "599.0188679245283"
      ]
     },
     "execution_count": 90,
     "metadata": {},
     "output_type": "execute_result"
    }
   ],
   "source": [
    "weekly_data.Quantity.mean()       #mean\n"
   ]
  },
  {
   "cell_type": "markdown",
   "id": "a5bb309d",
   "metadata": {
    "id": "a5bb309d"
   },
   "source": [
    "# Insights\n",
    "Quantity Sold:The average quantity of products sold per week is approximately 599.\n"
   ]
  },
  {
   "cell_type": "code",
   "execution_count": 91,
   "id": "f1cc17e5",
   "metadata": {
    "colab": {
     "base_uri": "https://localhost:8080/"
    },
    "executionInfo": {
     "elapsed": 101,
     "status": "ok",
     "timestamp": 1705925741457,
     "user": {
      "displayName": "Anisha TaazaTV",
      "userId": "13026329044302659371"
     },
     "user_tz": -330
    },
    "id": "f1cc17e5",
    "outputId": "42754a2b-18c9-4f07-8edd-390edf018862"
   },
   "outputs": [
    {
     "data": {
      "text/plain": [
       "33381.79735849056"
      ]
     },
     "execution_count": 91,
     "metadata": {},
     "output_type": "execute_result"
    }
   ],
   "source": [
    "weekly_data.Final_Cost.mean()"
   ]
  },
  {
   "cell_type": "markdown",
   "id": "4f8e8235",
   "metadata": {
    "id": "4f8e8235"
   },
   "source": [
    "# Insights\n",
    "Final Cost:The average final cost is approximately 33,381.80 units of the currency,\n",
    "    suggesting the total cost associated with the products sold.\n"
   ]
  },
  {
   "cell_type": "code",
   "execution_count": 92,
   "id": "247b427a",
   "metadata": {
    "colab": {
     "base_uri": "https://localhost:8080/"
    },
    "executionInfo": {
     "elapsed": 98,
     "status": "ok",
     "timestamp": 1705925741457,
     "user": {
      "displayName": "Anisha TaazaTV",
      "userId": "13026329044302659371"
     },
     "user_tz": -330
    },
    "id": "247b427a",
    "outputId": "56f7a360-b660-4241-a39b-1543818c6a60"
   },
   "outputs": [
    {
     "data": {
      "text/plain": [
       "62588.48898113209"
      ]
     },
     "execution_count": 92,
     "metadata": {},
     "output_type": "execute_result"
    }
   ],
   "source": [
    "weekly_data.Final_Sales.mean()"
   ]
  },
  {
   "cell_type": "markdown",
   "id": "cfb42249",
   "metadata": {
    "id": "cfb42249"
   },
   "source": [
    "# Insights\n",
    "The average final sales value is approximately 62,588.49 units of the currency, indicating the total sales revenue generated.\n"
   ]
  },
  {
   "cell_type": "code",
   "execution_count": 93,
   "id": "b35eb987",
   "metadata": {
    "colab": {
     "base_uri": "https://localhost:8080/"
    },
    "executionInfo": {
     "elapsed": 97,
     "status": "ok",
     "timestamp": 1705925741458,
     "user": {
      "displayName": "Anisha TaazaTV",
      "userId": "13026329044302659371"
     },
     "user_tz": -330
    },
    "id": "b35eb987",
    "outputId": "109b9cea-9262-4b40-c323-fdc7b323097c"
   },
   "outputs": [
    {
     "data": {
      "text/plain": [
       "0    SODIUM CHLORIDE IVF 100ML\n",
       "Name: DrugName, dtype: object"
      ]
     },
     "execution_count": 93,
     "metadata": {},
     "output_type": "execute_result"
    }
   ],
   "source": [
    "data2.DrugName.mode()"
   ]
  },
  {
   "cell_type": "markdown",
   "id": "7706e957",
   "metadata": {
    "id": "7706e957"
   },
   "source": [
    "# Insights\n",
    "The most frequently occurring drug name is \"SODIUM CHLORIDE IVF 100ML,\" indicating its popularity or common usage.\n"
   ]
  },
  {
   "cell_type": "code",
   "execution_count": 94,
   "id": "5f00fc61",
   "metadata": {
    "colab": {
     "base_uri": "https://localhost:8080/"
    },
    "executionInfo": {
     "elapsed": 95,
     "status": "ok",
     "timestamp": 1705925741458,
     "user": {
      "displayName": "Anisha TaazaTV",
      "userId": "13026329044302659371"
     },
     "user_tz": -330
    },
    "id": "5f00fc61",
    "outputId": "a81853ce-e684-481d-a4a2-fc679a83d9fa"
   },
   "outputs": [
    {
     "data": {
      "text/plain": [
       "0    INJECTIONS\n",
       "Name: SubCat, dtype: object"
      ]
     },
     "execution_count": 94,
     "metadata": {},
     "output_type": "execute_result"
    }
   ],
   "source": [
    "data2.SubCat.mode()"
   ]
  },
  {
   "cell_type": "markdown",
   "id": "ef66c9c1",
   "metadata": {
    "id": "ef66c9c1"
   },
   "source": [
    "# Insights\n",
    "The most frequent subcategory is \"INJECTIONS,\" suggesting a high frequency of injection-related products.\n"
   ]
  },
  {
   "cell_type": "code",
   "execution_count": 95,
   "id": "67bb6940",
   "metadata": {
    "colab": {
     "base_uri": "https://localhost:8080/"
    },
    "executionInfo": {
     "elapsed": 93,
     "status": "ok",
     "timestamp": 1705925741458,
     "user": {
      "displayName": "Anisha TaazaTV",
      "userId": "13026329044302659371"
     },
     "user_tz": -330
    },
    "id": "67bb6940",
    "outputId": "216443ef-74f0-4656-fd19-7608f3a5c617"
   },
   "outputs": [
    {
     "data": {
      "text/plain": [
       "0    INTRAVENOUS & OTHER STERILE SOLUTIONS\n",
       "Name: SubCat1, dtype: object"
      ]
     },
     "execution_count": 95,
     "metadata": {},
     "output_type": "execute_result"
    }
   ],
   "source": [
    "data2.SubCat1.mode()"
   ]
  },
  {
   "cell_type": "markdown",
   "id": "c322bbb5",
   "metadata": {
    "id": "c322bbb5"
   },
   "source": [
    "# Insights\n",
    "The most frequent subcategory 1 is \"INTRAVENOUS & OTHER STERILE SOLUTIONS,\" indicating a prevalence of sterile solutions in the data."
   ]
  },
  {
   "cell_type": "markdown",
   "id": "e95a38a0",
   "metadata": {
    "id": "e95a38a0"
   },
   "source": [
    "# Second moment Business Decission"
   ]
  },
  {
   "cell_type": "code",
   "execution_count": 96,
   "id": "412388e4",
   "metadata": {
    "colab": {
     "base_uri": "https://localhost:8080/"
    },
    "executionInfo": {
     "elapsed": 92,
     "status": "ok",
     "timestamp": 1705925741459,
     "user": {
      "displayName": "Anisha TaazaTV",
      "userId": "13026329044302659371"
     },
     "user_tz": -330
    },
    "id": "412388e4",
    "outputId": "4a194525-8ada-4a53-ab73-1285cc25d823"
   },
   "outputs": [
    {
     "data": {
      "text/plain": [
       "694.0"
      ]
     },
     "execution_count": 96,
     "metadata": {},
     "output_type": "execute_result"
    }
   ],
   "source": [
    "weekly_data.Quantity.var() # variance\n",
    "weekly_data.Quantity.std() # standard deviation\n",
    "range = max(weekly_data.Quantity) - min(weekly_data.Quantity) # range\n",
    "range"
   ]
  },
  {
   "cell_type": "code",
   "execution_count": 97,
   "id": "9e65b527",
   "metadata": {
    "colab": {
     "base_uri": "https://localhost:8080/"
    },
    "executionInfo": {
     "elapsed": 91,
     "status": "ok",
     "timestamp": 1705925741459,
     "user": {
      "displayName": "Anisha TaazaTV",
      "userId": "13026329044302659371"
     },
     "user_tz": -330
    },
    "id": "9e65b527",
    "outputId": "25eca261-d3f8-4ccf-f37f-a40f22d8d719"
   },
   "outputs": [
    {
     "data": {
      "text/plain": [
       "13514.018867924528"
      ]
     },
     "execution_count": 97,
     "metadata": {},
     "output_type": "execute_result"
    }
   ],
   "source": [
    "weekly_data.Quantity.var() # variance"
   ]
  },
  {
   "cell_type": "code",
   "execution_count": 98,
   "id": "70e5b306",
   "metadata": {
    "colab": {
     "base_uri": "https://localhost:8080/"
    },
    "executionInfo": {
     "elapsed": 91,
     "status": "ok",
     "timestamp": 1705925741460,
     "user": {
      "displayName": "Anisha TaazaTV",
      "userId": "13026329044302659371"
     },
     "user_tz": -330
    },
    "id": "70e5b306",
    "outputId": "a88cd398-ea28-4e52-d2e8-466b64c24b26"
   },
   "outputs": [
    {
     "data": {
      "text/plain": [
       "116.24981233500779"
      ]
     },
     "execution_count": 98,
     "metadata": {},
     "output_type": "execute_result"
    }
   ],
   "source": [
    "weekly_data.Quantity.std() # standard deviation"
   ]
  },
  {
   "cell_type": "markdown",
   "id": "a34f1339",
   "metadata": {
    "id": "a34f1339"
   },
   "source": [
    "# Insights\n",
    "Quantity Sold:\n",
    "\n",
    "Variance: Approximately 13,514.02\n",
    "Standard Deviation: Approximately 116.25\n",
    "Range: 694.0\n"
   ]
  },
  {
   "cell_type": "code",
   "execution_count": 99,
   "id": "62683c1b",
   "metadata": {
    "colab": {
     "base_uri": "https://localhost:8080/"
    },
    "executionInfo": {
     "elapsed": 90,
     "status": "ok",
     "timestamp": 1705925741460,
     "user": {
      "displayName": "Anisha TaazaTV",
      "userId": "13026329044302659371"
     },
     "user_tz": -330
    },
    "id": "62683c1b",
    "outputId": "f8a07dcd-e38f-47de-ac00-e76ee4cb6dce"
   },
   "outputs": [
    {
     "data": {
      "text/plain": [
       "55186.71399999999"
      ]
     },
     "execution_count": 99,
     "metadata": {},
     "output_type": "execute_result"
    }
   ],
   "source": [
    "weekly_data.Final_Cost.var()\n",
    "weekly_data.Final_Cost.std()\n",
    "range = max(weekly_data.Final_Cost) - min(weekly_data.Final_Cost)\n",
    "range"
   ]
  },
  {
   "cell_type": "code",
   "execution_count": 100,
   "id": "20da96f0",
   "metadata": {
    "colab": {
     "base_uri": "https://localhost:8080/"
    },
    "executionInfo": {
     "elapsed": 89,
     "status": "ok",
     "timestamp": 1705925741460,
     "user": {
      "displayName": "Anisha TaazaTV",
      "userId": "13026329044302659371"
     },
     "user_tz": -330
    },
    "id": "20da96f0",
    "outputId": "0b7b8bf3-dcc2-4fc6-837a-6162e8039919"
   },
   "outputs": [
    {
     "data": {
      "text/plain": [
       "95786683.17886856"
      ]
     },
     "execution_count": 100,
     "metadata": {},
     "output_type": "execute_result"
    }
   ],
   "source": [
    "weekly_data.Final_Cost.var()"
   ]
  },
  {
   "cell_type": "code",
   "execution_count": 101,
   "id": "e5bd4661",
   "metadata": {
    "colab": {
     "base_uri": "https://localhost:8080/"
    },
    "executionInfo": {
     "elapsed": 88,
     "status": "ok",
     "timestamp": 1705925741460,
     "user": {
      "displayName": "Anisha TaazaTV",
      "userId": "13026329044302659371"
     },
     "user_tz": -330
    },
    "id": "e5bd4661",
    "outputId": "a8e06970-453b-4f08-ffd5-e5d5d2eb5b8d"
   },
   "outputs": [
    {
     "data": {
      "text/plain": [
       "9787.067138773931"
      ]
     },
     "execution_count": 101,
     "metadata": {},
     "output_type": "execute_result"
    }
   ],
   "source": [
    "weekly_data.Final_Cost.std()"
   ]
  },
  {
   "cell_type": "markdown",
   "id": "815e1559",
   "metadata": {
    "id": "815e1559"
   },
   "source": [
    "# Insights\n",
    "Final Cost:\n",
    "\n",
    "Variance: Approximately 95,786,683.18\n",
    "Standard Deviation: Approximately 9,787.07\n",
    "Range: 55,186.71\n"
   ]
  },
  {
   "cell_type": "code",
   "execution_count": 102,
   "id": "519e7ee4",
   "metadata": {
    "colab": {
     "base_uri": "https://localhost:8080/"
    },
    "executionInfo": {
     "elapsed": 84,
     "status": "ok",
     "timestamp": 1705925741460,
     "user": {
      "displayName": "Anisha TaazaTV",
      "userId": "13026329044302659371"
     },
     "user_tz": -330
    },
    "id": "519e7ee4",
    "outputId": "87b2e34b-01bc-4043-98fa-e5a2fee8b598"
   },
   "outputs": [
    {
     "data": {
      "text/plain": [
       "90219.734"
      ]
     },
     "execution_count": 102,
     "metadata": {},
     "output_type": "execute_result"
    }
   ],
   "source": [
    "weekly_data.Final_Sales.var()\n",
    "weekly_data.Final_Sales.std()\n",
    "range = max(weekly_data.Final_Sales) - min(weekly_data.Final_Sales)\n",
    "range"
   ]
  },
  {
   "cell_type": "code",
   "execution_count": 103,
   "id": "c368b7bb",
   "metadata": {
    "colab": {
     "base_uri": "https://localhost:8080/"
    },
    "executionInfo": {
     "elapsed": 83,
     "status": "ok",
     "timestamp": 1705925741461,
     "user": {
      "displayName": "Anisha TaazaTV",
      "userId": "13026329044302659371"
     },
     "user_tz": -330
    },
    "id": "c368b7bb",
    "outputId": "33bbbf95-a82b-47a0-8a27-4154b5b6f7f2"
   },
   "outputs": [
    {
     "data": {
      "text/plain": [
       "242605457.9357198"
      ]
     },
     "execution_count": 103,
     "metadata": {},
     "output_type": "execute_result"
    }
   ],
   "source": [
    "weekly_data.Final_Sales.var()"
   ]
  },
  {
   "cell_type": "code",
   "execution_count": 104,
   "id": "0aa50200",
   "metadata": {
    "colab": {
     "base_uri": "https://localhost:8080/"
    },
    "executionInfo": {
     "elapsed": 81,
     "status": "ok",
     "timestamp": 1705925741461,
     "user": {
      "displayName": "Anisha TaazaTV",
      "userId": "13026329044302659371"
     },
     "user_tz": -330
    },
    "id": "0aa50200",
    "outputId": "ec177c5b-e24f-4fd5-e51b-47a7d792bf39"
   },
   "outputs": [
    {
     "data": {
      "text/plain": [
       "15575.79718459764"
      ]
     },
     "execution_count": 104,
     "metadata": {},
     "output_type": "execute_result"
    }
   ],
   "source": [
    "weekly_data.Final_Sales.std()"
   ]
  },
  {
   "cell_type": "markdown",
   "id": "6bb49da1",
   "metadata": {
    "id": "6bb49da1"
   },
   "source": [
    "# Insights\n",
    "Final Sales:\n",
    "\n",
    "Variance: Approximately 242,605,457.94\n",
    "Standard Deviation: Approximately 15,575.80\n",
    "Range: 90,219.73"
   ]
  },
  {
   "cell_type": "markdown",
   "id": "db66d4ee",
   "metadata": {
    "id": "db66d4ee"
   },
   "source": [
    "# Third moment Business Decission"
   ]
  },
  {
   "cell_type": "code",
   "execution_count": 105,
   "id": "c665e410",
   "metadata": {
    "colab": {
     "base_uri": "https://localhost:8080/"
    },
    "executionInfo": {
     "elapsed": 77,
     "status": "ok",
     "timestamp": 1705925741461,
     "user": {
      "displayName": "Anisha TaazaTV",
      "userId": "13026329044302659371"
     },
     "user_tz": -330
    },
    "id": "c665e410",
    "outputId": "cf6b75dc-0164-4c64-be6e-9990eb6418fa"
   },
   "outputs": [
    {
     "data": {
      "text/plain": [
       "-0.22434833670726287"
      ]
     },
     "execution_count": 105,
     "metadata": {},
     "output_type": "execute_result"
    }
   ],
   "source": [
    "weekly_data.Quantity.skew()"
   ]
  },
  {
   "cell_type": "code",
   "execution_count": 106,
   "id": "aa365a5b",
   "metadata": {
    "colab": {
     "base_uri": "https://localhost:8080/"
    },
    "executionInfo": {
     "elapsed": 73,
     "status": "ok",
     "timestamp": 1705925741461,
     "user": {
      "displayName": "Anisha TaazaTV",
      "userId": "13026329044302659371"
     },
     "user_tz": -330
    },
    "id": "aa365a5b",
    "outputId": "4d7c93ff-1072-450e-8653-ab3367b83e40"
   },
   "outputs": [
    {
     "data": {
      "text/plain": [
       "0.7901597508995204"
      ]
     },
     "execution_count": 106,
     "metadata": {},
     "output_type": "execute_result"
    }
   ],
   "source": [
    "weekly_data.Final_Cost.skew()"
   ]
  },
  {
   "cell_type": "code",
   "execution_count": 107,
   "id": "1635f1f6",
   "metadata": {
    "colab": {
     "base_uri": "https://localhost:8080/"
    },
    "executionInfo": {
     "elapsed": 71,
     "status": "ok",
     "timestamp": 1705925741462,
     "user": {
      "displayName": "Anisha TaazaTV",
      "userId": "13026329044302659371"
     },
     "user_tz": -330
    },
    "id": "1635f1f6",
    "outputId": "f7f9df6e-fc73-40a6-a6a8-f5df608effe4"
   },
   "outputs": [
    {
     "data": {
      "text/plain": [
       "0.08827756229385621"
      ]
     },
     "execution_count": 107,
     "metadata": {},
     "output_type": "execute_result"
    }
   ],
   "source": [
    "weekly_data.Final_Sales.skew()"
   ]
  },
  {
   "cell_type": "markdown",
   "id": "3e04a2c1",
   "metadata": {
    "id": "3e04a2c1"
   },
   "source": [
    "# Insights\n",
    "\n",
    "Quantity Sold: Slightly negatively skewed with heavier tails (leptokurtic).\n",
    "Final Cost: Positively skewed with heavier tails (leptokurtic).\n",
    "Final Sales: Nearly normal distribution with fewer extreme values.\n"
   ]
  },
  {
   "cell_type": "code",
   "execution_count": 107,
   "id": "d1271d96",
   "metadata": {
    "executionInfo": {
     "elapsed": 69,
     "status": "ok",
     "timestamp": 1705925741462,
     "user": {
      "displayName": "Anisha TaazaTV",
      "userId": "13026329044302659371"
     },
     "user_tz": -330
    },
    "id": "d1271d96"
   },
   "outputs": [],
   "source": []
  },
  {
   "cell_type": "markdown",
   "id": "5a6eacbf",
   "metadata": {
    "id": "5a6eacbf"
   },
   "source": [
    "# Fourth moment Business Decission"
   ]
  },
  {
   "cell_type": "code",
   "execution_count": 108,
   "id": "f6bea845",
   "metadata": {
    "colab": {
     "base_uri": "https://localhost:8080/"
    },
    "executionInfo": {
     "elapsed": 68,
     "status": "ok",
     "timestamp": 1705925741462,
     "user": {
      "displayName": "Anisha TaazaTV",
      "userId": "13026329044302659371"
     },
     "user_tz": -330
    },
    "id": "f6bea845",
    "outputId": "b606c28f-8791-43f3-cca1-212f567cc999"
   },
   "outputs": [
    {
     "data": {
      "text/plain": [
       "2.2639124453295785"
      ]
     },
     "execution_count": 108,
     "metadata": {},
     "output_type": "execute_result"
    }
   ],
   "source": [
    "weekly_data.Quantity.kurt()"
   ]
  },
  {
   "cell_type": "code",
   "execution_count": 109,
   "id": "af9e082f",
   "metadata": {
    "colab": {
     "base_uri": "https://localhost:8080/"
    },
    "executionInfo": {
     "elapsed": 820,
     "status": "ok",
     "timestamp": 1705925742216,
     "user": {
      "displayName": "Anisha TaazaTV",
      "userId": "13026329044302659371"
     },
     "user_tz": -330
    },
    "id": "af9e082f",
    "outputId": "2482edc6-c319-4b83-b8ab-26a401296d66"
   },
   "outputs": [
    {
     "data": {
      "text/plain": [
       "2.0925017593031954"
      ]
     },
     "execution_count": 109,
     "metadata": {},
     "output_type": "execute_result"
    }
   ],
   "source": [
    "weekly_data.Final_Cost.kurt()"
   ]
  },
  {
   "cell_type": "code",
   "execution_count": 110,
   "id": "31317ebe",
   "metadata": {
    "colab": {
     "base_uri": "https://localhost:8080/"
    },
    "executionInfo": {
     "elapsed": 71,
     "status": "ok",
     "timestamp": 1705925742217,
     "user": {
      "displayName": "Anisha TaazaTV",
      "userId": "13026329044302659371"
     },
     "user_tz": -330
    },
    "id": "31317ebe",
    "outputId": "56067589-f67c-4bdb-c2aa-3761d38119ae"
   },
   "outputs": [
    {
     "data": {
      "text/plain": [
       "1.7552202466263753"
      ]
     },
     "execution_count": 110,
     "metadata": {},
     "output_type": "execute_result"
    }
   ],
   "source": [
    "weekly_data.Final_Sales.kurt()"
   ]
  },
  {
   "cell_type": "markdown",
   "id": "01541d97",
   "metadata": {
    "id": "01541d97"
   },
   "source": [
    "##Inference\n",
    "Quantity Sold: Heavier tails in the distribution.\n",
    "Final Cost: Also has heavier tails.\n",
    "Final Sales: Tails are closer to a typical distribution."
   ]
  },
  {
   "cell_type": "code",
   "execution_count": 110,
   "id": "e3c0f0f2",
   "metadata": {
    "executionInfo": {
     "elapsed": 64,
     "status": "ok",
     "timestamp": 1705925742217,
     "user": {
      "displayName": "Anisha TaazaTV",
      "userId": "13026329044302659371"
     },
     "user_tz": -330
    },
    "id": "e3c0f0f2"
   },
   "outputs": [],
   "source": []
  },
  {
   "cell_type": "code",
   "execution_count": 111,
   "id": "6a603670",
   "metadata": {
    "executionInfo": {
     "elapsed": 63,
     "status": "ok",
     "timestamp": 1705925742217,
     "user": {
      "displayName": "Anisha TaazaTV",
      "userId": "13026329044302659371"
     },
     "user_tz": -330
    },
    "id": "6a603670"
   },
   "outputs": [],
   "source": [
    "import pandas as pd\n",
    "import numpy as np\n",
    "import matplotlib.pyplot as plt\n",
    "import seaborn as sns\n",
    "from feature_engine.outliers import Winsorizer\n",
    "from feature_engine import transformation\n",
    "from sklearn.preprocessing import OneHotEncoder\n",
    "from sklearn.preprocessing import LabelEncoder\n",
    "from sklearn.impute import SimpleImputer\n",
    "from feature_engine.imputation import RandomSampleImputer\n",
    "import scipy.stats as stats\n",
    "import pylab"
   ]
  },
  {
   "cell_type": "code",
   "execution_count": 112,
   "id": "424ddb22",
   "metadata": {
    "colab": {
     "base_uri": "https://localhost:8080/",
     "height": 604
    },
    "executionInfo": {
     "elapsed": 63,
     "status": "ok",
     "timestamp": 1705925742217,
     "user": {
      "displayName": "Anisha TaazaTV",
      "userId": "13026329044302659371"
     },
     "user_tz": -330
    },
    "id": "424ddb22",
    "outputId": "44aafd3e-9385-4161-aa59-d0028bfbbfde"
   },
   "outputs": [
    {
     "data": {
      "text/plain": [
       "(array([[ 1.,  0., 20., 32.],\n",
       "        [53.,  0.,  0.,  0.],\n",
       "        [53.,  0.,  0.,  0.],\n",
       "        [53.,  0.,  0.,  0.],\n",
       "        [53.,  0.,  0.,  0.],\n",
       "        [53.,  0.,  0.,  0.]]),\n",
       " array([4.00000000e+00, 1.05458840e+12, 2.10917679e+12, 3.16376519e+12,\n",
       "        4.21835359e+12]),\n",
       " <a list of 6 BarContainer objects>)"
      ]
     },
     "execution_count": 112,
     "metadata": {},
     "output_type": "execute_result"
    },
    {
     "data": {
      "image/png": "[encoded data removed]",
      "text/plain": [
       "<Figure size 640x480 with 1 Axes>"
      ]
     },
     "metadata": {},
     "output_type": "display_data"
    }
   ],
   "source": [
    "plt.hist(weekly_data,bins = 4, edgecolor = \"white\")"
   ]
  },
  {
   "cell_type": "code",
   "execution_count": 112,
   "id": "c3afb191",
   "metadata": {
    "executionInfo": {
     "elapsed": 59,
     "status": "ok",
     "timestamp": 1705925742217,
     "user": {
      "displayName": "Anisha TaazaTV",
      "userId": "13026329044302659371"
     },
     "user_tz": -330
    },
    "id": "c3afb191"
   },
   "outputs": [],
   "source": []
  },
  {
   "cell_type": "code",
   "execution_count": 113,
   "id": "f632312b",
   "metadata": {
    "colab": {
     "base_uri": "https://localhost:8080/",
     "height": 499
    },
    "executionInfo": {
     "elapsed": 58,
     "status": "ok",
     "timestamp": 1705925742217,
     "user": {
      "displayName": "Anisha TaazaTV",
      "userId": "13026329044302659371"
     },
     "user_tz": -330
    },
    "id": "f632312b",
    "outputId": "9fc28d32-b08a-4a77-a243-bb1f7131c1da"
   },
   "outputs": [
    {
     "data": {
      "text/plain": [
       "(array([ 1.,  0.,  0.,  1., 12., 16., 10.,  6.,  5.,  2.]),\n",
       " array([185. , 254.4, 323.8, 393.2, 462.6, 532. , 601.4, 670.8, 740.2,\n",
       "        809.6, 879. ]),\n",
       " <BarContainer object of 10 artists>)"
      ]
     },
     "execution_count": 113,
     "metadata": {},
     "output_type": "execute_result"
    },
    {
     "data": {
      "image/png": "[encoded data removed]",
      "text/plain": [
       "<Figure size 640x480 with 1 Axes>"
      ]
     },
     "metadata": {},
     "output_type": "display_data"
    }
   ],
   "source": [
    "plt.hist(weekly_data.Quantity,bins = 10, color = \"pink\", edgecolor = \"yellow\")"
   ]
  },
  {
   "cell_type": "code",
   "execution_count": 114,
   "id": "07d2fb56",
   "metadata": {
    "colab": {
     "base_uri": "https://localhost:8080/",
     "height": 551
    },
    "executionInfo": {
     "elapsed": 56,
     "status": "ok",
     "timestamp": 1705925742218,
     "user": {
      "displayName": "Anisha TaazaTV",
      "userId": "13026329044302659371"
     },
     "user_tz": -330
    },
    "id": "07d2fb56",
    "outputId": "22ce805d-3597-4070-b420-50b2d2f4a240"
   },
   "outputs": [
    {
     "data": {
      "text/plain": [
       "(array([ 1.,  1.,  5.,  1.,  6., 13., 15.,  3.,  2.,  0.,  3.,  2.,  0.,\n",
       "         0.,  1.]),\n",
       " array([10998.058     , 14677.17226667, 18356.28653333, 22035.4008    ,\n",
       "        25714.51506667, 29393.62933333, 33072.7436    , 36751.85786667,\n",
       "        40430.97213333, 44110.0864    , 47789.20066667, 51468.31493333,\n",
       "        55147.4292    , 58826.54346667, 62505.65773333, 66184.772     ]),\n",
       " <BarContainer object of 15 artists>)"
      ]
     },
     "execution_count": 114,
     "metadata": {},
     "output_type": "execute_result"
    },
    {
     "data": {
      "image/png": "[encoded data removed]",
      "text/plain": [
       "<Figure size 640x480 with 1 Axes>"
      ]
     },
     "metadata": {},
     "output_type": "display_data"
    }
   ],
   "source": [
    "plt.hist(weekly_data.Final_Cost, bins = 15, color = \"yellow\", edgecolor = \"pink\")"
   ]
  },
  {
   "cell_type": "code",
   "execution_count": 115,
   "id": "9df585c0",
   "metadata": {
    "colab": {
     "base_uri": "https://localhost:8080/",
     "height": 569
    },
    "executionInfo": {
     "elapsed": 824,
     "status": "ok",
     "timestamp": 1705925742990,
     "user": {
      "displayName": "Anisha TaazaTV",
      "userId": "13026329044302659371"
     },
     "user_tz": -330
    },
    "id": "9df585c0",
    "outputId": "880c6c79-6ceb-434e-c1ce-dbda0444f44d"
   },
   "outputs": [
    {
     "data": {
      "text/plain": [
       "(array([ 1.,  1.,  0.,  1.,  2.,  0.,  4.,  3., 10., 10.,  6.,  5.,  3.,\n",
       "         2.,  2.,  1.,  0.,  1.,  0.,  1.]),\n",
       " array([ 19322.512 ,  23833.4987,  28344.4854,  32855.4721,  37366.4588,\n",
       "         41877.4455,  46388.4322,  50899.4189,  55410.4056,  59921.3923,\n",
       "         64432.379 ,  68943.3657,  73454.3524,  77965.3391,  82476.3258,\n",
       "         86987.3125,  91498.2992,  96009.2859, 100520.2726, 105031.2593,\n",
       "        109542.246 ]),\n",
       " <BarContainer object of 20 artists>)"
      ]
     },
     "execution_count": 115,
     "metadata": {},
     "output_type": "execute_result"
    },
    {
     "data": {
      "image/png": "[encoded data removed]",
      "text/plain": [
       "<Figure size 640x480 with 1 Axes>"
      ]
     },
     "metadata": {},
     "output_type": "display_data"
    }
   ],
   "source": [
    "plt.hist(weekly_data.Final_Sales, bins = 20, color = \"grey\", edgecolor = \"pink\")"
   ]
  },
  {
   "cell_type": "code",
   "execution_count": 116,
   "id": "e73e6fb9",
   "metadata": {
    "colab": {
     "base_uri": "https://localhost:8080/",
     "height": 534
    },
    "executionInfo": {
     "elapsed": 30,
     "status": "ok",
     "timestamp": 1705925742991,
     "user": {
      "displayName": "Anisha TaazaTV",
      "userId": "13026329044302659371"
     },
     "user_tz": -330
    },
    "id": "e73e6fb9",
    "outputId": "cef134d5-4713-48cb-bda6-5edacc9cf8f8"
   },
   "outputs": [
    {
     "data": {
      "text/plain": [
       "(array([1., 0., 0., 0., 1., 2., 3., 2., 4., 5., 5., 6., 4., 3., 4., 3., 0.,\n",
       "        1., 2., 1., 0., 1., 1., 2., 2.]),\n",
       " array([  4.,  10.,  16.,  22.,  28.,  34.,  40.,  46.,  52.,  58.,  64.,\n",
       "         70.,  76.,  82.,  88.,  94., 100., 106., 112., 118., 124., 130.,\n",
       "        136., 142., 148., 154.]),\n",
       " <BarContainer object of 25 artists>)"
      ]
     },
     "execution_count": 116,
     "metadata": {},
     "output_type": "execute_result"
    },
    {
     "data": {
      "image/png": "[encoded data removed]",
      "text/plain": [
       "<Figure size 640x480 with 1 Axes>"
      ]
     },
     "metadata": {},
     "output_type": "display_data"
    }
   ],
   "source": [
    "plt.hist(weekly_data.ReturnQuantity, bins = 25, color = \"black\", edgecolor = \"red\")\n"
   ]
  },
  {
   "cell_type": "code",
   "execution_count": 117,
   "id": "52106b35",
   "metadata": {
    "colab": {
     "base_uri": "https://localhost:8080/",
     "height": 534
    },
    "executionInfo": {
     "elapsed": 674,
     "status": "ok",
     "timestamp": 1705925743640,
     "user": {
      "displayName": "Anisha TaazaTV",
      "userId": "13026329044302659371"
     },
     "user_tz": -330
    },
    "id": "52106b35",
    "outputId": "6ba183ef-2bc6-4f0e-b3af-f7facc5b650a"
   },
   "outputs": [
    {
     "data": {
      "text/plain": [
       "(array([ 2.,  2.,  7.,  9., 13., 13.,  2.,  3.,  1.,  0.,  0.,  0.,  1.]),\n",
       " array([  584.692     ,  2196.27276923,  3807.85353846,  5419.43430769,\n",
       "         7031.01507692,  8642.59584615, 10254.17661538, 11865.75738462,\n",
       "        13477.33815385, 15088.91892308, 16700.49969231, 18312.08046154,\n",
       "        19923.66123077, 21535.242     ]),\n",
       " <BarContainer object of 13 artists>)"
      ]
     },
     "execution_count": 117,
     "metadata": {},
     "output_type": "execute_result"
    },
    {
     "data": {
      "image/png": "[encoded data removed]",
      "text/plain": [
       "<Figure size 640x480 with 1 Axes>"
      ]
     },
     "metadata": {},
     "output_type": "display_data"
    }
   ],
   "source": [
    "plt.hist(weekly_data.RtnMRP, bins = 13, color = \"red\", edgecolor = \"black\")"
   ]
  },
  {
   "cell_type": "code",
   "execution_count": 118,
   "id": "2565de85",
   "metadata": {
    "executionInfo": {
     "elapsed": 25,
     "status": "ok",
     "timestamp": 1705925743641,
     "user": {
      "displayName": "Anisha TaazaTV",
      "userId": "13026329044302659371"
     },
     "user_tz": -330
    },
    "id": "2565de85"
   },
   "outputs": [],
   "source": [
    "plt.show()"
   ]
  },
  {
   "cell_type": "code",
   "execution_count": 119,
   "id": "e8fcc469",
   "metadata": {
    "colab": {
     "base_uri": "https://localhost:8080/",
     "height": 523
    },
    "executionInfo": {
     "elapsed": 857,
     "status": "ok",
     "timestamp": 1705925744474,
     "user": {
      "displayName": "Anisha TaazaTV",
      "userId": "13026329044302659371"
     },
     "user_tz": -330
    },
    "id": "e8fcc469",
    "outputId": "d279fa46-cdd0-4ca6-e652-7f13ea6ca1ce"
   },
   "outputs": [
    {
     "data": {
      "text/plain": [
       "<seaborn.axisgrid.FacetGrid at 0x7ee307403d00>"
      ]
     },
     "execution_count": 119,
     "metadata": {},
     "output_type": "execute_result"
    },
    {
     "data": {
      "image/png": "[encoded data removed]",
      "text/plain": [
       "<Figure size 500x500 with 1 Axes>"
      ]
     },
     "metadata": {},
     "output_type": "display_data"
    }
   ],
   "source": [
    "sns.displot(weekly_data.Quantity)"
   ]
  },
  {
   "cell_type": "code",
   "execution_count": 120,
   "id": "02bcbb71",
   "metadata": {
    "colab": {
     "base_uri": "https://localhost:8080/",
     "height": 523
    },
    "executionInfo": {
     "elapsed": 45,
     "status": "ok",
     "timestamp": 1705925744475,
     "user": {
      "displayName": "Anisha TaazaTV",
      "userId": "13026329044302659371"
     },
     "user_tz": -330
    },
    "id": "02bcbb71",
    "outputId": "e375bbec-dce3-43e0-c897-c2bc22b46193"
   },
   "outputs": [
    {
     "data": {
      "text/plain": [
       "<seaborn.axisgrid.FacetGrid at 0x7ee3097c54b0>"
      ]
     },
     "execution_count": 120,
     "metadata": {},
     "output_type": "execute_result"
    },
    {
     "data": {
      "image/png": "[encoded data removed]",
      "text/plain": [
       "<Figure size 500x500 with 1 Axes>"
      ]
     },
     "metadata": {},
     "output_type": "display_data"
    }
   ],
   "source": [
    "sns.displot(weekly_data.ReturnQuantity, color = \"red\")"
   ]
  },
  {
   "cell_type": "code",
   "execution_count": 121,
   "id": "49ba8e1c",
   "metadata": {
    "colab": {
     "base_uri": "https://localhost:8080/",
     "height": 523
    },
    "executionInfo": {
     "elapsed": 486,
     "status": "ok",
     "timestamp": 1705925744926,
     "user": {
      "displayName": "Anisha TaazaTV",
      "userId": "13026329044302659371"
     },
     "user_tz": -330
    },
    "id": "49ba8e1c",
    "outputId": "341af1cc-583d-4431-b5c3-bad253798521"
   },
   "outputs": [
    {
     "data": {
      "text/plain": [
       "<seaborn.axisgrid.FacetGrid at 0x7ee306e418a0>"
      ]
     },
     "execution_count": 121,
     "metadata": {},
     "output_type": "execute_result"
    },
    {
     "data": {
      "image/png": "[encoded data removed]",
      "text/plain": [
       "<Figure size 500x500 with 1 Axes>"
      ]
     },
     "metadata": {},
     "output_type": "display_data"
    }
   ],
   "source": [
    "sns.displot(weekly_data.Final_Cost, color = \"black\")"
   ]
  },
  {
   "cell_type": "code",
   "execution_count": 122,
   "id": "c811943c",
   "metadata": {
    "colab": {
     "base_uri": "https://localhost:8080/",
     "height": 523
    },
    "executionInfo": {
     "elapsed": 484,
     "status": "ok",
     "timestamp": 1705925745393,
     "user": {
      "displayName": "Anisha TaazaTV",
      "userId": "13026329044302659371"
     },
     "user_tz": -330
    },
    "id": "c811943c",
    "outputId": "3b3de95d-0405-4202-d37b-770696f82773"
   },
   "outputs": [
    {
     "data": {
      "text/plain": [
       "<seaborn.axisgrid.FacetGrid at 0x7ee3070af070>"
      ]
     },
     "execution_count": 122,
     "metadata": {},
     "output_type": "execute_result"
    },
    {
     "data": {
      "image/png": "[encoded data removed]",
      "text/plain": [
       "<Figure size 500x500 with 1 Axes>"
      ]
     },
     "metadata": {},
     "output_type": "display_data"
    }
   ],
   "source": [
    "sns.displot(weekly_data.RtnMRP, color = \"pink\")"
   ]
  },
  {
   "cell_type": "code",
   "execution_count": 123,
   "id": "82b9efd4",
   "metadata": {
    "colab": {
     "base_uri": "https://localhost:8080/",
     "height": 472
    },
    "executionInfo": {
     "elapsed": 1536,
     "status": "ok",
     "timestamp": 1705925746894,
     "user": {
      "displayName": "Anisha TaazaTV",
      "userId": "13026329044302659371"
     },
     "user_tz": -330
    },
    "id": "82b9efd4",
    "outputId": "fd9e3760-39b6-4b4a-d8d4-f68c66090242"
   },
   "outputs": [
    {
     "data": {
      "image/png": "[encoded data removed]",
      "text/plain": [
       "<Figure size 640x480 with 1 Axes>"
      ]
     },
     "metadata": {},
     "output_type": "display_data"
    }
   ],
   "source": [
    "# creating a sctter plot between 'Actual_Shipment_Time' and 'Planned_Shipment_Time'\n",
    "plt.scatter(data['Quantity'], data['Final_Sales'])\n",
    "plt.xlabel('Quantity')\n",
    "plt.xlabel('Final_Sales')\n",
    "plt.title('Scatter plot between Quantity and Final_Sales ')\n",
    "plt.show()"
   ]
  },
  {
   "cell_type": "code",
   "execution_count": 124,
   "id": "03e9197e",
   "metadata": {
    "colab": {
     "base_uri": "https://localhost:8080/",
     "height": 472
    },
    "executionInfo": {
     "elapsed": 867,
     "status": "ok",
     "timestamp": 1705925747728,
     "user": {
      "displayName": "Anisha TaazaTV",
      "userId": "13026329044302659371"
     },
     "user_tz": -330
    },
    "id": "03e9197e",
    "outputId": "6262143d-61e8-438a-b8df-d5f302803fe3"
   },
   "outputs": [
    {
     "data": {
      "image/png": "[encoded data removed]",
      "text/plain": [
       "<Figure size 640x480 with 1 Axes>"
      ]
     },
     "metadata": {},
     "output_type": "display_data"
    }
   ],
   "source": [
    "# creating a sctter plot between 'Actual_Shipment_Time' and 'Planned_Shipment_Time'\n",
    "plt.scatter(data['Final_Cost'], data['Final_Sales'])\n",
    "plt.xlabel('Final_Cost')\n",
    "plt.xlabel('Final_Sales')\n",
    "plt.title('Scatter plot between Final_Cost and Final_Sales ')\n",
    "plt.show()"
   ]
  },
  {
   "cell_type": "code",
   "execution_count": 124,
   "id": "77953684",
   "metadata": {
    "executionInfo": {
     "elapsed": 56,
     "status": "ok",
     "timestamp": 1705925747730,
     "user": {
      "displayName": "Anisha TaazaTV",
      "userId": "13026329044302659371"
     },
     "user_tz": -330
    },
    "id": "77953684"
   },
   "outputs": [],
   "source": []
  },
  {
   "cell_type": "markdown",
   "id": "638e2913",
   "metadata": {
    "id": "638e2913"
   },
   "source": [
    "# Auto EDA"
   ]
  },
  {
   "cell_type": "code",
   "execution_count": 6,
   "id": "08c1f1e7",
   "metadata": {
    "colab": {
     "base_uri": "https://localhost:8080/",
     "height": 210
    },
    "executionInfo": {
     "elapsed": 4312,
     "status": "error",
     "timestamp": 1705932683655,
     "user": {
      "displayName": "Anisha TaazaTV",
      "userId": "13026329044302659371"
     },
     "user_tz": -330
    },
    "id": "08c1f1e7",
    "outputId": "47d52833-9919-4a90-e377-9b6c0f77572c"
   },
   "outputs": [
    {
     "ename": "NameError",
     "evalue": "name 'data2' is not defined",
     "output_type": "error",
     "traceback": [
      "\u001b[0;31m---------------------------------------------------------------------------\u001b[0m",
      "\u001b[0;31mNameError\u001b[0m                                 Traceback (most recent call last)",
      "\u001b[0;32m<ipython-input-6-ca7bc5648d77>\u001b[0m in \u001b[0;36m<cell line: 2>\u001b[0;34m()\u001b[0m\n\u001b[1;32m      1\u001b[0m \u001b[0;32mimport\u001b[0m \u001b[0msweetviz\u001b[0m \u001b[0;32mas\u001b[0m \u001b[0msv\u001b[0m\u001b[0;34m\u001b[0m\u001b[0;34m\u001b[0m\u001b[0m\n\u001b[0;32m----> 2\u001b[0;31m \u001b[0ms\u001b[0m \u001b[0;34m=\u001b[0m \u001b[0msv\u001b[0m\u001b[0;34m.\u001b[0m\u001b[0manalyze\u001b[0m\u001b[0;34m(\u001b[0m\u001b[0mdata2\u001b[0m\u001b[0;34m)\u001b[0m\u001b[0;34m\u001b[0m\u001b[0;34m\u001b[0m\u001b[0m\n\u001b[0m\u001b[1;32m      3\u001b[0m \u001b[0ms\u001b[0m\u001b[0;34m.\u001b[0m\u001b[0mshow_html\u001b[0m\u001b[0;34m(\u001b[0m\u001b[0;34m)\u001b[0m\u001b[0;34m\u001b[0m\u001b[0;34m\u001b[0m\u001b[0m\n",
      "\u001b[0;31mNameError\u001b[0m: name 'data2' is not defined"
     ]
    }
   ],
   "source": [
    "# sweetviz\n",
    "pip install sweetviz\n",
    "import sweetviz as sv\n",
    "s = sv.analyze(data2)\n",
    "s.show_html()"
   ]
  },
  {
   "cell_type": "code",
   "execution_count": null,
   "id": "FYH6-3c7gbiA",
   "metadata": {
    "colab": {
     "base_uri": "https://localhost:8080/",
     "height": 140
    },
    "executionInfo": {
     "elapsed": 660,
     "status": "error",
     "timestamp": 1705932514147,
     "user": {
      "displayName": "Anisha TaazaTV",
      "userId": "13026329044302659371"
     },
     "user_tz": -330
    },
    "id": "FYH6-3c7gbiA",
    "outputId": "06c289af-1f4f-4793-c856-a169c2544c8f"
   },
   "outputs": [
    {
     "ename": "SyntaxError",
     "evalue": "invalid syntax (<ipython-input-2-dfab57a457c2>, line 1)",
     "output_type": "error",
     "traceback": [
      "\u001b[0;36m  File \u001b[0;32m\"<ipython-input-2-dfab57a457c2>\"\u001b[0;36m, line \u001b[0;32m1\u001b[0m\n\u001b[0;31m    pip install sweetviz\u001b[0m\n\u001b[0m        ^\u001b[0m\n\u001b[0;31mSyntaxError\u001b[0m\u001b[0;31m:\u001b[0m invalid syntax\n"
     ]
    }
   ],
   "source": [
    "# sweetviz\n",
    "pip install sweetviz\n",
    "import sweetviz as sv\n",
    "s = sv.analyze(data2)\n",
    "s.show_html()"
   ]
  },
  {
   "cell_type": "code",
   "execution_count": 4,
   "id": "97c82216",
   "metadata": {
    "colab": {
     "base_uri": "https://localhost:8080/",
     "height": 383
    },
    "executionInfo": {
     "elapsed": 45,
     "status": "error",
     "timestamp": 1705932596062,
     "user": {
      "displayName": "Anisha TaazaTV",
      "userId": "13026329044302659371"
     },
     "user_tz": -330
    },
    "id": "97c82216",
    "outputId": "7f54be95-c50a-474c-ca3a-92bafd8d7309"
   },
   "outputs": [
    {
     "ename": "ModuleNotFoundError",
     "errorDetails": {
      "actions": [
       {
        "action": "open_url",
        "actionText": "Open Examples",
        "url": "/notebooks/snippets/importing_libraries.ipynb"
       }
      ]
     },
     "evalue": "No module named 'autoviz'",
     "output_type": "error",
     "traceback": [
      "\u001b[0;31m---------------------------------------------------------------------------\u001b[0m",
      "\u001b[0;31mModuleNotFoundError\u001b[0m                       Traceback (most recent call last)",
      "\u001b[0;32m<ipython-input-4-715deffaa4d8>\u001b[0m in \u001b[0;36m<cell line: 1>\u001b[0;34m()\u001b[0m\n\u001b[0;32m----> 1\u001b[0;31m \u001b[0;32mfrom\u001b[0m \u001b[0mautoviz\u001b[0m\u001b[0;34m.\u001b[0m\u001b[0mAutoViz_Class\u001b[0m \u001b[0;32mimport\u001b[0m \u001b[0mAutoViz_Class\u001b[0m\u001b[0;34m\u001b[0m\u001b[0;34m\u001b[0m\u001b[0m\n\u001b[0m\u001b[1;32m      2\u001b[0m \u001b[0;34m\u001b[0m\u001b[0m\n\u001b[1;32m      3\u001b[0m \u001b[0mav\u001b[0m \u001b[0;34m=\u001b[0m \u001b[0mAutoViz_Class\u001b[0m\u001b[0;34m(\u001b[0m\u001b[0;34m)\u001b[0m\u001b[0;34m\u001b[0m\u001b[0;34m\u001b[0m\u001b[0m\n\u001b[1;32m      4\u001b[0m \u001b[0mget_ipython\u001b[0m\u001b[0;34m(\u001b[0m\u001b[0;34m)\u001b[0m\u001b[0;34m.\u001b[0m\u001b[0mrun_line_magic\u001b[0m\u001b[0;34m(\u001b[0m\u001b[0;34m'matplotlib'\u001b[0m\u001b[0;34m,\u001b[0m \u001b[0;34m'inline'\u001b[0m\u001b[0;34m)\u001b[0m\u001b[0;34m\u001b[0m\u001b[0;34m\u001b[0m\u001b[0m\n\u001b[1;32m      5\u001b[0m \u001b[0;31m# a= av.AutoViz(r\"fedex.csv\", chart_format = 'html')\u001b[0m\u001b[0;34m\u001b[0m\u001b[0;34m\u001b[0m\u001b[0m\n",
      "\u001b[0;31mModuleNotFoundError\u001b[0m: No module named 'autoviz'",
      "",
      "\u001b[0;31m---------------------------------------------------------------------------\u001b[0;32m\nNOTE: If your import is failing due to a missing package, you can\nmanually install dependencies using either !pip or !apt.\n\nTo view examples of installing some common dependencies, click the\n\"Open Examples\" button below.\n\u001b[0;31m---------------------------------------------------------------------------\u001b[0m\n"
     ]
    }
   ],
   "source": [
    "from autoviz.AutoViz_Class import AutoViz_Class\n",
    "\n",
    "av = AutoViz_Class()\n",
    "%matplotlib inline\n",
    "# a= av.AutoViz(r\"fedex.csv\", chart_format = 'html')\n",
    "a = av.AutoViz(r\"C:\\Users\\anish\\Desktop\\project_research\\Projectdata .xlsx.csv\")"
   ]
  },
  {
   "cell_type": "code",
   "execution_count": null,
   "id": "e0614cca",
   "metadata": {
    "executionInfo": {
     "elapsed": 40,
     "status": "aborted",
     "timestamp": 1705932596063,
     "user": {
      "displayName": "Anisha TaazaTV",
      "userId": "13026329044302659371"
     },
     "user_tz": -330
    },
    "id": "e0614cca"
   },
   "outputs": [],
   "source": []
  },
  {
   "cell_type": "code",
   "execution_count": null,
   "id": "63cd32c0",
   "metadata": {
    "executionInfo": {
     "elapsed": 38,
     "status": "aborted",
     "timestamp": 1705932596063,
     "user": {
      "displayName": "Anisha TaazaTV",
      "userId": "13026329044302659371"
     },
     "user_tz": -330
    },
    "id": "63cd32c0"
   },
   "outputs": [],
   "source": [
    "import dtale\n",
    "data = pd.read_csv(r\"C:\\Users\\anish\\Desktop\\project_research\\Projectdata .xlsx.csv\")\n",
    "d = dtale.show(data)\n",
    "d.open_browser()\n"
   ]
  },
  {
   "cell_type": "markdown",
   "id": "6bc9c017",
   "metadata": {
    "id": "6bc9c017"
   },
   "source": [
    "# SQL"
   ]
  },
  {
   "cell_type": "code",
   "execution_count": null,
   "id": "97fac3b8",
   "metadata": {
    "executionInfo": {
     "elapsed": 48,
     "status": "aborted",
     "timestamp": 1705925747733,
     "user": {
      "displayName": "Anisha TaazaTV",
      "userId": "13026329044302659371"
     },
     "user_tz": -330
    },
    "id": "97fac3b8"
   },
   "outputs": [],
   "source": [
    "import pandas as pd\n",
    "from sqlalchemy import create_engine"
   ]
  },
  {
   "cell_type": "code",
   "execution_count": null,
   "id": "fd8b6a26",
   "metadata": {
    "executionInfo": {
     "elapsed": 49,
     "status": "aborted",
     "timestamp": 1705925747734,
     "user": {
      "displayName": "Anisha TaazaTV",
      "userId": "13026329044302659371"
     },
     "user_tz": -330
    },
    "id": "fd8b6a26"
   },
   "outputs": [],
   "source": [
    "db_connection = {\n",
    "    'user': 'root',#USER\n",
    "    'password': 'Zabcd', #PASSWORD\n",
    "    'host': 'localhost', #LOCALHOST\n",
    "    'database': 'miniproject'\n",
    "}\n"
   ]
  },
  {
   "cell_type": "code",
   "execution_count": null,
   "id": "dcf14d7e",
   "metadata": {
    "executionInfo": {
     "elapsed": 48,
     "status": "aborted",
     "timestamp": 1705925747734,
     "user": {
      "displayName": "Anisha TaazaTV",
      "userId": "13026329044302659371"
     },
     "user_tz": -330
    },
    "id": "dcf14d7e"
   },
   "outputs": [],
   "source": [
    "data2.to_sql('data2', con = engine, if_exists = 'replace', chunksize = None, index= False)"
   ]
  },
  {
   "cell_type": "code",
   "execution_count": null,
   "id": "3a4ba6ce",
   "metadata": {
    "executionInfo": {
     "elapsed": 48,
     "status": "aborted",
     "timestamp": 1705925747734,
     "user": {
      "displayName": "Anisha TaazaTV",
      "userId": "13026329044302659371"
     },
     "user_tz": -330
    },
    "id": "3a4ba6ce"
   },
   "outputs": [],
   "source": [
    "sql = \"SELECT * FROM data2;\" # wright query of sql and save into variable\n",
    "Drug = pd.read_sql_query(sql, engine) # connecting query with Engine and reading the results by using \"pd.read_sql_query\"\n",
    "Drug"
   ]
  },
  {
   "cell_type": "code",
   "execution_count": null,
   "id": "86a3217f",
   "metadata": {
    "executionInfo": {
     "elapsed": 48,
     "status": "aborted",
     "timestamp": 1705925747734,
     "user": {
      "displayName": "Anisha TaazaTV",
      "userId": "13026329044302659371"
     },
     "user_tz": -330
    },
    "id": "86a3217f"
   },
   "outputs": [],
   "source": []
  },
  {
   "cell_type": "code",
   "execution_count": null,
   "id": "e23e3a16",
   "metadata": {
    "executionInfo": {
     "elapsed": 48,
     "status": "aborted",
     "timestamp": 1705925747734,
     "user": {
      "displayName": "Anisha TaazaTV",
      "userId": "13026329044302659371"
     },
     "user_tz": -330
    },
    "id": "e23e3a16"
   },
   "outputs": [],
   "source": []
  },
  {
   "cell_type": "markdown",
   "id": "afb1d7f9",
   "metadata": {
    "id": "afb1d7f9"
   },
   "source": [
    "# POWER BI"
   ]
  },
  {
   "cell_type": "code",
   "execution_count": null,
   "id": "5c9f69ab",
   "metadata": {
    "executionInfo": {
     "elapsed": 48,
     "status": "aborted",
     "timestamp": 1705925747734,
     "user": {
      "displayName": "Anisha TaazaTV",
      "userId": "13026329044302659371"
     },
     "user_tz": -330
    },
    "id": "5c9f69ab"
   },
   "outputs": [],
   "source": [
    "#To save the file for Power_BI\n",
    "data2.to_csv('preprocessed_data2.csv',index=False)"
   ]
  },
  {
   "cell_type": "code",
   "execution_count": null,
   "id": "16d2d260",
   "metadata": {
    "executionInfo": {
     "elapsed": 48,
     "status": "aborted",
     "timestamp": 1705925747734,
     "user": {
      "displayName": "Anisha TaazaTV",
      "userId": "13026329044302659371"
     },
     "user_tz": -330
    },
    "id": "16d2d260"
   },
   "outputs": [],
   "source": []
  }
 ],
 "metadata": {
  "colab": {
   "provenance": []
  },
  "kernelspec": {
   "display_name": "Python 3 (ipykernel)",
   "language": "python",
   "name": "python3"
  },
  "language_info": {
   "codemirror_mode": {
    "name": "ipython",
    "version": 3
   },
   "file_extension": ".py",
   "mimetype": "text/x-python",
   "name": "python",
   "nbconvert_exporter": "python",
   "pygments_lexer": "ipython3",
   "version": "3.11.5"
  }
 },
 "nbformat": 4,
 "nbformat_minor": 5
}
